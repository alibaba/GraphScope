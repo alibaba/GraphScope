{
 "cells": [
  {
   "cell_type": "code",
   "execution_count": 1,
   "id": "informative-insert",
   "metadata": {},
   "outputs": [
    {
     "name": "stdout",
     "output_type": "stream",
     "text": [
      "0.1.1\n"
     ]
    }
   ],
   "source": [
    "import os\n",
    "import graphscope\n",
    "\n",
    "print(graphscope.__version__)\n",
    "graphscope.set_option(show_log=True)"
   ]
  },
  {
   "cell_type": "code",
   "execution_count": 2,
   "id": "general-congo",
   "metadata": {},
   "outputs": [],
   "source": [
    "os.environ[\"GS_TEST_DIR\"] = os.path.expanduser(\"/Users/varinic/git_project/gstest/\")"
   ]
  },
  {
   "cell_type": "code",
   "execution_count": 3,
   "id": "polished-ceramic",
   "metadata": {},
   "outputs": [
    {
     "name": "stdout",
     "output_type": "stream",
     "text": [
      "2021-01-25 11:34:00,692 [INFO][session:300]: Initializing graphscope session with parameters: {'num_workers': 2, 'k8s_namespace': None, 'k8s_service_type': 'LoadBalancer', 'k8s_gs_image': 'registry.cn-hongkong.aliyuncs.com/graphscope/graphscope:0.1.1', 'k8s_etcd_image': 'quay.io/coreos/etcd:v3.4.13', 'k8s_image_pull_policy': 'IfNotPresent', 'k8s_image_pull_secrets': [], 'k8s_gie_graph_manager_image': 'registry.cn-hongkong.aliyuncs.com/graphscope/maxgraph_standalone_manager:0.1.1', 'k8s_zookeeper_image': 'zookeeper:3.4.14', 'k8s_coordinator_cpu': 1.0, 'k8s_coordinator_mem': '4Gi', 'k8s_vineyard_cpu': 0.5, 'k8s_vineyard_mem': '512Mi', 'k8s_vineyard_shared_mem': '4Gi', 'k8s_engine_cpu': 0.5, 'k8s_engine_mem': '4Gi', 'k8s_waiting_for_delete': False, 'timeout_seconds': 600, 'addr': None, 'enable_k8s': True, 'k8s_minikube_vm_driver': False, 'k8s_client_config': {}}\n",
      "2021-01-25 11:34:00,840 [INFO][cluster:358]: Launching coordinator...\n",
      "2021-01-25 11:34:03,955 [INFO][utils:136]: coordinator-pvgpyn-699fcd677f-b5mp2: Successfully assigned gs-yewnbz/coordinator-pvgpyn-699fcd677f-b5mp2 to docker-desktop\n",
      "2021-01-25 11:34:04,978 [INFO][utils:136]: coordinator-pvgpyn-699fcd677f-b5mp2: Container image \"registry.cn-hongkong.aliyuncs.com/graphscope/graphscope:0.1.1\" already present on machine\n",
      "2021-01-25 11:34:04,978 [INFO][utils:136]: coordinator-pvgpyn-699fcd677f-b5mp2: Created container coordinator\n",
      "2021-01-25 11:34:04,979 [INFO][utils:136]: coordinator-pvgpyn-699fcd677f-b5mp2: Started container coordinator\n",
      "2021-01-25 11:34:07,352 [INFO][cluster:402]: Launching GIE graph manager ...\n",
      "2021-01-25 11:34:08,517 [INFO][cluster:495]: [gs-graphmanager-sagffq-6f98cf7648-mb7nn]: Successfully assigned gs-yewnbz/gs-graphmanager-sagffq-6f98cf7648-mb7nn to docker-desktop\n",
      "2021-01-25 11:34:09,474 [INFO][cluster:495]: [gs-graphmanager-sagffq-6f98cf7648-mb7nn]: Container image \"registry.cn-hongkong.aliyuncs.com/graphscope/maxgraph_standalone_manager:0.1.1\" already present on machine\n",
      "2021-01-25 11:34:11,510 [INFO][cluster:507]: GIE graph manager service is ready.\n",
      "2021-01-25 11:34:11,511 [INFO][cluster:287]: Launching etcd ...\n",
      "2021-01-25 11:34:12,563 [INFO][cluster:517]: Etcd is ready, endpoint is 10.108.26.107:58468\n",
      "2021-01-25 11:34:12,563 [INFO][cluster:223]: Launching GraphScope engines pod ...\n",
      "2021-01-25 11:34:13,554 [INFO][cluster:565]: [gs-engine-tnsrga-f65mk]: Successfully assigned gs-yewnbz/gs-engine-tnsrga-f65mk to docker-desktop\n",
      "2021-01-25 11:34:14,566 [INFO][cluster:565]: [gs-engine-tnsrga-pzkxz]: Successfully assigned gs-yewnbz/gs-engine-tnsrga-pzkxz to docker-desktop\n",
      "2021-01-25 11:34:14,708 [INFO][cluster:565]: [gs-engine-tnsrga-pzkxz]: Container image \"registry.cn-hongkong.aliyuncs.com/graphscope/graphscope:0.1.1\" already present on machine\n",
      "2021-01-25 11:34:14,776 [INFO][cluster:565]: [gs-engine-tnsrga-pzkxz]: Created container vineyard\n",
      "2021-01-25 11:34:15,099 [INFO][cluster:565]: [gs-engine-tnsrga-pzkxz]: Started container vineyard\n",
      "2021-01-25 11:34:15,254 [INFO][cluster:565]: [gs-engine-tnsrga-pzkxz]: Created container engine\n",
      "2021-01-25 11:34:17,313 [INFO][utils:136]: coordinator-pvgpyn-699fcd677f-b5mp2: Readiness probe failed: dial tcp 10.1.2.29:59601: connect: connection refused\n",
      "2021-01-25 11:34:17,907 [INFO][cluster:565]: [gs-engine-tnsrga-f65mk]: Container image \"registry.cn-hongkong.aliyuncs.com/graphscope/graphscope:0.1.1\" already present on machine\n",
      "2021-01-25 11:34:17,908 [INFO][cluster:565]: [gs-engine-tnsrga-f65mk]: Created container vineyard\n",
      "2021-01-25 11:34:17,910 [INFO][cluster:565]: [gs-engine-tnsrga-f65mk]: Started container vineyard\n",
      "2021-01-25 11:34:17,913 [INFO][cluster:565]: [gs-engine-tnsrga-f65mk]: Created container engine\n",
      "2021-01-25 11:34:17,915 [INFO][cluster:565]: [gs-engine-tnsrga-f65mk]: Started container engine\n",
      "2021-01-25 11:34:18,913 [INFO][cluster:565]: [gs-engine-tnsrga-pzkxz]: Started container engine\n",
      "2021-01-25 11:34:30,966 [INFO][cluster:597]: GraphScope engines pod is ready.\n",
      "2021-01-25 11:34:30,974 [INFO][cluster:729]: Engines pod name list: ['gs-engine-tnsrga-f65mk', 'gs-engine-tnsrga-pzkxz']\n",
      "2021-01-25 11:34:30,974 [INFO][cluster:730]: Engines pod ip list: ['10.1.2.33', '10.1.2.32']\n",
      "2021-01-25 11:34:30,975 [INFO][cluster:731]: Engines pod host ip list: ['192.168.65.3', '192.168.65.3']\n",
      "2021-01-25 11:34:30,975 [INFO][cluster:733]: Vineyard service endpoint: localhost:9600\n",
      "2021-01-25 11:34:30,975 [INFO][cluster:637]: Starting GAE rpc service on 10.1.2.33:56305 ...\n",
      "2021-01-25 11:34:32,306 [INFO][coordinator:848]: Coordinator server listen at 0.0.0.0:59601\n",
      "2021-01-25 11:34:39,004 [INFO][cluster:560]: Coordinator pod start successful, connecting to service...\n",
      "2021-01-25 11:34:32,306 [INFO][coordinator:848]: Coordinator server listen at 0.0.0.0:59601\n",
      "I0125 11:35:21.968597   220 grape_instance.cc:42] Workers of grape-engine initialized.\n",
      "I0125 11:35:22.026412   223 analytical_server.cc:34] Analytical server is listening on 0.0.0.0:56305\n",
      "2021-01-25 11:35:23,429 [INFO][rpc:111]: GraphScope coordinator service connected.\n"
     ]
    }
   ],
   "source": [
    "sess = graphscope.session(k8s_service_type='LoadBalancer')"
   ]
  },
  {
   "cell_type": "code",
   "execution_count": 4,
   "id": "ceramic-advertiser",
   "metadata": {},
   "outputs": [],
   "source": [
    "from graphscope.dataset.ogbn_mag import load_ogbn_mag"
   ]
  },
  {
   "cell_type": "code",
   "execution_count": 5,
   "id": "rough-marina",
   "metadata": {},
   "outputs": [
    {
     "name": "stdout",
     "output_type": "stream",
     "text": [
      "2021-01-25 11:35:28,211 [INFO][utils:263]: Codegened graph frame type: vineyard::ArrowFragment<int64_t,uint64_t>\n",
      "2021-01-25 11:35:28,214 [INFO][utils:297]: Building graph library ...\n",
      "I0125 11:36:43.576378   224 grape_instance.cc:634] Registering Graph, graph type: 3, Type sig: e33529e80839a2064a804ce453c761a9483aa7ab775bcfddc1a1f9da63dcb521, lib path: /tmp/gs/builtin/e33529e80839a2064a804ce453c761a9483aa7ab775bcfddc1a1f9da63dcb521/libe33529e80839a2064a804ce453c761a9483aa7ab775bcfddc1a1f9da63dcb521.so\n",
      "I0125 11:36:43.607273   234 grape_instance.cc:634] Registering Graph, graph type: 3, Type sig: e33529e80839a2064a804ce453c761a9483aa7ab775bcfddc1a1f9da63dcb521, lib path: /tmp/gs/builtin/e33529e80839a2064a804ce453c761a9483aa7ab775bcfddc1a1f9da63dcb521/libe33529e80839a2064a804ce453c761a9483aa7ab775bcfddc1a1f9da63dcb521.so\n",
      "I0125 11:36:43.704478   224 grape_instance.cc:98] Loading graph, graph name: graph_HryDsbza, graph type: ArrowFragment, type sig: e33529e80839a2064a804ce453c761a9483aa7ab775bcfddc1a1f9da63dcb521\n",
      "I0125 11:36:43.722887   224 io_factory.cc:49] Use default file location(local) to open: /testingdata/ogbn_mag_small/author_affiliated_with_institution.csv#delimiter=,&header_row=True&schema=src_id,dst_id&column_types=int64_t,int64_t&include_all_columns=True\n",
      "I0125 11:36:43.730890   234 grape_instance.cc:98] Loading graph, graph name: graph_HryDsbza, graph type: ArrowFragment, type sig: e33529e80839a2064a804ce453c761a9483aa7ab775bcfddc1a1f9da63dcb521\n",
      "I0125 11:36:43.742316   234 io_factory.cc:49] Use default file location(local) to open: /testingdata/ogbn_mag_small/author_affiliated_with_institution.csv#delimiter=,&header_row=True&schema=src_id,dst_id&column_types=int64_t,int64_t&include_all_columns=True\n",
      "I0125 11:36:44.504026   224 io_factory.cc:49] Use default file location(local) to open: /testingdata/ogbn_mag_small/paper_cites_paper.csv#delimiter=,&header_row=True&schema=src_id,dst_id&column_types=int64_t,int64_t&include_all_columns=True\n",
      "I0125 11:36:44.504436   234 io_factory.cc:49] Use default file location(local) to open: /testingdata/ogbn_mag_small/paper_cites_paper.csv#delimiter=,&header_row=True&schema=src_id,dst_id&column_types=int64_t,int64_t&include_all_columns=True\n",
      "I0125 11:36:44.619630   234 io_factory.cc:49] Use default file location(local) to open: /testingdata/ogbn_mag_small/paper_has_topic_field_of_study.csv#delimiter=,&header_row=True&schema=src_id,dst_id&column_types=int64_t,int64_t&include_all_columns=True\n",
      "I0125 11:36:44.620564   224 io_factory.cc:49] Use default file location(local) to open: /testingdata/ogbn_mag_small/paper_has_topic_field_of_study.csv#delimiter=,&header_row=True&schema=src_id,dst_id&column_types=int64_t,int64_t&include_all_columns=True\n",
      "I0125 11:36:45.048537   224 io_factory.cc:49] Use default file location(local) to open: /testingdata/ogbn_mag_small/author_writes_paper.csv#delimiter=,&header_row=True&schema=src_id,dst_id&column_types=int64_t,int64_t&include_all_columns=True\n",
      "I0125 11:36:45.049232   234 io_factory.cc:49] Use default file location(local) to open: /testingdata/ogbn_mag_small/author_writes_paper.csv#delimiter=,&header_row=True&schema=src_id,dst_id&column_types=int64_t,int64_t&include_all_columns=True\n",
      "I0125 11:36:45.372423   234 io_factory.cc:49] Use default file location(local) to open: /testingdata/ogbn_mag_small/paper.csv#delimiter=,&header_row=True&schema=0&column_types=int64_t&include_all_columns=True\n",
      "I0125 11:36:45.414734   224 io_factory.cc:49] Use default file location(local) to open: /testingdata/ogbn_mag_small/paper.csv#delimiter=,&header_row=True&schema=0&column_types=int64_t&include_all_columns=True\n",
      "I0125 11:36:47.313931   234 io_factory.cc:49] Use default file location(local) to open: /testingdata/ogbn_mag_small/author.csv#delimiter=,&header_row=True&schema=0&column_types=int64_t&include_all_columns=True\n",
      "I0125 11:36:47.316229   224 io_factory.cc:49] Use default file location(local) to open: /testingdata/ogbn_mag_small/author.csv#delimiter=,&header_row=True&schema=0&column_types=int64_t&include_all_columns=True\n",
      "I0125 11:36:47.408860   234 io_factory.cc:49] Use default file location(local) to open: /testingdata/ogbn_mag_small/institution.csv#delimiter=,&header_row=True&schema=0&column_types=int64_t&include_all_columns=True\n",
      "I0125 11:36:47.409435   224 io_factory.cc:49] Use default file location(local) to open: /testingdata/ogbn_mag_small/institution.csv#delimiter=,&header_row=True&schema=0&column_types=int64_t&include_all_columns=True\n",
      "I0125 11:36:47.486479   224 io_factory.cc:49] Use default file location(local) to open: /testingdata/ogbn_mag_small/field_of_study.csv#delimiter=,&header_row=True&schema=0&column_types=int64_t&include_all_columns=True\n",
      "I0125 11:36:47.486980   234 io_factory.cc:49] Use default file location(local) to open: /testingdata/ogbn_mag_small/field_of_study.csv#delimiter=,&header_row=True&schema=0&column_types=int64_t&include_all_columns=True\n",
      "I0125 11:37:00.103667   234 property_graph_frame.cc:108] [worker-1] loaded graph to vineyard ...\n",
      "I0125 11:37:00.105119   224 property_graph_frame.cc:108] [worker-0] loaded graph to vineyard ...\n"
     ]
    }
   ],
   "source": [
    "g = load_ogbn_mag(sess, \"/testingdata/ogbn_mag_small/\")"
   ]
  },
  {
   "cell_type": "code",
   "execution_count": 6,
   "id": "knowing-concept",
   "metadata": {},
   "outputs": [
    {
     "name": "stdout",
     "output_type": "stream",
     "text": [
      "2021-01-25 11:37:00,681 [INFO][coordinator:416]: Coordinator create interactive instance with object id 196876521175629\n",
      "2021-01-25 11:37:40,786 [INFO][coordinator:443]: build frontend localhost:51664 for graph 196876521175629\n"
     ]
    }
   ],
   "source": [
    "interactive = sess.gremlin(g)"
   ]
  },
  {
   "cell_type": "code",
   "execution_count": 9,
   "id": "linear-cathedral",
   "metadata": {},
   "outputs": [
    {
     "name": "stdout",
     "output_type": "stream",
     "text": [
      "vertices [1, 2, 3]\n",
      "hop 1\n"
     ]
    }
   ],
   "source": [
    "graph = g.draw([1,2,3], 1, interactive)"
   ]
  },
  {
   "cell_type": "code",
   "execution_count": 10,
   "id": "demonstrated-purse",
   "metadata": {},
   "outputs": [
    {
     "data": {
      "application/vnd.jupyter.widget-view+json": {
       "model_id": "7913419c49154730b0bf5a81078188d2",
       "version_major": 2,
       "version_minor": 0
      },
      "text/plain": [
       "GraphModel(data={}, value='{\"graphVisId\": \"0\", \"nodes\": [{\"id\": \"2.-4611686018427387904\", \"parentId\": \"\", \"lab…"
      ]
     },
     "metadata": {},
     "output_type": "display_data"
    }
   ],
   "source": [
    "graph"
   ]
  },
  {
   "cell_type": "code",
   "execution_count": null,
   "id": "harmful-kidney",
   "metadata": {},
   "outputs": [],
   "source": []
  }
 ],
 "metadata": {
  "kernelspec": {
   "display_name": "Python 3",
   "language": "python",
   "name": "python3"
  },
  "language_info": {
   "codemirror_mode": {
    "name": "ipython",
    "version": 3
   },
   "file_extension": ".py",
   "mimetype": "text/x-python",
   "name": "python",
   "nbconvert_exporter": "python",
   "pygments_lexer": "ipython3",
   "version": "3.6.12"
  }
 },
 "nbformat": 4,
 "nbformat_minor": 5
}
