{
 "cells": [
  {
   "cell_type": "code",
   "execution_count": 1,
   "metadata": {},
   "outputs": [],
   "source": [
    "from ipygraphin import GraphModel\n",
    "graph = GraphModel()"
   ]
  },
  {
   "cell_type": "code",
   "execution_count": 2,
   "metadata": {},
   "outputs": [],
   "source": [
    "graph.addGraphFromData()"
   ]
  },
  {
   "cell_type": "code",
   "execution_count": 4,
   "metadata": {},
   "outputs": [
    {
     "data": {
      "application/vnd.jupyter.widget-view+json": {
       "model_id": "4049bdc90fc042798f54dfb032fb2f9b",
       "version_major": 2,
       "version_minor": 0
      },
      "text/plain": [
       "GraphModel(value='{\"nodes\": [{\"id\": \"node1\", \"label\": \"node1\"}, {\"id\": \"node2\", \"label\": \"node12\"}], \"edges\": …"
      ]
     },
     "metadata": {},
     "output_type": "display_data"
    }
   ],
   "source": [
    "graph"
   ]
  },
  {
   "cell_type": "code",
   "execution_count": 6,
   "metadata": {},
   "outputs": [],
   "source": [
    "# 更新 graph\n",
    "import json\n",
    "currentData = {\n",
    "        'nodes': [\n",
    "            {\n",
    "                'id': 'test',\n",
    "                'label': 'node1'\n",
    "            },\n",
    "            {\n",
    "                'id': 'test1',\n",
    "                'label': 'node12'\n",
    "            },\n",
    "            {\n",
    "                'id': 'test3',\n",
    "                'label': 'node13'\n",
    "            }\n",
    "        ],\n",
    "        'edges': [\n",
    "            {\n",
    "                'source': 'test',\n",
    "                'target': 'test1'\n",
    "            }\n",
    "        ]\n",
    "    }\n",
    "\n",
    "graph.value = json.dumps(currentData)"
   ]
  }
 ],
 "metadata": {
  "kernelspec": {
   "display_name": "Python 3",
   "language": "python",
   "name": "python3"
  },
  "language_info": {
   "codemirror_mode": {
    "name": "ipython",
    "version": 3
   },
   "file_extension": ".py",
   "mimetype": "text/x-python",
   "name": "python",
   "nbconvert_exporter": "python",
   "pygments_lexer": "ipython3",
   "version": "3.7.2"
  }
 },
 "nbformat": 4,
 "nbformat_minor": 4
}
