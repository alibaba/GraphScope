{
 "cells": [
  {
   "cell_type": "markdown",
   "metadata": {},
   "source": [
    "# 基于Gremlin的交互式查询\n",
    "Gremlin 是图数据领域最流行的查询语言之一，就好比关系型数据库里的 SQL 一样。接下来，我们将通过一些例子来说明 Gremlin 是如何执行图查询的。\n",
    "## 数据集\n",
    "MODERN，tinkerpop提供的示例数据集，由6个顶点和6条边组成。通过在 MODERN 基础上加入更多的边，方便我们展示更多的 gremlin 查询语句。这是所有边：\n",
    "[(1,3),(1,2),(1,4),(4,5),(4,3),(6,3),(2,4),(4,1)]"
   ]
  },
  {
   "cell_type": "code",
   "execution_count": 1,
   "metadata": {},
   "outputs": [
    {
     "name": "stdout",
     "output_type": "stream",
     "text": [
      "2021-01-31 05:32:01,430 [INFO][session:377]: Initializing graphscope session with parameters: {'num_workers': 2, 'k8s_namespace': None, 'k8s_service_type': 'NodePort', 'k8s_gs_image': 'registry.cn-hongkong.aliyuncs.com/graphscope/graphscope:0.1.2', 'k8s_etcd_image': 'quay.io/coreos/etcd:v3.4.13', 'k8s_image_pull_policy': 'IfNotPresent', 'k8s_image_pull_secrets': [], 'k8s_gie_graph_manager_image': 'registry.cn-hongkong.aliyuncs.com/graphscope/maxgraph_standalone_manager:0.1.2', 'k8s_zookeeper_image': 'zookeeper:3.4.14', 'k8s_coordinator_cpu': 1.0, 'k8s_coordinator_mem': '4Gi', 'k8s_etcd_cpu': 0.5, 'k8s_etcd_mem': '128Mi', 'k8s_zookeeper_cpu': 0.5, 'k8s_zookeeper_mem': '128Mi', 'k8s_gie_graph_manager_cpu': 1.0, 'k8s_gie_graph_manager_mem': '4Gi', 'k8s_vineyard_cpu': 0.5, 'k8s_vineyard_mem': '512Mi', 'k8s_vineyard_shared_mem': '4Gi', 'k8s_engine_cpu': 0.5, 'k8s_engine_mem': '4Gi', 'k8s_volumes': {'data': {'type': 'hostPath', 'field': {'path': '/home/jovyan/datasets/modern_graph_2', 'type': 'Directory'}, 'mounts': {'mountPath': '/home/jovyan/datasets/modern_graph_2'}}}, 'k8s_waiting_for_delete': False, 'timeout_seconds': 600, 'addr': None, 'enable_k8s': True, 'k8s_minikube_vm_driver': False, 'k8s_client_config': {}}\n",
      "2021-01-31 05:32:01,470 [INFO][cluster:405]: Launching coordinator...\n",
      "2021-01-31 05:32:04,514 [INFO][utils:144]: coordinator-ibkpwa-cd6b6df65-ppghl: Successfully assigned shirly121-cn/coordinator-ibkpwa-cd6b6df65-ppghl to cn-hongkong.192.168.0.215\n",
      "2021-01-31 05:32:04,515 [INFO][utils:144]: coordinator-ibkpwa-cd6b6df65-ppghl: Container image \"registry.cn-hongkong.aliyuncs.com/graphscope/graphscope:0.1.2\" already present on machine\n",
      "2021-01-31 05:32:04,515 [INFO][utils:144]: coordinator-ibkpwa-cd6b6df65-ppghl: Created container coordinator\n",
      "2021-01-31 05:32:04,516 [INFO][utils:144]: coordinator-ibkpwa-cd6b6df65-ppghl: Started container coordinator\n",
      "2021-01-31 13:32:04,303 [INFO][cluster:424]: Launching GIE graph manager ...\n",
      "2021-01-31 13:32:07,352 [INFO][cluster:533]: GIE graph manager service is ready.\n",
      "2021-01-31 13:32:07,352 [INFO][cluster:307]: Launching etcd ...\n",
      "2021-01-31 13:32:08,378 [INFO][cluster:543]: Etcd is ready, endpoint is 172.22.7.137:58684\n",
      "2021-01-31 13:32:08,379 [INFO][cluster:241]: Launching GraphScope engines pod ...\n",
      "2021-01-31 13:32:08,556 [INFO][cluster:591]: [gs-engine-ibkpwa-fmxc4]: Successfully assigned shirly121-cn/gs-engine-ibkpwa-fmxc4 to cn-hongkong.192.168.0.220\n",
      "2021-01-31 13:32:09,067 [INFO][cluster:591]: [gs-engine-ibkpwa-fmxc4]: Container image \"registry.cn-hongkong.aliyuncs.com/graphscope/graphscope:0.1.2\" already present on machine\n",
      "2021-01-31 13:32:09,104 [INFO][cluster:591]: [gs-engine-ibkpwa-fmxc4]: Created container vineyard\n",
      "2021-01-31 13:32:09,190 [INFO][cluster:591]: [gs-engine-ibkpwa-fmxc4]: Started container vineyard\n",
      "2021-01-31 13:32:09,224 [INFO][cluster:591]: [gs-engine-ibkpwa-fmxc4]: Created container engine\n",
      "2021-01-31 13:32:09,313 [INFO][cluster:591]: [gs-engine-ibkpwa-fmxc4]: Started container engine\n",
      "2021-01-31 13:32:12,656 [INFO][cluster:591]: [gs-engine-ibkpwa-t9sls]: Successfully assigned shirly121-cn/gs-engine-ibkpwa-t9sls to cn-hongkong.192.168.0.217\n",
      "2021-01-31 13:32:12,657 [INFO][cluster:591]: [gs-engine-ibkpwa-t9sls]: Container image \"registry.cn-hongkong.aliyuncs.com/graphscope/graphscope:0.1.2\" already present on machine\n",
      "2021-01-31 13:32:12,658 [INFO][cluster:591]: [gs-engine-ibkpwa-t9sls]: Created container vineyard\n",
      "2021-01-31 13:32:12,658 [INFO][cluster:591]: [gs-engine-ibkpwa-t9sls]: Started container vineyard\n",
      "2021-01-31 13:32:12,660 [INFO][cluster:591]: [gs-engine-ibkpwa-t9sls]: Created container engine\n",
      "2021-01-31 13:32:12,660 [INFO][cluster:591]: [gs-engine-ibkpwa-t9sls]: Started container engine\n",
      "2021-01-31 05:32:22,664 [INFO][utils:144]: coordinator-ibkpwa-cd6b6df65-ppghl: Readiness probe failed: dial tcp 172.21.2.185:59127: connect: connection refused\n",
      "2021-01-31 13:32:24,098 [INFO][cluster:623]: GraphScope engines pod is ready.\n",
      "2021-01-31 13:32:24,102 [INFO][cluster:755]: Engines pod name list: ['gs-engine-ibkpwa-fmxc4', 'gs-engine-ibkpwa-t9sls']\n",
      "2021-01-31 13:32:24,102 [INFO][cluster:756]: Engines pod ip list: ['172.21.1.122', '172.21.0.219']\n",
      "2021-01-31 13:32:24,102 [INFO][cluster:757]: Engines pod host ip list: ['192.168.0.220', '192.168.0.217']\n",
      "2021-01-31 13:32:24,102 [INFO][cluster:759]: Vineyard service endpoint: 192.168.0.220:31698\n",
      "2021-01-31 13:32:24,102 [INFO][cluster:663]: Starting GAE rpc service on 172.21.1.122:56689 ...\n",
      "2021-01-31 13:32:24,765 [INFO][coordinator:911]: Coordinator server listen at 0.0.0.0:59127\n",
      "I0131 13:32:25.918524    45 grape_instance.cc:42] Workers of grape-engine initialized.\n",
      "I0131 13:32:25.923846    48 analytical_server.cc:34] Analytical server is listening on 0.0.0.0:56689\n",
      "2021-01-31 05:32:32,856 [INFO][cluster:607]: Coordinator pod start successful, connecting to service...\n",
      "2021-01-31 05:32:32,883 [INFO][rpc:111]: GraphScope coordinator service connected.\n",
      "2021-01-31 13:32:24,765 [INFO][coordinator:911]: Coordinator server listen at 0.0.0.0:59127\n",
      "I0131 13:32:25.918524    45 grape_instance.cc:42] Workers of grape-engine initialized.\n",
      "I0131 13:32:25.923846    48 analytical_server.cc:34] Analytical server is listening on 0.0.0.0:56689\n",
      "2021-01-31 13:32:34,378 [INFO][utils:263]: Codegened graph frame type: vineyard::ArrowFragment<int64_t,uint64_t>\n",
      "2021-01-31 13:32:34,379 [INFO][utils:297]: Building graph library ...\n",
      "I0131 13:33:17.286473    49 grape_instance.cc:634] Registering Graph, graph type: 3, Type sig: e33529e80839a2064a804ce453c761a9483aa7ab775bcfddc1a1f9da63dcb521, lib path: /tmp/gs/builtin/e33529e80839a2064a804ce453c761a9483aa7ab775bcfddc1a1f9da63dcb521/libe33529e80839a2064a804ce453c761a9483aa7ab775bcfddc1a1f9da63dcb521.so\n",
      "I0131 13:33:17.317145    48 grape_instance.cc:634] Registering Graph, graph type: 3, Type sig: e33529e80839a2064a804ce453c761a9483aa7ab775bcfddc1a1f9da63dcb521, lib path: /tmp/gs/builtin/e33529e80839a2064a804ce453c761a9483aa7ab775bcfddc1a1f9da63dcb521/libe33529e80839a2064a804ce453c761a9483aa7ab775bcfddc1a1f9da63dcb521.so\n",
      "I0131 13:33:17.324043    49 grape_instance.cc:98] Loading graph, graph name: graph_ncCHryDs, graph type: ArrowFragment, type sig: e33529e80839a2064a804ce453c761a9483aa7ab775bcfddc1a1f9da63dcb521\n",
      "I0131 13:33:17.324152    48 grape_instance.cc:98] Loading graph, graph name: graph_ncCHryDs, graph type: ArrowFragment, type sig: e33529e80839a2064a804ce453c761a9483aa7ab775bcfddc1a1f9da63dcb521\n",
      "I0131 13:33:17.325732    49 io_factory.cc:49] Use default file location(local) to open: /home/jovyan/datasets/modern_graph_2/knows.csv#delimiter=|&header_row=True&schema=0,1&column_types=int64_t,int64_t&include_all_columns=True\n",
      "I0131 13:33:17.325796    48 io_factory.cc:49] Use default file location(local) to open: /home/jovyan/datasets/modern_graph_2/knows.csv#delimiter=|&header_row=True&schema=0,1&column_types=int64_t,int64_t&include_all_columns=True\n",
      "I0131 13:33:17.329844    48 io_factory.cc:49] Use default file location(local) to open: /home/jovyan/datasets/modern_graph_2/created.csv#delimiter=|&header_row=True&schema=0,1&column_types=int64_t,int64_t&include_all_columns=True\n",
      "I0131 13:33:17.329958    49 io_factory.cc:49] Use default file location(local) to open: /home/jovyan/datasets/modern_graph_2/created.csv#delimiter=|&header_row=True&schema=0,1&column_types=int64_t,int64_t&include_all_columns=True\n",
      "I0131 13:33:17.331214    48 io_factory.cc:49] Use default file location(local) to open: /home/jovyan/datasets/modern_graph_2/person.csv#delimiter=|&header_row=True&schema=id,name,age&column_types=int64_t,,int32_t\n",
      "I0131 13:33:17.331341    49 io_factory.cc:49] Use default file location(local) to open: /home/jovyan/datasets/modern_graph_2/person.csv#delimiter=|&header_row=True&schema=id,name,age&column_types=int64_t,,int32_t\n",
      "I0131 13:33:17.332717    48 io_factory.cc:49] Use default file location(local) to open: /home/jovyan/datasets/modern_graph_2/software.csv#delimiter=|&header_row=True&schema=id,name,lang&column_types=int64_t,,\n",
      "I0131 13:33:17.332837    49 io_factory.cc:49] Use default file location(local) to open: /home/jovyan/datasets/modern_graph_2/software.csv#delimiter=|&header_row=True&schema=id,name,lang&column_types=int64_t,,\n",
      "I0131 13:33:18.217051    48 property_graph_frame.cc:108] [worker-1] loaded graph to vineyard ...\n",
      "I0131 13:33:18.217186    49 property_graph_frame.cc:108] [worker-0] loaded graph to vineyard ...\n",
      "2021-01-31 13:33:18,342 [INFO][coordinator:418]: Coordinator create interactive instance with object id 4941102367245356\n",
      "2021-01-31 13:34:08,778 [INFO][coordinator:449]: build frontend 192.168.0.210:31585 for graph 4941102367245356\n"
     ]
    }
   ],
   "source": [
    "import os\n",
    "import graphscope\n",
    "from graphscope.framework.graph import Graph\n",
    "from graphscope.framework.loader import Loader\n",
    "import vineyard\n",
    "\n",
    "k8s_volumes = {\n",
    "    \"data\": {\n",
    "        \"type\": \"hostPath\",\n",
    "        \"field\": {\n",
    "          \"path\": \"/home/jovyan/datasets/modern_graph_2\",  # Path in host\n",
    "          \"type\": \"Directory\"\n",
    "        },\n",
    "        \"mounts\": {\n",
    "          \"mountPath\": \"/home/jovyan/datasets/modern_graph_2\"  # Path in pods\n",
    "          \"readOnly\": True\n",
    "        }\n",
    "    }\n",
    "}\n",
    "graphscope.set_option(show_log=True)  # enable logging\n",
    "session = graphscope.session(k8s_volumes=k8s_volumes)  # create a session\n",
    "modern_graph = session.load_from(\n",
    "    vertices={\n",
    "        \"person\": (Loader(\"/home/jovyan/datasets/modern_graph_2/person.csv\", delimiter=\"|\", header_row=True), [\"name\", (\"age\", \"int\")], \"id\"),\n",
    "        \"software\": (Loader(\"/home/jovyan/datasets/modern_graph_2/software.csv\", delimiter=\"|\", header_row=True), [\"name\", \"lang\"], \"id\"),\n",
    "    },\n",
    "    edges={\n",
    "        \"knows\": [Loader(\"/home/jovyan/datasets/modern_graph_2/knows.csv\", delimiter=\"|\"), [], (0, \"person\"), (1, \"person\")],\n",
    "        \"created\": [Loader(\"/home/jovyan/datasets/modern_graph_2/created.csv\", delimiter=\"|\"), [], (0, \"person\"), (1, \"software\")],\n",
    "    }, generate_eid=False)\n",
    "interactive = session.gremlin(modern_graph)"
   ]
  },
  {
   "cell_type": "markdown",
   "metadata": {},
   "source": [
    "## 两点之间的遍历\n",
    "两点之间的遍历是图数据领域十分常见的查询场景。例如，为了搞清楚v1和v2/v3之间的关系，我们可以这样写一条 gremlin 语句："
   ]
  },
  {
   "cell_type": "code",
   "execution_count": 2,
   "metadata": {},
   "outputs": [
    {
     "name": "stdout",
     "output_type": "stream",
     "text": [
      "[{'u': 1, 'v': 3}, {'u': 1, 'v': 2}]\n"
     ]
    }
   ],
   "source": [
    "q1 = interactive.execute(\"g.V().has(\\\"id\\\", 1).as(\\\"u\\\").out().has(\\\"id\\\", eq(2).or(eq(3))).as(\\\"v\\\").select(\\\"u\\\", \\\"v\\\").by(\\\"id\\\")\")\n",
    "for p in q1:\n",
    "    print(p)"
   ]
  },
  {
   "cell_type": "markdown",
   "metadata": {},
   "source": [
    "接下来展示一条在社交网络场景中常用的查询，例如如何找到两个不同用户之间的共同特点，用户1昵称为\"marko\"，另一个为\"peter\"。"
   ]
  },
  {
   "cell_type": "code",
   "execution_count": 3,
   "metadata": {},
   "outputs": [
    {
     "name": "stdout",
     "output_type": "stream",
     "text": [
      "[{'name': ['lop'], 'lang': ['java'], 'id': [3]}]\n"
     ]
    }
   ],
   "source": [
    "q2 = interactive.execute(\"g.V().has(\\\"name\\\", \\\"marko\\\").out().where(__.in().has(\\\"name\\\", \\\"peter\\\")).valueMap()\")\n",
    "for p in q2:\n",
    "    print(p)"
   ]
  },
  {
   "cell_type": "markdown",
   "metadata": {},
   "source": [
    "## 度的中心性\n",
    "度的中心性是衡量每个顶点邻接边数量的指标，在处理大数据时有重要意义，这里有一些示例："
   ]
  },
  {
   "cell_type": "code",
   "execution_count": 4,
   "metadata": {},
   "outputs": [
    {
     "name": "stdout",
     "output_type": "stream",
     "text": [
      "{v[0.0]: 5, v[0.1]: 2, v[1.-4611686018427387904]: 3, v[1.-4611686018427387903]: 1, v[0.2]: 1, v[0.-9223372036854775808]: 4}\n",
      "{v[0.0]: 2, v[1.-4611686018427387904]: 3, v[0.1]: 1, v[0.-9223372036854775808]: 1, v[0.2]: 0, v[1.-4611686018427387903]: 1}\n"
     ]
    }
   ],
   "source": [
    "q3 = interactive.execute(\"g.V().group().by().by(bothE().count())\")\n",
    "for p in q3:\n",
    "    print(p[0])\n",
    "q4 = interactive.execute(\"g.V().group().by().by(inE().count())\")\n",
    "for p in q4:\n",
    "    print(p[0])"
   ]
  },
  {
   "cell_type": "markdown",
   "metadata": {},
   "source": [
    "## 环的检测\n",
    "环的检测是图查询在商业领域中的另一重要应用，环通常被认为是欺诈行为的发生。这里有一个示例展示 gremlin 如何被用于发现图上的环。"
   ]
  },
  {
   "cell_type": "code",
   "execution_count": 5,
   "metadata": {},
   "outputs": [
    {
     "name": "stdout",
     "output_type": "stream",
     "text": [
      "[3]\n"
     ]
    }
   ],
   "source": [
    "q5 = interactive.execute(\"g.V().as(\\\"u\\\").repeat(out().simplePath()).times(2).where(out().where(eq(\\\"u\\\"))).count()\")\n",
    "print(q5.one())"
   ]
  }
 ],
 "metadata": {
  "kernelspec": {
   "display_name": "Python 3",
   "language": "python",
   "name": "python3"
  },
  "language_info": {
   "codemirror_mode": {
    "name": "ipython",
    "version": 3
   },
   "file_extension": ".py",
   "mimetype": "text/x-python",
   "name": "python",
   "nbconvert_exporter": "python",
   "pygments_lexer": "ipython3",
   "version": "3.8.6"
  }
 },
 "nbformat": 4,
 "nbformat_minor": 4
}
