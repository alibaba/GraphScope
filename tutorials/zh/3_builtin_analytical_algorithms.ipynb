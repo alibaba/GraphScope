{
 "cells": [
  {
   "cell_type": "markdown",
   "metadata": {},
   "source": [
    "# 内置图分析算法\n",
    "\n",
    "图分析在真实世界中有广泛的用处。许多算法比如社区发现，路径连通性，中心性算法都被证明在许多商业中非常有用。\n",
    "\n",
    "GraphScope 内置了一系列算法，使得用户可以方便的在图数据上做分析。\n",
    "\n",
    "这个教程展示了如何使用内置算法来完成图分析任务。"
   ]
  },
  {
   "cell_type": "markdown",
   "metadata": {},
   "source": [
    "## 准备工作\n",
    "\n",
    "我们首先创建一个会话并且载入一张图。\n",
    "\n",
    "这里我们使用一个人与人之间的数据集，从 [Gnutella peer-to-peer network, August 31 2002](http://snap.stanford.edu/data/p2p-Gnutella31.html) 中修改而来, 为点和边加入了属性。\n",
    "这些数据位于 `/testingdata/property`."
   ]
  },
  {
   "cell_type": "code",
   "execution_count": 1,
   "metadata": {},
   "outputs": [],
   "source": [
    "import graphscope\n",
    "from graphscope.framework.loader import Loader\n",
    "\n",
    "k8s_volumes = {\n",
    "    \"data\": {\n",
    "        \"type\": \"hostPath\",\n",
    "        \"field\": {\n",
    "          \"path\": \"/testingdata\",  # Path in host\n",
    "          \"type\": \"Directory\"\n",
    "        },\n",
    "        \"mounts\": {\n",
    "          \"mountPath\": \"/home/jovyan/datasets\",\n",
    "            \"readOnly\": True\n",
    "        }\n",
    "    }\n",
    "}\n",
    "\n",
    "graphscope.set_option(show_log=True)  # enable logging\n",
    "sess = graphscope.session(k8s_volumes=k8s_volumes)\n",
    "\n",
    "graph = sess.load_from(\n",
    "    edges={\n",
    "      \"knows\": Loader(\"/home/jovyan/datasets/property/p2p-31_property_e_0\", header_row=True)\n",
    "    },\n",
    "    vertices={\n",
    "      \"person\": Loader(\"/home/jovyan/datasets/property/p2p-31_property_v_0\", header_row=True)\n",
    "    },\n",
    "    directed=False,\n",
    "    generate_eid=False,\n",
    "  )"
   ]
  },
  {
   "cell_type": "markdown",
   "metadata": {},
   "source": [
    "来看一下图的数据模型。"
   ]
  },
  {
   "cell_type": "code",
   "execution_count": 9,
   "metadata": {
    "collapsed": true,
    "jupyter": {
     "outputs_hidden": true
    }
   },
   "outputs": [
    {
     "name": "stdout",
     "output_type": "stream",
     "text": [
      "oid_type: int64_t\n",
      "vid_type: uint64_t\n",
      "label: person\n",
      "type: VERTEX\n",
      "properties: [('weight', 'LONG'), ('id', 'LONG')]\n",
      "\n",
      "label: knows\n",
      "type: EDGE\n",
      "properties: [('src_label_id', 'LONG'), ('dst_label_id', 'LONG'), ('dist', 'LONG')]\n",
      "relations: [('person', 'person')]\n",
      "\n",
      "\n"
     ]
    }
   ],
   "source": [
    "print(graph.schema)"
   ]
  },
  {
   "cell_type": "markdown",
   "metadata": {},
   "source": [
    "如上所示，我们载入了一张属性图，点标签为 `person`，有两个属性 `weight` 和 `id`，边标签为 `knows`， 有三个属性，`src_label_id`, `dst_label_id`, `dist`。"
   ]
  },
  {
   "cell_type": "markdown",
   "metadata": {},
   "source": [
    "## 投影为简单图\n",
    "\n",
    "许多图分析算法都只能查询 **简单图**， 在这里我们定义 **简单图** 为只包含一种点和一种边，且点和边最多只有一个属性。\n",
    "\n",
    "`GraphScope` 提供了一个函数 `project_to_simple` 来将属性图投影为简单图，我们可以选择某一种点和边，以及其属性，来获得属性图的一个 **投影**。"
   ]
  },
  {
   "cell_type": "code",
   "execution_count": 10,
   "metadata": {},
   "outputs": [
    {
     "name": "stdout",
     "output_type": "stream",
     "text": [
      "I0128 13:36:46.874050    44 grape_instance.cc:159] Projecting graph, dst graph name: graph_PIhMFSv8, type sig: d41cfdc240dc1887bac2af3abe6ff92626a1ec23fd674eb1cca8da55db3d4b63\n",
      "I0128 13:36:46.885710    48 grape_instance.cc:159] Projecting graph, dst graph name: graph_PIhMFSv8, type sig: d41cfdc240dc1887bac2af3abe6ff92626a1ec23fd674eb1cca8da55db3d4b63\n"
     ]
    }
   ],
   "source": [
    "simple_graph = graph.project_to_simple(v_label=\"person\", e_label=\"knows\", v_prop=None, e_prop=\"dist\")"
   ]
  },
  {
   "cell_type": "markdown",
   "metadata": {},
   "source": [
    "## 运行算法\n",
    "\n",
    "在接下来的部分，我们将运行几个算法，并查看结果。"
   ]
  },
  {
   "cell_type": "markdown",
   "metadata": {},
   "source": [
    "### 单源最短路径\n",
    "\n",
    "单源最短路径算法（Single Source Shortest Path，接下来将以 `sssp` 代称），需要两个参数，第一个参数是 `graph`，第二个参数是查询的出发点 `src`。\n",
    "\n",
    "在这里，我们将查询从 ID 为 6 的点出发到所有点的最短路径长度。\n",
    "\n",
    "在后端，GraphScope 会生成一个兼容被查询的图的算法，编译为一个动态链接库。额外的 GraphScope 会对类型做一些检查，比如，在这里 `sssp` 算法要求边有一个 `int` 或 `double` 的属性作为距离。\n",
    "\n",
    "第一次编译动态链接库时需要一些时间，但是对于同一个算法，这一步在同样类型的图上只会进行一次。"
   ]
  },
  {
   "cell_type": "code",
   "execution_count": 13,
   "metadata": {
    "collapsed": true,
    "jupyter": {
     "outputs_hidden": true
    }
   },
   "outputs": [
    {
     "name": "stdout",
     "output_type": "stream",
     "text": [
      "2021-01-28 13:46:57,883 [INFO][utils:131]: Codegened application type: cpp_pie, app header: sssp/sssp.h, app_class: grape::SSSP<_GRAPH_TYPE>, vd_type: None, md_type: None, pregel_combine: None\n",
      "2021-01-28 13:46:57,883 [INFO][utils:135]: Codegened graph type: gs::ArrowProjectedFragment<int64_t,uint64_t,grape::EmptyType,int64_t>, Graph header: core/fragment/arrow_projected_fragment.h\n",
      "2021-01-28 13:46:57,884 [INFO][utils:187]: Building app ...\n",
      "I0128 13:47:22.588608    44 parallel_worker.h:87] [Coordinator]: Finished Init\n",
      "I0128 13:47:22.656388    44 parallel_worker.h:101] [Coordinator]: Finished PEval\n",
      "I0128 13:47:22.666712    44 parallel_worker.h:115] [Coordinator]: Finished IncEval - 1\n",
      "I0128 13:47:22.752676    44 parallel_worker.h:115] [Coordinator]: Finished IncEval - 2\n",
      "I0128 13:47:22.758292    44 parallel_worker.h:115] [Coordinator]: Finished IncEval - 3\n",
      "I0128 13:47:22.853010    44 parallel_worker.h:115] [Coordinator]: Finished IncEval - 4\n",
      "I0128 13:47:22.859604    44 parallel_worker.h:115] [Coordinator]: Finished IncEval - 5\n",
      "I0128 13:47:22.960214    44 parallel_worker.h:115] [Coordinator]: Finished IncEval - 6\n",
      "I0128 13:47:22.970386    44 parallel_worker.h:115] [Coordinator]: Finished IncEval - 7\n",
      "I0128 13:47:23.169234    44 parallel_worker.h:115] [Coordinator]: Finished IncEval - 8\n",
      "I0128 13:47:23.254874    44 parallel_worker.h:115] [Coordinator]: Finished IncEval - 9\n",
      "I0128 13:47:23.361301    44 parallel_worker.h:115] [Coordinator]: Finished IncEval - 10\n",
      "I0128 13:47:23.456003    44 parallel_worker.h:115] [Coordinator]: Finished IncEval - 11\n",
      "I0128 13:47:23.463253    44 parallel_worker.h:115] [Coordinator]: Finished IncEval - 12\n",
      "I0128 13:47:23.555835    44 parallel_worker.h:115] [Coordinator]: Finished IncEval - 13\n",
      "I0128 13:47:23.561928    44 parallel_worker.h:115] [Coordinator]: Finished IncEval - 14\n",
      "I0128 13:47:23.653522    44 parallel_worker.h:115] [Coordinator]: Finished IncEval - 15\n",
      "I0128 13:47:23.659925    44 parallel_worker.h:115] [Coordinator]: Finished IncEval - 16\n",
      "I0128 13:47:23.756559    44 parallel_worker.h:115] [Coordinator]: Finished IncEval - 17\n",
      "I0128 13:47:23.764858    44 parallel_worker.h:115] [Coordinator]: Finished IncEval - 18\n",
      "I0128 13:47:23.854413    44 parallel_worker.h:115] [Coordinator]: Finished IncEval - 19\n",
      "I0128 13:47:23.860220    44 parallel_worker.h:115] [Coordinator]: Finished IncEval - 20\n",
      "I0128 13:47:23.952991    44 parallel_worker.h:115] [Coordinator]: Finished IncEval - 21\n",
      "I0128 13:47:23.957828    44 parallel_worker.h:115] [Coordinator]: Finished IncEval - 22\n",
      "I0128 13:47:24.052232    44 parallel_worker.h:115] [Coordinator]: Finished IncEval - 23\n",
      "I0128 13:47:24.057226    44 parallel_worker.h:115] [Coordinator]: Finished IncEval - 24\n",
      "I0128 13:47:24.152271    44 parallel_worker.h:115] [Coordinator]: Finished IncEval - 25\n",
      "I0128 13:47:24.157701    44 parallel_worker.h:115] [Coordinator]: Finished IncEval - 26\n",
      "I0128 13:47:24.258255    44 parallel_worker.h:115] [Coordinator]: Finished IncEval - 27\n",
      "I0128 13:47:24.263285    44 parallel_worker.h:115] [Coordinator]: Finished IncEval - 28\n",
      "I0128 13:47:24.352430    44 parallel_worker.h:115] [Coordinator]: Finished IncEval - 29\n",
      "I0128 13:47:24.357264    44 parallel_worker.h:115] [Coordinator]: Finished IncEval - 30\n",
      "I0128 13:47:24.457592    44 parallel_worker.h:115] [Coordinator]: Finished IncEval - 31\n"
     ]
    }
   ],
   "source": [
    "from graphscope import sssp\n",
    "sssp_context = sssp(simple_graph, src=6)"
   ]
  },
  {
   "cell_type": "markdown",
   "metadata": {},
   "source": [
    "完成计算后，计算结果分布式的存储到了集群上 `vineyard` 的实例上。\n",
    "\n",
    "算法会返回一个 `Context` 对象，包含若干种取回结果的方法。\n",
    "\n",
    "关于 `Context` 的更多信息，请参照 [Context](https://graphscope.io/docs/reference/context.html)\n",
    "\n",
    "在这里，结果表示从起始点出发到所有点的最短路径，我们使用返回的对象来取得一部分结果，以及取回点ID一并展示。"
   ]
  },
  {
   "cell_type": "code",
   "execution_count": 15,
   "metadata": {
    "collapsed": true,
    "jupyter": {
     "outputs_hidden": true
    }
   },
   "outputs": [
    {
     "data": {
      "text/html": [
       "<div>\n",
       "<style scoped>\n",
       "    .dataframe tbody tr th:only-of-type {\n",
       "        vertical-align: middle;\n",
       "    }\n",
       "\n",
       "    .dataframe tbody tr th {\n",
       "        vertical-align: top;\n",
       "    }\n",
       "\n",
       "    .dataframe thead th {\n",
       "        text-align: right;\n",
       "    }\n",
       "</style>\n",
       "<table border=\"1\" class=\"dataframe\">\n",
       "  <thead>\n",
       "    <tr style=\"text-align: right;\">\n",
       "      <th></th>\n",
       "      <th>id</th>\n",
       "      <th>dist</th>\n",
       "    </tr>\n",
       "  </thead>\n",
       "  <tbody>\n",
       "    <tr>\n",
       "      <th>4</th>\n",
       "      <td>1</td>\n",
       "      <td>0.0</td>\n",
       "    </tr>\n",
       "    <tr>\n",
       "      <th>0</th>\n",
       "      <td>2</td>\n",
       "      <td>8.0</td>\n",
       "    </tr>\n",
       "    <tr>\n",
       "      <th>5</th>\n",
       "      <td>3</td>\n",
       "      <td>50.0</td>\n",
       "    </tr>\n",
       "    <tr>\n",
       "      <th>1</th>\n",
       "      <td>4</td>\n",
       "      <td>74.0</td>\n",
       "    </tr>\n",
       "    <tr>\n",
       "      <th>6</th>\n",
       "      <td>5</td>\n",
       "      <td>59.0</td>\n",
       "    </tr>\n",
       "    <tr>\n",
       "      <th>2</th>\n",
       "      <td>6</td>\n",
       "      <td>31.0</td>\n",
       "    </tr>\n",
       "    <tr>\n",
       "      <th>7</th>\n",
       "      <td>7</td>\n",
       "      <td>45.0</td>\n",
       "    </tr>\n",
       "    <tr>\n",
       "      <th>3</th>\n",
       "      <td>8</td>\n",
       "      <td>45.0</td>\n",
       "    </tr>\n",
       "    <tr>\n",
       "      <th>8</th>\n",
       "      <td>9</td>\n",
       "      <td>79.0</td>\n",
       "    </tr>\n",
       "  </tbody>\n",
       "</table>\n",
       "</div>"
      ],
      "text/plain": [
       "   id  dist\n",
       "4   1   0.0\n",
       "0   2   8.0\n",
       "5   3  50.0\n",
       "1   4  74.0\n",
       "6   5  59.0\n",
       "2   6  31.0\n",
       "7   7  45.0\n",
       "3   8  45.0\n",
       "8   9  79.0"
      ]
     },
     "execution_count": 15,
     "metadata": {},
     "output_type": "execute_result"
    }
   ],
   "source": [
    "sssp_context.to_dataframe(selector={'id': 'v.id', 'dist': 'r'}, vertex_range={'begin': 1, 'end': 10}).sort_values(by='id')"
   ]
  },
  {
   "cell_type": "markdown",
   "metadata": {},
   "source": [
    "另外， 我们还可以将结果输出到客户端的机器的文件系统上。"
   ]
  },
  {
   "cell_type": "code",
   "execution_count": null,
   "metadata": {},
   "outputs": [],
   "source": [
    "sssp_context.output_to_client('./sssp_result.csv', selector={'id': 'v.id', 'dist': 'r'})"
   ]
  },
  {
   "cell_type": "markdown",
   "metadata": {},
   "source": [
    "查看一下输出的文件。"
   ]
  },
  {
   "cell_type": "code",
   "execution_count": null,
   "metadata": {},
   "outputs": [],
   "source": [
    "!head ./sssp_result.csv"
   ]
  },
  {
   "cell_type": "markdown",
   "metadata": {},
   "source": [
    "### PageRank\n",
    "\n",
    "PageRank 是非常著名的一个图分析算法，让我们来看一下如何仅用两行计算 PageRank。"
   ]
  },
  {
   "cell_type": "code",
   "execution_count": 16,
   "metadata": {
    "collapsed": true,
    "jupyter": {
     "outputs_hidden": true
    }
   },
   "outputs": [
    {
     "name": "stdout",
     "output_type": "stream",
     "text": [
      "2021-01-28 13:57:36,659 [INFO][utils:131]: Codegened application type: cpp_pie, app header: pagerank/pagerank_auto.h, app_class: grape::PageRankAuto<_GRAPH_TYPE>, vd_type: None, md_type: None, pregel_combine: None\n",
      "2021-01-28 13:57:36,660 [INFO][utils:135]: Codegened graph type: gs::ArrowProjectedFragment<int64_t,uint64_t,grape::EmptyType,int64_t>, Graph header: core/fragment/arrow_projected_fragment.h\n",
      "2021-01-28 13:57:36,661 [INFO][utils:187]: Building app ...\n",
      "I0128 13:58:00.935423    44 auto_worker.h:101] [Coordinator]: Finished PEval\n",
      "I0128 13:58:00.996706    44 auto_worker.h:115] [Coordinator]: Finished IncEval - 1\n",
      "I0128 13:58:01.087052    44 auto_worker.h:115] [Coordinator]: Finished IncEval - 2\n",
      "I0128 13:58:01.096709    44 auto_worker.h:115] [Coordinator]: Finished IncEval - 3\n",
      "I0128 13:58:01.191363    44 auto_worker.h:115] [Coordinator]: Finished IncEval - 4\n",
      "I0128 13:58:01.287045    44 auto_worker.h:115] [Coordinator]: Finished IncEval - 5\n",
      "I0128 13:58:01.387101    44 auto_worker.h:115] [Coordinator]: Finished IncEval - 6\n",
      "I0128 13:58:01.487089    44 auto_worker.h:115] [Coordinator]: Finished IncEval - 7\n",
      "I0128 13:58:01.496948    44 auto_worker.h:115] [Coordinator]: Finished IncEval - 8\n",
      "I0128 13:58:01.591516    44 auto_worker.h:115] [Coordinator]: Finished IncEval - 9\n",
      "I0128 13:58:01.687069    44 auto_worker.h:115] [Coordinator]: Finished IncEval - 10\n",
      "I0128 13:58:01.691617    44 auto_worker.h:115] [Coordinator]: Finished IncEval - 11\n"
     ]
    }
   ],
   "source": [
    "from graphscope import pagerank\n",
    "pr_context = pagerank(simple_graph, delta=0.85, max_round=10)"
   ]
  },
  {
   "cell_type": "code",
   "execution_count": 17,
   "metadata": {
    "collapsed": true,
    "jupyter": {
     "outputs_hidden": true
    }
   },
   "outputs": [
    {
     "data": {
      "text/html": [
       "<div>\n",
       "<style scoped>\n",
       "    .dataframe tbody tr th:only-of-type {\n",
       "        vertical-align: middle;\n",
       "    }\n",
       "\n",
       "    .dataframe tbody tr th {\n",
       "        vertical-align: top;\n",
       "    }\n",
       "\n",
       "    .dataframe thead th {\n",
       "        text-align: right;\n",
       "    }\n",
       "</style>\n",
       "<table border=\"1\" class=\"dataframe\">\n",
       "  <thead>\n",
       "    <tr style=\"text-align: right;\">\n",
       "      <th></th>\n",
       "      <th>id</th>\n",
       "      <th>dist</th>\n",
       "    </tr>\n",
       "  </thead>\n",
       "  <tbody>\n",
       "    <tr>\n",
       "      <th>0</th>\n",
       "      <td>2</td>\n",
       "      <td>0.000033</td>\n",
       "    </tr>\n",
       "    <tr>\n",
       "      <th>1</th>\n",
       "      <td>4</td>\n",
       "      <td>0.000043</td>\n",
       "    </tr>\n",
       "    <tr>\n",
       "      <th>2</th>\n",
       "      <td>6</td>\n",
       "      <td>0.000017</td>\n",
       "    </tr>\n",
       "    <tr>\n",
       "      <th>3</th>\n",
       "      <td>8</td>\n",
       "      <td>0.000017</td>\n",
       "    </tr>\n",
       "    <tr>\n",
       "      <th>4</th>\n",
       "      <td>1</td>\n",
       "      <td>0.000024</td>\n",
       "    </tr>\n",
       "    <tr>\n",
       "      <th>5</th>\n",
       "      <td>3</td>\n",
       "      <td>0.000007</td>\n",
       "    </tr>\n",
       "    <tr>\n",
       "      <th>6</th>\n",
       "      <td>5</td>\n",
       "      <td>0.000011</td>\n",
       "    </tr>\n",
       "    <tr>\n",
       "      <th>7</th>\n",
       "      <td>7</td>\n",
       "      <td>0.000029</td>\n",
       "    </tr>\n",
       "    <tr>\n",
       "      <th>8</th>\n",
       "      <td>9</td>\n",
       "      <td>0.000018</td>\n",
       "    </tr>\n",
       "  </tbody>\n",
       "</table>\n",
       "</div>"
      ],
      "text/plain": [
       "   id      dist\n",
       "0   2  0.000033\n",
       "1   4  0.000043\n",
       "2   6  0.000017\n",
       "3   8  0.000017\n",
       "4   1  0.000024\n",
       "5   3  0.000007\n",
       "6   5  0.000011\n",
       "7   7  0.000029\n",
       "8   9  0.000018"
      ]
     },
     "execution_count": 17,
     "metadata": {},
     "output_type": "execute_result"
    }
   ],
   "source": [
    "pr_context.to_dataframe(selector={'id': 'v.id', 'rank': 'r'}, vertex_range={'begin': 1, 'end': 10}).sort_values(by='id')"
   ]
  },
  {
   "cell_type": "markdown",
   "metadata": {
    "jupyter": {
     "outputs_hidden": true
    }
   },
   "source": [
    "输出结果到本地。"
   ]
  },
  {
   "cell_type": "code",
   "execution_count": null,
   "metadata": {},
   "outputs": [],
   "source": [
    "pr_context.output_to_client('./pagerank_result.csv', selector={'id': 'v.id', 'rank': 'r'})"
   ]
  },
  {
   "cell_type": "markdown",
   "metadata": {},
   "source": [
    "### 弱联通分量\n",
    "\n",
    "在图理论中，无向图中的一个分量，有时被称为一个联通分量，代表一个任意两个节点之间都有边的子图，且这个子图没有指向子图外的点的边。\n",
    "\n",
    "弱联通分量算法（Weakly Connected Components， WCC）计算每个点所属的联通分量。"
   ]
  },
  {
   "cell_type": "code",
   "execution_count": null,
   "metadata": {},
   "outputs": [],
   "source": [
    "from graphscope import wcc\n",
    "wcc_context = wcc(simple_graph)\n",
    "wcc_context.to_dataframe(selector={'id': 'v.id', 'cc': 'r'}, vertex_range={'begin': 1, 'end': 10}).sort_values(by='id')"
   ]
  },
  {
   "cell_type": "markdown",
   "metadata": {},
   "source": [
    "请查阅 [Builtin algorithms](https://graphscope.io/docs/analytics_engine.html#built-in-algorithms) 来获得更多的内置算法的信息，并欢迎试用更多的算法。\n",
    "\n",
    "最后，关闭会话以释放资源。"
   ]
  },
  {
   "cell_type": "code",
   "execution_count": null,
   "metadata": {},
   "outputs": [],
   "source": [
    "sess.close()"
   ]
  }
 ],
 "metadata": {
  "kernelspec": {
   "display_name": "Python 3",
   "language": "python",
   "name": "python3"
  },
  "language_info": {
   "codemirror_mode": {
    "name": "ipython",
    "version": 3
   },
   "file_extension": ".py",
   "mimetype": "text/x-python",
   "name": "python",
   "nbconvert_exporter": "python",
   "pygments_lexer": "ipython3",
   "version": "3.7.9"
  }
 },
 "nbformat": 4,
 "nbformat_minor": 4
}
