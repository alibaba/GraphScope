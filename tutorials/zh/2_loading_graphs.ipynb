{
 "cells": [
  {
   "cell_type": "markdown",
   "metadata": {},
   "source": [
    "##### Copyright &copy; 2020 The Alibaba Authors."
   ]
  },
  {
   "cell_type": "markdown",
   "metadata": {},
   "source": [
    "# 载图"
   ]
  },
  {
   "cell_type": "markdown",
   "metadata": {},
   "source": [
    "GraphScope 以 [属性图](https://github.com/tinkerpop/blueprints/wiki/Property-Graph-Model) 建模图数据。 图上的点/边都带有标签（label），每个标签都可能带有许多属性（property)。\n",
    "\n",
    "在这个教程中，我们将展示 GraphScope 如何载入一张图，包括\n",
    "\n",
    "- 如何配置图的数据模型（schema）\n",
    "- 载图的几种简化形式\n",
    "- 从多种存储中载图\n",
    "- 从磁盘中序列化/反序列化图"
   ]
  },
  {
   "cell_type": "markdown",
   "metadata": {},
   "source": [
    "## 定义图数据模型\n",
    "\n",
    "首先，创建会话并导入相关的包"
   ]
  },
  {
   "cell_type": "code",
   "execution_count": null,
   "metadata": {},
   "outputs": [],
   "source": [
    "import os\n",
    "import graphscope\n",
    "from graphscope.framework.graph import Graph\n",
    "from graphscope.framework.loader import Loader\n",
    "import vineyard\n",
    "\n",
    "k8s_volumes = {\n",
    "    \"data\": {\n",
    "        \"type\": \"hostPath\",\n",
    "        \"field\": {\n",
    "          \"path\": \"/testingdata\",  # Path in host\n",
    "          \"type\": \"Directory\"\n",
    "        },\n",
    "        \"mounts\": {\n",
    "          \"mountPath\": \"/home/jovyan/datasets\",  # Path in pods\n",
    "          \"readOnly\": True\n",
    "        }\n",
    "    }\n",
    "}\n",
    "\n",
    "graphscope.set_option(show_log=True)  # enable logging\n",
    "sess = graphscope.session(k8s_volumes=k8s_volumes, k8s_etcd_mem='512Mi')  # create a session"
   ]
  },
  {
   "cell_type": "markdown",
   "metadata": {},
   "source": [
    "我们使用函数 `load_from` 来载入图。`load_from` 将\n",
    "\n",
    "1. 配置点和边的相关项如标签名，数据地址，属性列表等\n",
    "2. 对配置做简单的正确性验证\n",
    "3. 将数据载入内存，构造一个 `graphscope.Graph` 对象。\n",
    "\n",
    "`load_from` 的函数签名如下\n",
    "\n",
    "```python\n",
    "load_from(edges, vertices=None, directed=True, oid_type=\"int64_t\", generate_eid=True)\n",
    "```\n",
    "\n",
    "接下来，我们将逐一介绍这些参数。"
   ]
  },
  {
   "cell_type": "markdown",
   "metadata": {},
   "source": [
    "### edges\n",
    "\n",
    "必选参数。\n",
    "\n",
    "edges 是一个 `Dict`（字典），字典中的每一项键值对都代表一个边类的标签。具体来说，每一项的键是标签的名字， 其值则是一个 `Tuple`（元组） 或 `List`（列表），包含以下几项：\n",
    "\n",
    "- `Loader` 对象，代表数据源，告知 graphscope 可以在哪里找到源数据，可以是文件路径，或者 numpy 数组等；\n",
    "\n",
    "- 一组属性名字。属性名应当与数据中的首行表头中的名字相一致。可选项，如果省略或为空，除起始点列和目标点列之外的所有列都将会作为属性载入；\n",
    "\n",
    "- 定义边的起始点的元组，格式为（起点列名，起点标签名）；\n",
    "\n",
    "- 定义边的目标点的元组，格式为（目标列名，目标标签名）；\n",
    "\n",
    "\n",
    "让我们来看一个例子："
   ]
  },
  {
   "cell_type": "code",
   "execution_count": null,
   "metadata": {},
   "outputs": [],
   "source": [
    "edges={\n",
    "    # a kind of edge with label \"knows\"\n",
    "    \"knows\": (\n",
    "        # the data source, in this case, is a file location.\n",
    "        Loader(\"/home/jovyan/datasets/ldbc_sample/person_knows_person_0_0.csv\", delimiter=\"|\"),\n",
    "        # selected column names that would be load as properties\n",
    "        [\"creationDate\"],\n",
    "        # use 'Person.id' column as source id, the src label should be 'person'\n",
    "        (\"Person.id\", \"person\"),\n",
    "        # use 'Person.id.1' column as destination id, the dst label is 'person'\n",
    "        (\"Person.id.1\", \"person\")\n",
    "    )\n",
    "}"
   ]
  },
  {
   "cell_type": "markdown",
   "metadata": {},
   "source": [
    "注意到这里有个名为 `person` 的域，我们将在下一节详细介绍。\n",
    "\n",
    "在这里 `Loader` 是一个封装了如何载入数据的类，包含数据路径（包括 本地， HDFS， 亚马逊 S3，或阿里云 OSS），列分隔符以及一些其他元信息。\n",
    "\n",
    "在这里，`Loader` 指示一个挂载在 Pod 里的文件路径。"
   ]
  },
  {
   "cell_type": "markdown",
   "metadata": {},
   "source": [
    "### vertices\n",
    "\n",
    "可选项，默认为 `None`。其值只有在整张图中有且仅有一个点标签，且点上没有任何属性时才可以为 `None`，此时，点 ID 可从所有边的端点中推理得出。\n",
    "\n",
    "和边类似，一个点的字典（`Dict`） 包含一个键作为标签名，以及一系列配置项作为值。配置项包含如下几项\n",
    " \n",
    " - Loader object，代表数据源，指示 graphscope 可以在哪里找到源数据，可以为文件路径，或者 numpy 数组等；\n",
    "\n",
    " - 一组属性名字。属性名应当与数据中的首行表头中的名字相一致。可选项，如果省略或为空，除ID列之外的所有列都将会作为属性载入；\n",
    "\n",
    " - 作为ID列的列名，此列将会载入边时被用来做起始点ID或目标点ID。\n",
    "\n",
    "这里是一个点配置的例子:"
   ]
  },
  {
   "cell_type": "code",
   "execution_count": null,
   "metadata": {},
   "outputs": [],
   "source": [
    "vertices={\n",
    "    \"person\": (\n",
    "        # source file for vertices labeled as person;\n",
    "        Loader(\"/home/jovyan/datasets/ldbc_sample/person_0_0.csv\", delimiter=\"|\"),\n",
    "        # columns loaded as property\n",
    "        [\"firstName\", \"lastName\"],\n",
    "        # the column used as vertex_id\n",
    "        \"id\"\n",
    "    )\n",
    "}"
   ]
  },
  {
   "cell_type": "markdown",
   "metadata": {},
   "source": [
    "### directed\n",
    "\n",
    "可选项，默认为 `True`.\n",
    "\n",
    "参数 `directed` 代表以有向还是无向的方式载入图。"
   ]
  },
  {
   "cell_type": "code",
   "execution_count": 1,
   "metadata": {},
   "outputs": [],
   "source": [
    "directed = True"
   ]
  },
  {
   "cell_type": "markdown",
   "metadata": {},
   "source": [
    "### oid_type\n",
    "\n",
    "可选项，默认为 `int64_t`.\n",
    "\n",
    "参数 `oid_type` 指示图上的 ID 的数据类型。可选的选项为 `string` 或 `int64_t`。我们推荐尽量使用 `int64_t` 因为相比于 `string` 可以节省大量内存，并且在速度上也有提升。"
   ]
  },
  {
   "cell_type": "code",
   "execution_count": 2,
   "metadata": {},
   "outputs": [],
   "source": [
    "oid_type = 'int64_t'"
   ]
  },
  {
   "cell_type": "markdown",
   "metadata": {},
   "source": [
    "### generate_eid\n",
    "\n",
    "可选项，默认为 `True`.\n",
    "\n",
    "在某些情况下，比如 [Graph Interactive Engine](https://graphscope.io/docs/interactive_engine.html) 需要为每一条边指定一个 ID。\n",
    "\n",
    "将 `generate_eid` 置为 `True` 将为每条边自动生成一个 ID，简单来说，如果你需要将图用于交互式引擎，设置其为 `True`，否则的话置为 `False`。\n",
    "\n",
    "在这个教程里我们将其设为 `False`."
   ]
  },
  {
   "cell_type": "code",
   "execution_count": 3,
   "metadata": {},
   "outputs": [],
   "source": [
    "generate_eid = False"
   ]
  },
  {
   "cell_type": "markdown",
   "metadata": {},
   "source": [
    "现在，我们将参数组合在一起来载入图。"
   ]
  },
  {
   "cell_type": "code",
   "execution_count": null,
   "metadata": {},
   "outputs": [],
   "source": [
    "graph = sess.load_from(edges, vertices, directed, oid_type, generate_eid)"
   ]
  },
  {
   "cell_type": "markdown",
   "metadata": {},
   "source": [
    "现在，我们已经成功的在 GraphScope 中载入了一张图，其包含一种点标签，为 `person`，以及一种边标签，为 `knows`。我们可以查看一下图的配置模型："
   ]
  },
  {
   "cell_type": "code",
   "execution_count": null,
   "metadata": {},
   "outputs": [],
   "source": [
    "print(graph.schema)"
   ]
  },
  {
   "cell_type": "markdown",
   "metadata": {},
   "source": [
    "## 序列化与反序列化"
   ]
  },
  {
   "cell_type": "markdown",
   "metadata": {},
   "source": [
    "当图的规模很大时，可能要花大量时间载入（可能多达几小时）。\n",
    "\n",
    "GraphScope 提供了序列化与反序列化图数据的功能，可以将载入的图以二进制的形式序列化到磁盘上，以及从这些文件反序列化为一张图。"
   ]
  },
  {
   "cell_type": "markdown",
   "metadata": {},
   "source": [
    "### 序列化\n",
    "\n",
    "`graph.serialize` 需要一个 `path` 的参数，代表写入二进制文件的路径。"
   ]
  },
  {
   "cell_type": "code",
   "execution_count": 4,
   "metadata": {},
   "outputs": [
    {
     "ename": "NameError",
     "evalue": "name 'graph' is not defined",
     "output_type": "error",
     "traceback": [
      "\u001b[0;31m---------------------------------------------------------------------------\u001b[0m",
      "\u001b[0;31mNameError\u001b[0m                                 Traceback (most recent call last)",
      "\u001b[0;32m<ipython-input-4-0dd6a629fd41>\u001b[0m in \u001b[0;36m<module>\u001b[0;34m\u001b[0m\n\u001b[0;32m----> 1\u001b[0;31m \u001b[0mgraph\u001b[0m\u001b[0;34m.\u001b[0m\u001b[0mserialize\u001b[0m\u001b[0;34m(\u001b[0m\u001b[0;34m'/tmp/seri'\u001b[0m\u001b[0;34m)\u001b[0m\u001b[0;34m\u001b[0m\u001b[0;34m\u001b[0m\u001b[0m\n\u001b[0m",
      "\u001b[0;31mNameError\u001b[0m: name 'graph' is not defined"
     ]
    }
   ],
   "source": [
    "graph.serialize('/tmp/seri')"
   ]
  },
  {
   "cell_type": "markdown",
   "metadata": {},
   "source": [
    "### 反序列化\n",
    "\n",
    "`graph.deserialize` 的参数类似 `graph.serialize`. 但是，其 `path` 参数必须和序列化时为 `graph.serialize` 提供的 `path` 参数完全一致，因为 GraphScope 依赖命名规则去找到所有文件，注意在序列化时，所有的工作者都将其自己所持有的图数据写到一个以自己的工作者ID结尾的文件中，所以在反序列化时的工作者数目也必须和序列化时的工作者数目 **完全一致**。\n",
    "\n",
    "`graph.deserialize` 额外需要一个 `sess` 的参数，代表将反序列化后的图载入到此会话。"
   ]
  },
  {
   "cell_type": "code",
   "execution_count": null,
   "metadata": {},
   "outputs": [],
   "source": [
    "deserialized_graph = graph.deserialize('/tmp/seri', sess)"
   ]
  },
  {
   "cell_type": "markdown",
   "metadata": {},
   "source": [
    "## 多种形式载图\n",
    "\n",
    "回忆一下上一节中定义的边，其使用一个元组去保存多个配置项。\n",
    "\n",
    "配置项也可以由一个字典来定义，我们有若干保留字，分别为 `loader`, `properties`, `source` 和 `destination`。 下面定义的边和上一节的效果完全一致。"
   ]
  },
  {
   "cell_type": "code",
   "execution_count": 5,
   "metadata": {},
   "outputs": [
    {
     "ename": "NameError",
     "evalue": "name 'Loader' is not defined",
     "output_type": "error",
     "traceback": [
      "\u001b[0;31m---------------------------------------------------------------------------\u001b[0m",
      "\u001b[0;31mNameError\u001b[0m                                 Traceback (most recent call last)",
      "\u001b[0;32m<ipython-input-5-ee82e5388efe>\u001b[0m in \u001b[0;36m<module>\u001b[0;34m\u001b[0m\n\u001b[1;32m      1\u001b[0m edges={\n\u001b[1;32m      2\u001b[0m     \"knows\": (\n\u001b[0;32m----> 3\u001b[0;31m         \u001b[0mLoader\u001b[0m\u001b[0;34m(\u001b[0m\u001b[0;34m\"/testingdata/ldbc_sample/person_knows_person_0_0.csv\"\u001b[0m\u001b[0;34m)\u001b[0m\u001b[0;34m,\u001b[0m\u001b[0;34m\u001b[0m\u001b[0;34m\u001b[0m\u001b[0m\n\u001b[0m\u001b[1;32m      4\u001b[0m         \u001b[0;34m[\u001b[0m\u001b[0;34m\"creationDate\"\u001b[0m\u001b[0;34m]\u001b[0m\u001b[0;34m,\u001b[0m\u001b[0;34m\u001b[0m\u001b[0;34m\u001b[0m\u001b[0m\n\u001b[1;32m      5\u001b[0m         \u001b[0;34m(\u001b[0m\u001b[0;34m\"Person.id\"\u001b[0m\u001b[0;34m,\u001b[0m \u001b[0;34m\"person\"\u001b[0m\u001b[0;34m)\u001b[0m\u001b[0;34m,\u001b[0m\u001b[0;34m\u001b[0m\u001b[0;34m\u001b[0m\u001b[0m\n",
      "\u001b[0;31mNameError\u001b[0m: name 'Loader' is not defined"
     ]
    }
   ],
   "source": [
    "edges={\n",
    "    \"knows\": (\n",
    "        Loader(\"/home/jovyan/datasets/ldbc_sample/person_knows_person_0_0.csv\", delimiter=\"|\"),\n",
    "        [\"creationDate\"],\n",
    "        (\"Person.id\", \"person\"),\n",
    "        (\"Person.id.1\", \"person\")\n",
    "    )\n",
    "}"
   ]
  },
  {
   "cell_type": "code",
   "execution_count": 3,
   "metadata": {},
   "outputs": [],
   "source": [
    "edges = {\n",
    "    \"knows\": {\n",
    "            \"loader\": Loader(\"/home/jovyan/datasets/ldbc_sample/person_knows_person_0_0.csv\", delimiter=\"|\"),\n",
    "            \"properties\": [\"creationDate\"],\n",
    "            \"source\": (\"Person.id\", \"person\"),\n",
    "            \"destination\": (\"Person.id.1\", \"person\"),\n",
    "        },\n",
    "    }"
   ]
  },
  {
   "cell_type": "markdown",
   "metadata": {},
   "source": [
    "在一些情况下，一种边标签也许连接着多种点标签。在 LDBC 图中，**likes** 的边标签包含两个关系，比如在论坛中，人们（Person）可以 **like** 帖子(Post)，也可以 **立刻** 帖子下的评论(Comment)，这两种关系可以被表示为 person **likes** post, 以及 person **likes** comments。在这种情况下，标签 **likes** 的值可以是一个列表。"
   ]
  },
  {
   "cell_type": "code",
   "execution_count": null,
   "metadata": {},
   "outputs": [],
   "source": [
    "edges={\n",
    "    # 边标签为 \"likes\"\n",
    "    \"likes\": [\n",
    "        (\n",
    "            Loader(\"/home/jovyan/datasets/ldbc_sample/person_likes_comment_0_0.csv\", delimiter=\"|\"),\n",
    "            [\"creationDate\"],\n",
    "            (\"Person.id\", \"person\"),\n",
    "            (\"Comment.id\", \"comment\")\n",
    "        ),\n",
    "        (\n",
    "            Loader(\"/home/jovyan/datasets/ldbc_sample/person_likes_post_0_0.csv\", delimiter=\"|\"),\n",
    "            [\"creationDate\"],\n",
    "            (\"Person.id\", \"person\"),\n",
    "            (\"Post.id\", \"post\")\n",
    "        )\n",
    "    ]\n",
    "}"
   ]
  },
  {
   "cell_type": "markdown",
   "metadata": {},
   "source": [
    "对于边来说，一些域可以被省略。\n",
    "- 如果 `Loader` 只包含一个 URL，那么可以省略 `Loader` 这个类，只写 URL。\n",
    "- 属性列表可以为空，代表选择所有列。"
   ]
  },
  {
   "cell_type": "code",
   "execution_count": null,
   "metadata": {},
   "outputs": [],
   "source": [
    "edges={\n",
    "    \"knows\": (\n",
    "        \"/home/jovyan/datasets/ldbc_sample/person_knows_person_0_0.csv\",\n",
    "        [],\n",
    "        (\"Person.id\", \"person\"),\n",
    "        (\"Person.id.1\", \"person\")\n",
    "    )\n",
    "}"
   ]
  },
  {
   "cell_type": "markdown",
   "metadata": {},
   "source": [
    "另外，所有的列名都可以用其在数据中的索引值来表示。 比如，在表示源点和终点的元组中的数字表示将第0列作为源点，将第1列作为终点。"
   ]
  },
  {
   "cell_type": "code",
   "execution_count": null,
   "metadata": {},
   "outputs": [],
   "source": [
    "edges={\n",
    "    \"knows\": (\n",
    "        Loader(\"/home/jovyan/datasets/ldbc_sample/person_knows_person_0_0.csv\", delimiter=\"|\"),\n",
    "        [\"creationDate\"],\n",
    "        # 0 represents the first column.\n",
    "        (0, \"person\"),\n",
    "        # second column used as dst.\n",
    "        (1, \"person\"),\n",
    "    )\n",
    "}"
   ]
  },
  {
   "cell_type": "markdown",
   "metadata": {},
   "source": [
    "进一步的，当图中只有一个点的标签时，边的源点和终点的元组也可以被省略，此时 GraphScope 认为所有边的源点和终点都为这个唯一的无歧义的点标签。"
   ]
  },
  {
   "cell_type": "code",
   "execution_count": null,
   "metadata": {},
   "outputs": [],
   "source": [
    "edges={\n",
    "    \"group\": (\n",
    "        Loader(\"/home/jovyan/datasets/ldbc_sample/person_knows_person_0_0.csv\", delimiter=\"|\"),\n",
    "        [\"creationDate\"]\n",
    "    )\n",
    "}"
   ]
  },
  {
   "cell_type": "markdown",
   "metadata": {},
   "source": [
    "最简单的形式可以只包含一个路径，默认情况下，第0列将作为源点 ID，第1列将作为终点 ID，所有其他列都将作为属性载入。"
   ]
  },
  {
   "cell_type": "code",
   "execution_count": null,
   "metadata": {},
   "outputs": [],
   "source": [
    "edges={\n",
    "    \"knows\": Loader(\"/home/jovyan/datasets/ldbc_sample/person_knows_person_0_0.csv\", delimiter=\"|\")\n",
    "}"
   ]
  },
  {
   "cell_type": "markdown",
   "metadata": {},
   "source": [
    "Like the edges, the configuration for vertices can also be a Dict, in which the keys are “loader”, “properties” and “vid”"
   ]
  },
  {
   "cell_type": "code",
   "execution_count": null,
   "metadata": {},
   "outputs": [],
   "source": [
    "vertices={\n",
    "    \"person\": {\n",
    "        \"loader\": Loader(\"/home/jovyan/datasets/ldbc_sample/person_0_0.csv\", delimiter=\"|\"),\n",
    "        \"properties\": [\"firstName\", \"lastName\"],\n",
    "        \"vid\": \"id\",\n",
    "    },\n",
    "}"
   ]
  },
  {
   "cell_type": "markdown",
   "metadata": {},
   "source": [
    "对于点，同样可以省略某些配置。\n",
    "\n",
    "- 如果 `Loader` 只包含一个 URL，我们可以省略 `Loader`，只写入 URL。\n",
    "- 属性列表可以为空，代表载入所有列\n",
    "- id 可以为数字，表示在源数据中的 index。\n",
    "\n",
    "在最简单的情况下，点的配置可以只包含一个 URL。此时，第0列将作为 ID， 其他所有列作为属性。"
   ]
  },
  {
   "cell_type": "code",
   "execution_count": null,
   "metadata": {},
   "outputs": [],
   "source": [
    "vertices={\n",
    "    \"person\": Loader(\"/home/jovyan/datasets/ldbc_sample/person_0_0.csv\", delimiter=\"|\")\n",
    "}"
   ]
  },
  {
   "cell_type": "markdown",
   "metadata": {},
   "source": [
    "最后，我们可以省略掉点的所有配置。 GraphScope 将会从边的端点中推理出点ID，并将 `_` 作为点的标签。"
   ]
  },
  {
   "cell_type": "code",
   "execution_count": null,
   "metadata": {},
   "outputs": [],
   "source": [
    "g = sess.load_from(\n",
    "    edges={\n",
    "        \"knows\": Loader(\"/home/jovyan/datasets/ldbc_sample/person_knows_person_0_0.csv\", delimiter=\"|\")\n",
    "        }\n",
    "    )"
   ]
  },
  {
   "cell_type": "markdown",
   "metadata": {},
   "source": [
    "我们可以用讲到的知识来载入一张复杂一些的图。"
   ]
  },
  {
   "cell_type": "code",
   "execution_count": null,
   "metadata": {},
   "outputs": [],
   "source": [
    "g = sess.load_from(\n",
    "    edges={\n",
    "        \"knows\": (\n",
    "            Loader(\"/home/jovyan/datasets/ldbc_sample/person_knows_person_0_0.csv\", delimiter=\"|\"),\n",
    "            [\"creationDate\"],\n",
    "            (\"Person.id\", \"person\"),\n",
    "            (\"Person.id.1\", \"person\")\n",
    "        ),\n",
    "        \"likes\": [\n",
    "            (\n",
    "                Loader(\"/home/jovyan/datasets/ldbc_sample/person_likes_comment_0_0.csv\", delimiter=\"|\"),\n",
    "                [\"creationDate\"],\n",
    "                (\"Person.id\", \"person\"),\n",
    "                (\"Comment.id\", \"comment\")\n",
    "            ),\n",
    "            (\n",
    "                Loader(\"/home/jovyan/datasets/ldbc_sample/person_likes_post_0_0.csv\", delimiter=\"|\"),\n",
    "                [\"creationDate\"],\n",
    "                (\"Person.id\", \"person\"),\n",
    "                (\"Post.id\", \"post\")\n",
    "            )\n",
    "        ]\n",
    "    },\n",
    "    vertices={\n",
    "        \"person\": (\n",
    "            Loader(\"/home/jovyan/datasets/ldbc_sample/person_0_0.csv\", delimiter=\"|\"),\n",
    "            [\"firstName\", \"lastName\"],\n",
    "            \"id\",\n",
    "        ),\n",
    "        \"comment\": (\n",
    "            Loader(\"/home/jovyan/datasets/ldbc_sample/comment_0_0.csv\", delimiter=\"|\"),\n",
    "            [\"creationDate\"],\n",
    "            \"id\",\n",
    "        ),\n",
    "        \"post\": (\n",
    "            Loader(\"/home/jovyan/datasets/ldbc_sample/post_0_0.csv\", delimiter=\"|\"),\n",
    "            [\"creationDate\"],\n",
    "            \"id\",\n",
    "        )\n",
    "    },\n",
    ")"
   ]
  },
  {
   "cell_type": "markdown",
   "metadata": {},
   "source": [
    "## 从多种存储中载图\n",
    "\n",
    "`Loader` 定义了如何载入数据，包含路径，元信息以及其他配置。GraphScope 支持将路径将路径指定为一个 `str`。当接到 `Loader` 的请求时， GraphScope 解析这个字符串并调用 `Vineyard` 中相应协议的 driver。目前，支持的存储包括本地，亚马逊 S3，阿里云OSS， HDFS 以及网络URL。\n",
    "\n",
    "额外的，GraphScope 也支持从符合特定格式的 `pandas.DataFrame` 或 `numpy.ndarray` 中载图。\n",
    "\n",
    "载入数据的部分通过 `Vineyard` 来完成，`Vineyard` 利用 `fsspec` 来解析协议，并处理不同的格式。额外的配置参数可以通过关键字参数传递给 `Loader`， 比如为 HDFS 指定 `host` 和 `port`， 为 OSS 和 S3 指定 `access-id` 和 `secret-access-key`."
   ]
  },
  {
   "cell_type": "markdown",
   "metadata": {},
   "source": [
    "### Graphs from Location\n",
    "\n",
    "`Loader` 可以只包含一个字符串。 字符串格式遵循标准的 URI 标准。"
   ]
  },
  {
   "cell_type": "code",
   "execution_count": null,
   "metadata": {},
   "outputs": [],
   "source": [
    "ds1 = Loader(\"file:///var/datafiles/edgefile.e\")"
   ]
  },
  {
   "cell_type": "markdown",
   "metadata": {},
   "source": [
    "用户需要提供 `key` 和 `secret` 以从 S3 中载图。额外的参数可以通过 `client_kwargs` 来传递, 比如桶的区域 `region_name`."
   ]
  },
  {
   "cell_type": "code",
   "execution_count": null,
   "metadata": {},
   "outputs": [],
   "source": [
    "ds2 = Loader(\"s3://bucket/datafiles/edgefile.e\", key='access-id', secret='secret-access-key', client_kwargs={'region_name': 'us-east-1'})"
   ]
  },
  {
   "cell_type": "markdown",
   "metadata": {},
   "source": [
    "用户需要提供 `key`，`secret` 以及桶所在的的 `endpoint` 以从 OSS 中载图。"
   ]
  },
  {
   "cell_type": "code",
   "execution_count": null,
   "metadata": {},
   "outputs": [],
   "source": [
    "ds3 = Loader(\"oss://bucket/datafiles/edgefile.e\", key='access-id', secret='secret-access-key', endpoint='oss-cn-hangzhou.aliyuncs.com')"
   ]
  },
  {
   "cell_type": "markdown",
   "metadata": {},
   "source": [
    "用户需要提供 `host` 和 `port` 以从 HDFS 中载图，额外的参数可以通过 `extra_conf` 传递。"
   ]
  },
  {
   "cell_type": "code",
   "execution_count": null,
   "metadata": {},
   "outputs": [],
   "source": [
    "ds4 = Loader(\"hdfs:///var/datafiles/edgefile.e\", host='localhost', port='9000', extra_conf={'conf1': 'value1'})"
   ]
  },
  {
   "cell_type": "markdown",
   "metadata": {},
   "source": [
    "我们来看一个从 S3 中载图的例子。"
   ]
  },
  {
   "cell_type": "code",
   "execution_count": null,
   "metadata": {},
   "outputs": [],
   "source": [
    "graph = sess.load_from(\n",
    "    edges={\n",
    "        \"knows\": (\n",
    "                Loader(\"s3://datasets/ldbc_sample/person_knows_person_0_0.csv\", delimiter=\"|\", key='testing', secret='testing', client_kwargs={\n",
    "                    \"endpoint_url\": \"http://192.168.0.222:5000\"\n",
    "                }),\n",
    "            )\n",
    "    },\n",
    "    vertices={\n",
    "        \"person\": (\n",
    "            Loader(\"s3://datasets/ldbc_sample/person_0_0.csv\", delimiter=\"|\", key='testing', secret='testing', client_kwargs={\n",
    "                    \"endpoint_url\": \"http://192.168.0.222:5000\"\n",
    "                }),\n",
    "        ),\n",
    "    },\n",
    ")\n",
    "print(graph.schema)"
   ]
  },
  {
   "cell_type": "markdown",
   "metadata": {},
   "source": [
    "### 从 Numpy 和 Pandas 中载图\n",
    "\n",
    "对于 `pandas` 来说，其 `DataFrame` 的格式应和 CSV 文件中数据的格式一致。\n",
    "当前支持的数据类型只包括 `int64` 和 `float64`。"
   ]
  },
  {
   "cell_type": "code",
   "execution_count": null,
   "metadata": {},
   "outputs": [],
   "source": [
    "import numpy as np\n",
    "import pandas as pd"
   ]
  },
  {
   "cell_type": "code",
   "execution_count": null,
   "metadata": {},
   "outputs": [],
   "source": [
    "leader_id = np.array([0, 0, 0, 1, 1, 3, 3, 6, 6, 6, 7, 7, 8])\n",
    "member_id = np.array([2, 3, 4, 5, 6, 6, 8, 0, 2, 8, 8, 9, 9])\n",
    "group_size = np.array([4, 4, 4, 3, 3, 3, 3, 3, 3, 3, 3, 3, 2])\n",
    "e_data = np.transpose(np.vstack([leader_id, member_id, group_size]))\n",
    "df_group = pd.DataFrame(e_data, columns=['leader_id', 'member_id', 'group_size'])"
   ]
  },
  {
   "cell_type": "code",
   "execution_count": null,
   "metadata": {},
   "outputs": [],
   "source": [
    "student_id = np.array([0, 1, 2, 3, 4, 5, 6, 7, 8, 9])\n",
    "avg_score = np.array([490.33, 164.5 , 190.25, 762. , 434.2, 513. , 569. ,  25. , 308. ,  87. ])\n",
    "v_data = np.transpose(np.vstack([student_id, avg_score]))\n",
    "df_student = pd.DataFrame(v_data, columns=['student_id', 'avg_score']).astype({'student_id': np.int64})"
   ]
  },
  {
   "cell_type": "code",
   "execution_count": null,
   "metadata": {},
   "outputs": [],
   "source": [
    "# use a dataframe as datasource, properties omitted, col_0/col_1 will be used as src/dst by default.\n",
    "# (for vertices, col_0 will be used as vertex_id by default)\n",
    "g = sess.load_from(edges=df_group, vertices=df_student)"
   ]
  },
  {
   "cell_type": "markdown",
   "metadata": {},
   "source": [
    "对于 `numpy` 来说，可以传入一组COO格式的数组。"
   ]
  },
  {
   "cell_type": "code",
   "execution_count": null,
   "metadata": {},
   "outputs": [],
   "source": [
    "array_group = [df_group[col].values for col in ['leader_id', 'member_id', 'group_size']]\n",
    "array_student = [df_student[col].values for col in ['student_id', 'avg_score']]\n",
    "\n",
    "g = sess.load_from(edges=array_group, vertices=array_student)"
   ]
  },
  {
   "cell_type": "markdown",
   "metadata": {},
   "source": [
    "最后，关闭会话以释放所有资源。"
   ]
  },
  {
   "cell_type": "code",
   "execution_count": null,
   "metadata": {},
   "outputs": [],
   "source": [
    "sess.close()"
   ]
  }
 ],
 "metadata": {
  "kernelspec": {
   "display_name": "Python 3",
   "language": "python",
   "name": "python3"
  },
  "language_info": {
   "codemirror_mode": {
    "name": "ipython",
    "version": 3
   },
   "file_extension": ".py",
   "mimetype": "text/x-python",
   "name": "python",
   "nbconvert_exporter": "python",
   "pygments_lexer": "ipython3",
   "version": "3.7.9"
  }
 },
 "nbformat": 4,
 "nbformat_minor": 4
}
