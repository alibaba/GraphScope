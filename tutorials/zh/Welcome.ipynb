{
 "cells": [
  {
   "cell_type": "markdown",
   "metadata": {},
   "source": [
    "# 欢迎使用 GraphScope Playground"
   ]
  },
  {
   "cell_type": "markdown",
   "metadata": {},
   "source": [
    "欢迎来到 GraphScope Playground，在这里您将快速了解 GraphScope。这个 Playground 基于 JupyterHub 提供了 Python Notebook 环境，让您可以在浏览器中就使用 GraphScope 以及我们提供的云端计算资源。\n",
    "\n",
    "在这个 Playground 中，可以十分便捷的执行 Python 代码。例如，要打印 “Hello World”，只需将鼠标悬停在[]上，然后按左上角的播放按钮。 或按 shift 和回车即能执行。"
   ]
  },
  {
   "cell_type": "code",
   "execution_count": null,
   "metadata": {},
   "outputs": [],
   "source": [
    "print(\"hello world\")"
   ]
  },
  {
   "cell_type": "markdown",
   "metadata": {},
   "source": [
    "我们提供了一系列教程来帮助您熟悉和试用 GraphScope 来处理图计算任务。您可以在左侧边栏查看所有可用的教程。这个 Playground 已经配置好所有 GraphScope 所需的依赖项，让我们从导入 GraphScope 包开始吧！"
   ]
  },
  {
   "cell_type": "code",
   "execution_count": null,
   "metadata": {},
   "outputs": [],
   "source": [
    "# run this code, if you are NOT in the GraphScope Playground.\n",
    "!pip install graphscope"
   ]
  },
  {
   "cell_type": "code",
   "execution_count": null,
   "metadata": {},
   "outputs": [],
   "source": [
    "import graphscope\n",
    "\n",
    "graphscope.__version__"
   ]
  },
  {
   "cell_type": "markdown",
   "metadata": {},
   "source": [
    "除了试用我们提供的教程，您也可以自己创建新的文件。不过请注意，您的文件只有在 `Workspace` 目录下才能被保存。位于其他位置的用户创建文件将随着会话结束而被销毁。"
   ]
  },
  {
   "cell_type": "markdown",
   "metadata": {},
   "source": [
    "## 教程目录\n",
    "\n",
    "* [01. 论文引用关系网中的节点分类任务](./01_node_classification_on_citation_network.ipynb)\n",
    "* [02. 使用兼容 NetworkX 的 API 进行图操作](./02_graph_manipulations_with_networkx_compatible_apis.ipynb)\n",
    "* [03. 用 GraphScope 像 NetworkX 一样做图分析](./03_run_graphscope_like_networkx.ipynb)\n",
    "* [04. 载入图数据](./04_loading_graphs.ipynb)\n",
    "* [05. 内置的图分析算法](./05_builtin_analytical_algorithms.ipynb)\n",
    "* [06. 编写自定义图分析算法](./06_writing_your_own_algorithms.ipynb)\n",
    "* [07. 使用查询语言 Gremlin 进行交互式查询](./07_interactive_query_with_gremlin.ipynb)\n",
    "* [08. 使用 GraphSAGE 进行无监督图学习](./08_unsupervised_learning_with_graphsage.ipynb)\n",
    "* [09. 使用 GraphSAGE 进行有监督图学习](./09_supervised_learning_with_graphsage.ipynb)\n",
    "* [10. 基于 Kubernetes 环境再探论文引用网络中的节点分类任务](./10_revisit_classification_on_citation_network_on_k8s.ipynb)"
   ]
  }
 ],
 "metadata": {
  "kernelspec": {
   "display_name": "Python 3",
   "language": "python",
   "name": "python3"
  },
  "language_info": {
   "codemirror_mode": {
    "name": "ipython",
    "version": 3
   },
   "file_extension": ".py",
   "mimetype": "text/x-python",
   "name": "python",
   "nbconvert_exporter": "python",
   "pygments_lexer": "ipython3",
   "version": "3.8.5"
  }
 },
 "nbformat": 4,
 "nbformat_minor": 4
}
