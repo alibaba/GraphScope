{
 "cells": [
  {
   "cell_type": "markdown",
   "metadata": {},
   "source": [
    "# 如何创建会话\n",
    "\n",
    "创建一个会话 （Session） 以使用 GraphScope。\n",
    "\n",
    "会话封装了 GraphScope 的引擎的控制和状态。会话是 Python 客户端中的类，作为 GraphScope 的入口。用户可以使用会话在 K8s 集群上部署和连接到 GraphScope。\n",
    "\n",
    "在这个教程中，我们会展示：\n",
    "\n",
    "* 如何建立一个默认会话\n",
    "* 建立会话的多种方式\n",
    "* 如何将外部硬盘挂载到集群中"
   ]
  },
  {
   "cell_type": "markdown",
   "metadata": {},
   "source": [
    "## 基础用法\n",
    "\n",
    "首先，引入 graphscope 包。"
   ]
  },
  {
   "cell_type": "code",
   "execution_count": null,
   "metadata": {},
   "outputs": [],
   "source": [
    "import graphscope"
   ]
  },
  {
   "cell_type": "markdown",
   "metadata": {},
   "source": [
    "为了更好的理解部署过程，将 `show_log` 设置为 `True` 以获得详细的日志。"
   ]
  },
  {
   "cell_type": "code",
   "execution_count": null,
   "metadata": {},
   "outputs": [],
   "source": [
    "graphscope.set_option(show_log=True)"
   ]
  },
  {
   "cell_type": "markdown",
   "metadata": {},
   "source": [
    "即使没有任何参数，也可以简单的创建一个默认会话。"
   ]
  },
  {
   "cell_type": "code",
   "execution_count": null,
   "metadata": {},
   "outputs": [],
   "source": [
    "s1 = graphscope.session()"
   ]
  },
  {
   "cell_type": "markdown",
   "metadata": {},
   "source": [
    "命令执行后，会话会首先尝试去拉起协调者（Coordinator)，其为后端引擎的入口。协调者管理一个由 K8s Pod 组成的集群 （默认有二个 Pod），图交互引擎，图分析引擎，图学习引擎运行在集群上。对于集群中的每一个 Pod，都有一个 Vineyard 实例运行，提供内存中的分布式内存访问。\n",
    "\n",
    "运行上面的代码单元格之后，输出的日志里包含创建会话的所有过程。\n",
    "\n",
    "日志中 **GraphScope coordinator service connected** 代表会话创建成功，且当前 Python 客户端已连接到此会话。\n",
    "\n",
    "如下命令也可以查看会话状态。"
   ]
  },
  {
   "cell_type": "code",
   "execution_count": null,
   "metadata": {},
   "outputs": [],
   "source": [
    "s1"
   ]
  },
  {
   "cell_type": "markdown",
   "metadata": {},
   "source": [
    "运行此单元格，可以看到 `“status\": \"active\"` 的字样，代表会话状态正常。此外还有一些其他会话的元信息，如工作者 (Worker/Pod）数量，协调者的端点（endpoint）等等。"
   ]
  },
  {
   "cell_type": "markdown",
   "metadata": {},
   "source": [
    "会话管理着集群的资源，因此在使用完会话后释放资源很重要。当图任务结束后使用 `session.close()` 来释放资源。"
   ]
  },
  {
   "cell_type": "code",
   "execution_count": null,
   "metadata": {},
   "outputs": [],
   "source": [
    "s1.close()"
   ]
  },
  {
   "cell_type": "markdown",
   "metadata": {},
   "source": [
    "## 进阶用法"
   ]
  },
  {
   "cell_type": "markdown",
   "metadata": {},
   "source": [
    "GraphScope 中的会话提供了多个关键字参数来配置集群。\n",
    "\n",
    "例如，`k8s_gs_image` 指定了 GraphScope 使用的镜像， `num_workers` 指定 Pod 的数量。\n",
    "\n",
    "你可以使用 `help(graphscope.session）` 来查看会话的所有可配置项。 "
   ]
  },
  {
   "cell_type": "code",
   "execution_count": null,
   "metadata": {},
   "outputs": [],
   "source": [
    "s2 = graphscope.session(num_workers=1, k8s_engine_cpu=1, k8s_engine_mem='4Gi', timeout_seconds=1200)"
   ]
  },
  {
   "cell_type": "code",
   "execution_count": null,
   "metadata": {},
   "outputs": [],
   "source": [
    "s2.close()"
   ]
  },
  {
   "cell_type": "markdown",
   "metadata": {},
   "source": [
    "也可以使用传入 Json 或者 字典 (`Dict`) 作为参数."
   ]
  },
  {
   "cell_type": "code",
   "execution_count": null,
   "metadata": {},
   "outputs": [],
   "source": [
    "config = {'num_workers': 1, 'timeout_seconds': 100}\n",
    "s3 = graphscope.session(config=config)"
   ]
  },
  {
   "cell_type": "code",
   "execution_count": null,
   "metadata": {},
   "outputs": [],
   "source": [
    "s3.close()"
   ]
  },
  {
   "cell_type": "markdown",
   "metadata": {},
   "source": [
    "## 挂载路径"
   ]
  },
  {
   "cell_type": "markdown",
   "metadata": {},
   "source": [
    "为了持久化数据，或从其他磁盘载入数据，会话提供了将文件路径挂载到集群中的功能。\n",
    "\n",
    "例如，我们准备了一些图数据放到了宿主机上，位于 `/testingdata`，使用如下参数将其挂载到 Pod 中的 `/home/jovyan/datasets`上。\n",
    "\n",
    "值得注意的是，服务器上的 `/testingdata` 路径只是当前 `/home/jovyan/datasets` 路径的一个 **拷贝** , 因此对应的修改不会影响到服务器上挂载的目录。\n"
   ]
  },
  {
   "cell_type": "code",
   "execution_count": null,
   "metadata": {},
   "outputs": [],
   "source": [
    "k8s_volumes = {\n",
    "    \"data\": {\n",
    "        \"type\": \"hostPath\",\n",
    "        \"field\": {\n",
    "          \"path\": '/testingdata',\n",
    "          \"type\": \"Directory\"\n",
    "        },\n",
    "        \"mounts\": {\n",
    "          \"mountPath\": \"/home/jovyan/datasets\",\n",
    "          \"readOnly\": True\n",
    "        }\n",
    "    }\n",
    "}\n",
    "s4 = graphscope.session(k8s_volumes=k8s_volumes)"
   ]
  },
  {
   "cell_type": "code",
   "execution_count": null,
   "metadata": {},
   "outputs": [],
   "source": [
    "s4.close()"
   ]
  }
 ],
 "metadata": {
  "kernelspec": {
   "display_name": "Python 3",
   "language": "python",
   "name": "python3"
  },
  "language_info": {
   "codemirror_mode": {
    "name": "ipython",
    "version": 3
   },
   "file_extension": ".py",
   "mimetype": "text/x-python",
   "name": "python",
   "nbconvert_exporter": "python",
   "pygments_lexer": "ipython3",
   "version": "3.8.6"
  }
 },
 "nbformat": 4,
 "nbformat_minor": 4
}
