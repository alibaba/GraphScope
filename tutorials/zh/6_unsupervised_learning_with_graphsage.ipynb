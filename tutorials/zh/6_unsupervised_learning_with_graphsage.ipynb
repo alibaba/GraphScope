{
 "cells": [
  {
   "cell_type": "markdown",
   "metadata": {},
   "source": [
    "# 基于 GraphSage 的无监督学习\n",
    "\n",
    "\n",
    "GraphScope提供了处理学习任务的功能。本次教程，我们将会展示GraphScope如何使用GraphSage算法训练一个无监督学习模型。\n",
    "\n",
    "本次教程的学习任务是链接预测，通过计算在图中顶点之间存在边的概率来预测链接。\n",
    "\n",
    "在这一任务中，我们使用GraphScope内置的GraphSage算法在[PPI](https://humgenomics.biomedcentral.com/articles/10.1186/1479-7364-3-3-291)数据集上训练一个模型，这一训练模型可以用来预测蛋白质结构之间的链接。这一任务可以被看作在一个异构链接网络上的无监督训练任务。\n",
    "\n",
    "在这一任务中，GraphSage算法会将图中的结构信息和属性信息压缩为每个节点上的低维嵌入向量，这些嵌入和表征可以进一步用来预测节点间的链接。\n",
    "\n",
    "这一教程将会分为以下几个步骤：\n",
    "- 建立会话和载图\n",
    "- 启动GraphScope的学习引擎，并将图关联到引擎上\n",
    "- 使用内置的GCN模型定义训练过程，并定义相关的超参\n",
    "- 开始训练\n"
   ]
  },
  {
   "cell_type": "markdown",
   "metadata": {},
   "source": [
    "首先，我们要新建一个会话，并载入数据"
   ]
  },
  {
   "cell_type": "code",
   "execution_count": null,
   "metadata": {},
   "outputs": [],
   "source": [
    "import os\n",
    "import graphscope\n",
    "\n",
    "k8s_volumes = {\n",
    "    \"data\": {\n",
    "        \"type\": \"hostPath\",\n",
    "        \"field\": {\n",
    "          \"path\": \"/testingdata\",\n",
    "          \"type\": \"Directory\"\n",
    "        },\n",
    "        \"mounts\": {\n",
    "          \"mountPath\": \"/home/jovyan/datasets\",\n",
    "            \"readOnly\": True\n",
    "        }\n",
    "    }\n",
    "}\n",
    "\n",
    "# 建立会话\n",
    "graphscope.set_option(show_log=True)\n",
    "sess = graphscope.session(show_log=True, k8s_volumes=k8s_volumes)\n",
    "\n",
    "# 加载PPI图数据\n",
    "graph = sess.load_from(\n",
    "    edges={\n",
    "        \"link\": [\n",
    "            (\n",
    "                \"/home/jovyan/datasets/ppi/edge.csv\",\n",
    "                [],\n",
    "                (\"src_id\", \"protein\"),\n",
    "                (\"dst_id\", \"protein\"),\n",
    "            ),\n",
    "        ]\n",
    "    },\n",
    "    vertices={\n",
    "        \"protein\": (\n",
    "            \"/home/jovyan/datasets/ppi/node.csv\",\n",
    "        ),\n",
    "    },\n",
    ")"
   ]
  },
  {
   "cell_type": "markdown",
   "metadata": {},
   "source": [
    "## Launch learning engine\n",
    "\n",
    "然后，我们需要定义一个特征列表用于图的训练。训练特征集合必须从点的属性集合中选取。在这个例子中，我们选择了属性集合中所有以\"feat-\"为前缀的属性作为训练特征集，这一特征集也是PPI数据中点的特征集。\n",
    "\n",
    "借助定义的特征列表，接下来，我们使用会话的`learning`方法来开启一个学习引擎。（`learning`方法的文档可参考[Session](https://graphscope.io/docs/reference/session.html))\n",
    "\n",
    "在这个例子中，我们在`learning`方法中，指定在数据中`protein`类型的顶点和`link`类型边上进行模型训练。\n",
    "\n",
    "利用`gen_labels`参数，我们将`protein`点数据集作为训练集。"
   ]
  },
  {
   "cell_type": "code",
   "execution_count": null,
   "metadata": {},
   "outputs": [],
   "source": [
    "# define the features for learning\n",
    "paper_features = []\n",
    "for i in range(50):\n",
    "    paper_features.append(\"feat-\" + str(i))\n",
    "\n",
    "# launch a learning engine.\n",
    "lg = sess.learning(graph, nodes=[(\"protein\", paper_features)],\n",
    "                  edges=[(\"protein\", \"link\", \"protein\")],\n",
    "                  gen_labels=[\n",
    "                      (\"train\", \"protein\", 100, (0, 100)),\n",
    "                  ])"
   ]
  },
  {
   "cell_type": "markdown",
   "metadata": {},
   "source": [
    "\n",
    "\n",
    "这里我们使用内置的GraphSage模型定义训练过程。你可以在[Graph Learning Model](https://graphscope.io/docs/learning_engine.html#data-model)获取更多内置学习模型的信息。\n",
    "\n",
    "\n",
    "在本次示例中，我们使用tensorflow作为NN后端训练器。"
   ]
  },
  {
   "cell_type": "code",
   "execution_count": null,
   "metadata": {},
   "outputs": [],
   "source": [
    "\n",
    "import numpy as np\n",
    "from graphscope.learning.examples import GraphSage\n",
    "from graphscope.learning.graphlearn.python.model.tf.trainer import LocalTFTrainer\n",
    "from graphscope.learning.graphlearn.python.model.tf.optimizer import get_tf_optimizer\n",
    "\n",
    "# unsupervised GraphSage.\n",
    "\n",
    "def train(config, graph):\n",
    "    def model_fn():\n",
    "        return GraphSage(\n",
    "            graph,\n",
    "            config[\"class_num\"],\n",
    "            config[\"features_num\"],\n",
    "            config[\"batch_size\"],\n",
    "            categorical_attrs_desc=config[\"categorical_attrs_desc\"],\n",
    "            hidden_dim=config[\"hidden_dim\"],\n",
    "            in_drop_rate=config[\"in_drop_rate\"],\n",
    "            neighs_num=config[\"neighs_num\"],\n",
    "            hops_num=config[\"hops_num\"],\n",
    "            node_type=config[\"node_type\"],\n",
    "            edge_type=config[\"edge_type\"],\n",
    "            full_graph_mode=config[\"full_graph_mode\"],\n",
    "            unsupervised=config['unsupervised'],\n",
    "        )\n",
    "    trainer = LocalTFTrainer(\n",
    "        model_fn,\n",
    "        epoch=config[\"epoch\"],\n",
    "        optimizer=get_tf_optimizer(\n",
    "            config[\"learning_algo\"], config[\"learning_rate\"], config[\"weight_decay\"]\n",
    "        ),\n",
    "    )\n",
    "    trainer.train()\n",
    "    embs = trainer.get_node_embedding()\n",
    "    np.save(config['emb_save_dir'], embs)\n",
    "\n",
    "# define hyperparameters\n",
    "config = {\n",
    "    \"class_num\": 128,  # output dimension\n",
    "    \"features_num\": 50,\n",
    "    \"batch_size\": 512,\n",
    "    \"categorical_attrs_desc\": \"\",\n",
    "    \"hidden_dim\": 128,\n",
    "    \"in_drop_rate\": 0.5,\n",
    "    \"hops_num\": 2,\n",
    "    \"neighs_num\": [5, 5],\n",
    "    \"full_graph_mode\": False,\n",
    "    \"agg_type\": \"gcn\",  # mean, sum\n",
    "    \"learning_algo\": \"adam\",\n",
    "    \"learning_rate\": 0.01,\n",
    "    \"weight_decay\": 0.0005,\n",
    "    'unsupervised': True,\n",
    "    \"epoch\": 1,\n",
    "    'emb_save_dir': './id_emb',\n",
    "    \"node_type\": \"protein\",\n",
    "    \"edge_type\": \"link\",\n",
    "}"
   ]
  },
  {
   "cell_type": "markdown",
   "metadata": {},
   "source": [
    "## Run training process\n",
    "\n",
    "\n",
    "在定义完训练过程和超参后，现在我们可以使用学习引擎和定义的超参开始训练过程。"
   ]
  },
  {
   "cell_type": "code",
   "execution_count": null,
   "metadata": {},
   "outputs": [],
   "source": [
    "train(config, lg)"
   ]
  },
  {
   "cell_type": "markdown",
   "metadata": {},
   "source": [
    "\n",
    "训练完毕后，需要关掉会话"
   ]
  },
  {
   "cell_type": "code",
   "execution_count": null,
   "metadata": {},
   "outputs": [],
   "source": [
    "sess.close()"
   ]
  },
  {
   "cell_type": "code",
   "execution_count": null,
   "metadata": {},
   "outputs": [],
   "source": []
  }
 ],
 "metadata": {
  "kernelspec": {
   "display_name": "Python 3",
   "language": "python",
   "name": "python3"
  },
  "language_info": {
   "codemirror_mode": {
    "name": "ipython",
    "version": 3
   },
   "file_extension": ".py",
   "mimetype": "text/x-python",
   "name": "python",
   "nbconvert_exporter": "python",
   "pygments_lexer": "ipython3",
   "version": "3.8.3"
  }
 },
 "nbformat": 4,
 "nbformat_minor": 4
}
