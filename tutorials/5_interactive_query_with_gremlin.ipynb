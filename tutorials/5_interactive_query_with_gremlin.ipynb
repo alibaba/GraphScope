{
 "cells": [
  {
   "cell_type": "markdown",
   "metadata": {},
   "source": [
    "# Interactive Query with Gremlin\n",
    "Gremlin is one of the most popular query languages in graph databases, as SQL in relational databases. Here, we will give some examples to illustrate how gremlin helps navigate the vertices and edges of a graph.\n",
    "\n",
    "## Dataset\n",
    "MODERN, a toy graph from tinkerpop, which consists of 6 vertices and 6 edges. We extend it to larger size by adding more complex relationships among vertices. Here are the edges:\n",
    "\n",
    "\\[(1,3),(1,2),(1,4),(4,5),(4,3),(6,3),(2,4),(4,1)\\]"
   ]
  },
  {
   "cell_type": "code",
   "execution_count": 1,
   "metadata": {},
   "outputs": [
    {
     "name": "stdout",
     "output_type": "stream",
     "text": [
      "2021-01-29 15:17:32,311 [INFO][session:377]: Initializing graphscope session with parameters: {'num_workers': 2, 'k8s_namespace': None, 'k8s_service_type': 'NodePort', 'k8s_gs_image': 'registry.cn-hongkong.aliyuncs.com/graphscope/graphscope:0.1.2', 'k8s_etcd_image': 'quay.io/coreos/etcd:v3.4.13', 'k8s_image_pull_policy': 'IfNotPresent', 'k8s_image_pull_secrets': [], 'k8s_gie_graph_manager_image': 'registry.cn-hongkong.aliyuncs.com/graphscope/maxgraph_standalone_manager:0.1.2', 'k8s_zookeeper_image': 'zookeeper:3.4.14', 'k8s_coordinator_cpu': 1.0, 'k8s_coordinator_mem': '4Gi', 'k8s_etcd_cpu': 0.5, 'k8s_etcd_mem': '128Mi', 'k8s_zookeeper_cpu': 0.5, 'k8s_zookeeper_mem': '128Mi', 'k8s_gie_graph_manager_cpu': 1.0, 'k8s_gie_graph_manager_mem': '4Gi', 'k8s_vineyard_cpu': 0.5, 'k8s_vineyard_mem': '512Mi', 'k8s_vineyard_shared_mem': '4Gi', 'k8s_engine_cpu': 0.5, 'k8s_engine_mem': '4Gi', 'k8s_volumes': {'data': {'type': 'hostPath', 'field': {'path': '/home/jovyan/datasets/modern_graph_2', 'type': 'Directory'}, 'mounts': {'mountPath': '/home/jovyan/datasets/modern_graph_2'}}}, 'k8s_waiting_for_delete': False, 'timeout_seconds': 600, 'addr': None, 'enable_k8s': True, 'k8s_minikube_vm_driver': False, 'k8s_client_config': {}}\n",
      "2021-01-29 15:17:32,359 [INFO][cluster:405]: Launching coordinator...\n",
      "2021-01-29 15:17:35,412 [INFO][utils:144]: coordinator-pgaewh-56767d489f-9whcv: Successfully assigned default/coordinator-pgaewh-56767d489f-9whcv to cn-hongkong.192.168.0.221\n",
      "2021-01-29 15:17:35,413 [INFO][utils:144]: coordinator-pgaewh-56767d489f-9whcv: Container image \"registry.cn-hongkong.aliyuncs.com/graphscope/graphscope:0.1.2\" already present on machine\n",
      "2021-01-29 15:17:35,413 [INFO][utils:144]: coordinator-pgaewh-56767d489f-9whcv: Created container coordinator\n",
      "2021-01-29 15:17:35,414 [INFO][utils:144]: coordinator-pgaewh-56767d489f-9whcv: Started container coordinator\n",
      "2021-01-29 23:17:35,221 [INFO][cluster:424]: Launching GIE graph manager ...\n",
      "2021-01-29 23:17:36,280 [INFO][cluster:521]: [gs-graphmanager-pgaewh-6f97b96bb4-22zd2]: Successfully assigned default/gs-graphmanager-pgaewh-6f97b96bb4-22zd2 to cn-hongkong.192.168.0.210\n",
      "2021-01-29 23:17:36,840 [INFO][cluster:521]: [gs-graphmanager-pgaewh-6f97b96bb4-22zd2]: Container image \"registry.cn-hongkong.aliyuncs.com/graphscope/maxgraph_standalone_manager:0.1.2\" already present on machine\n",
      "2021-01-29 23:17:36,887 [INFO][cluster:521]: [gs-graphmanager-pgaewh-6f97b96bb4-22zd2]: Created container manager\n",
      "2021-01-29 23:17:36,988 [INFO][cluster:521]: [gs-graphmanager-pgaewh-6f97b96bb4-22zd2]: Started container manager\n",
      "2021-01-29 23:17:36,992 [INFO][cluster:521]: [gs-graphmanager-pgaewh-6f97b96bb4-22zd2]: Container image \"zookeeper:3.4.14\" already present on machine\n",
      "2021-01-29 23:17:37,054 [INFO][cluster:521]: [gs-graphmanager-pgaewh-6f97b96bb4-22zd2]: Created container zookeeper\n",
      "2021-01-29 23:17:37,157 [INFO][cluster:521]: [gs-graphmanager-pgaewh-6f97b96bb4-22zd2]: Started container zookeeper\n",
      "2021-01-29 23:17:39,291 [INFO][cluster:533]: GIE graph manager service is ready.\n",
      "2021-01-29 23:17:39,291 [INFO][cluster:307]: Launching etcd ...\n",
      "2021-01-29 23:17:40,322 [INFO][cluster:543]: Etcd is ready, endpoint is 172.22.10.66:58356\n",
      "2021-01-29 23:17:40,322 [INFO][cluster:241]: Launching GraphScope engines pod ...\n",
      "2021-01-29 23:17:40,575 [INFO][cluster:591]: [gs-engine-pgaewh-x7s8x]: Successfully assigned default/gs-engine-pgaewh-x7s8x to cn-hongkong.192.168.0.217\n",
      "2021-01-29 23:17:41,061 [INFO][cluster:591]: [gs-engine-pgaewh-x7s8x]: Container image \"registry.cn-hongkong.aliyuncs.com/graphscope/graphscope:0.1.2\" already present on machine\n",
      "2021-01-29 23:17:41,103 [INFO][cluster:591]: [gs-engine-pgaewh-x7s8x]: Created container vineyard\n",
      "2021-01-29 23:17:41,192 [INFO][cluster:591]: [gs-engine-pgaewh-x7s8x]: Started container vineyard\n",
      "2021-01-29 23:17:41,236 [INFO][cluster:591]: [gs-engine-pgaewh-x7s8x]: Created container engine\n",
      "2021-01-29 23:17:41,335 [INFO][cluster:591]: [gs-engine-pgaewh-x7s8x]: Started container engine\n",
      "2021-01-29 23:17:41,577 [INFO][cluster:591]: [gs-engine-pgaewh-zpzs7]: Successfully assigned default/gs-engine-pgaewh-zpzs7 to cn-hongkong.192.168.0.220\n",
      "2021-01-29 23:17:41,578 [INFO][cluster:591]: [gs-engine-pgaewh-zpzs7]: Container image \"registry.cn-hongkong.aliyuncs.com/graphscope/graphscope:0.1.2\" already present on machine\n",
      "2021-01-29 23:17:41,578 [INFO][cluster:591]: [gs-engine-pgaewh-zpzs7]: Created container vineyard\n",
      "2021-01-29 23:17:41,579 [INFO][cluster:591]: [gs-engine-pgaewh-zpzs7]: Started container vineyard\n",
      "2021-01-29 23:17:41,580 [INFO][cluster:591]: [gs-engine-pgaewh-zpzs7]: Created container engine\n",
      "2021-01-29 23:17:41,581 [INFO][cluster:591]: [gs-engine-pgaewh-zpzs7]: Started container engine\n",
      "2021-01-29 15:17:48,581 [INFO][utils:144]: coordinator-pgaewh-56767d489f-9whcv: Readiness probe failed: dial tcp 172.21.1.249:59116: connect: connection refused\n",
      "2021-01-29 23:17:53,167 [INFO][cluster:623]: GraphScope engines pod is ready.\n",
      "2021-01-29 23:17:53,172 [INFO][cluster:755]: Engines pod name list: ['gs-engine-pgaewh-x7s8x', 'gs-engine-pgaewh-zpzs7']\n",
      "2021-01-29 23:17:53,172 [INFO][cluster:756]: Engines pod ip list: ['172.21.0.214', '172.21.1.114']\n",
      "2021-01-29 23:17:53,172 [INFO][cluster:757]: Engines pod host ip list: ['192.168.0.217', '192.168.0.220']\n",
      "2021-01-29 23:17:53,172 [INFO][cluster:759]: Vineyard service endpoint: 192.168.0.217:30655\n",
      "2021-01-29 23:17:53,172 [INFO][cluster:663]: Starting GAE rpc service on 172.21.0.214:56064 ...\n",
      "2021-01-29 23:17:53,831 [INFO][coordinator:911]: Coordinator server listen at 0.0.0.0:59116\n",
      "I0129 23:17:55.066630    35 grape_instance.cc:42] Workers of grape-engine initialized.\n",
      "I0129 23:17:55.120498    38 analytical_server.cc:34] Analytical server is listening on 0.0.0.0:56064\n",
      "2021-01-29 15:17:59,731 [INFO][cluster:607]: Coordinator pod start successful, connecting to service...\n",
      "2021-01-29 15:17:59,759 [INFO][rpc:111]: GraphScope coordinator service connected.\n",
      "2021-01-29 23:17:53,831 [INFO][coordinator:911]: Coordinator server listen at 0.0.0.0:59116\n",
      "I0129 23:17:55.066630    35 grape_instance.cc:42] Workers of grape-engine initialized.\n",
      "I0129 23:17:55.120498    38 analytical_server.cc:34] Analytical server is listening on 0.0.0.0:56064\n",
      "2021-01-29 23:18:01,240 [INFO][utils:263]: Codegened graph frame type: vineyard::ArrowFragment<int64_t,uint64_t>\n",
      "2021-01-29 23:18:01,240 [INFO][utils:297]: Building graph library ...\n",
      "I0129 23:18:43.300599    39 grape_instance.cc:634] Registering Graph, graph type: 3, Type sig: e33529e80839a2064a804ce453c761a9483aa7ab775bcfddc1a1f9da63dcb521, lib path: /tmp/gs/builtin/e33529e80839a2064a804ce453c761a9483aa7ab775bcfddc1a1f9da63dcb521/libe33529e80839a2064a804ce453c761a9483aa7ab775bcfddc1a1f9da63dcb521.so\n",
      "I0129 23:18:43.301350    38 grape_instance.cc:634] Registering Graph, graph type: 3, Type sig: e33529e80839a2064a804ce453c761a9483aa7ab775bcfddc1a1f9da63dcb521, lib path: /tmp/gs/builtin/e33529e80839a2064a804ce453c761a9483aa7ab775bcfddc1a1f9da63dcb521/libe33529e80839a2064a804ce453c761a9483aa7ab775bcfddc1a1f9da63dcb521.so\n",
      "I0129 23:18:43.309319    39 grape_instance.cc:98] Loading graph, graph name: graph_ncCHryDs, graph type: ArrowFragment, type sig: e33529e80839a2064a804ce453c761a9483aa7ab775bcfddc1a1f9da63dcb521\n",
      "I0129 23:18:43.308394    38 grape_instance.cc:98] Loading graph, graph name: graph_ncCHryDs, graph type: ArrowFragment, type sig: e33529e80839a2064a804ce453c761a9483aa7ab775bcfddc1a1f9da63dcb521\n",
      "I0129 23:18:43.311003    39 io_factory.cc:49] Use default file location(local) to open: /home/jovyan/datasets/modern_graph_2/knows.csv#delimiter=|&header_row=True&schema=0,1&column_types=int64_t,int64_t&include_all_columns=True\n",
      "I0129 23:18:43.310103    38 io_factory.cc:49] Use default file location(local) to open: /home/jovyan/datasets/modern_graph_2/knows.csv#delimiter=|&header_row=True&schema=0,1&column_types=int64_t,int64_t&include_all_columns=True\n",
      "I0129 23:18:43.314474    38 io_factory.cc:49] Use default file location(local) to open: /home/jovyan/datasets/modern_graph_2/created.csv#delimiter=|&header_row=True&schema=0,1&column_types=int64_t,int64_t&include_all_columns=True\n",
      "I0129 23:18:43.315589    39 io_factory.cc:49] Use default file location(local) to open: /home/jovyan/datasets/modern_graph_2/created.csv#delimiter=|&header_row=True&schema=0,1&column_types=int64_t,int64_t&include_all_columns=True\n",
      "I0129 23:18:43.315774    38 io_factory.cc:49] Use default file location(local) to open: /home/jovyan/datasets/modern_graph_2/person.csv#delimiter=|&header_row=True&schema=id,name,age&column_types=int64_t,,int32_t\n",
      "I0129 23:18:43.316888    39 io_factory.cc:49] Use default file location(local) to open: /home/jovyan/datasets/modern_graph_2/person.csv#delimiter=|&header_row=True&schema=id,name,age&column_types=int64_t,,int32_t\n",
      "I0129 23:18:43.318410    39 io_factory.cc:49] Use default file location(local) to open: /home/jovyan/datasets/modern_graph_2/software.csv#delimiter=|&header_row=True&schema=id,name,lang&column_types=int64_t,,\n",
      "I0129 23:18:43.317353    38 io_factory.cc:49] Use default file location(local) to open: /home/jovyan/datasets/modern_graph_2/software.csv#delimiter=|&header_row=True&schema=id,name,lang&column_types=int64_t,,\n",
      "I0129 23:18:44.207600    39 property_graph_frame.cc:108] [worker-0] loaded graph to vineyard ...\n",
      "I0129 23:18:44.206543    38 property_graph_frame.cc:108] [worker-1] loaded graph to vineyard ...\n",
      "2021-01-29 23:18:44,346 [INFO][coordinator:418]: Coordinator create interactive instance with object id 4596643521921826\n",
      "2021-01-29 23:19:35,528 [INFO][coordinator:449]: build frontend 192.168.0.210:31606 for graph 4596643521921826\n"
     ]
    }
   ],
   "source": [
    "import os\n",
    "import graphscope\n",
    "from graphscope.framework.graph import Graph\n",
    "from graphscope.framework.loader import Loader\n",
    "import vineyard\n",
    "\n",
    "k8s_volumes = {\n",
    "    \"data\": {\n",
    "        \"type\": \"hostPath\",\n",
    "        \"field\": {\n",
    "          \"path\": \"/home/jovyan/datasets/modern_graph_2\",  # Path in host\n",
    "          \"type\": \"Directory\"\n",
    "        },\n",
    "        \"mounts\": {\n",
    "          \"mountPath\": \"/home/jovyan/datasets/modern_graph_2\"  # Path in pods\n",
    "          \"readOnly\": True\n",
    "        }\n",
    "    }\n",
    "}\n",
    "graphscope.set_option(show_log=True)  # enable logging\n",
    "session = graphscope.session(k8s_volumes=k8s_volumes)  # create a session\n",
    "modern_graph = session.load_from(\n",
    "    vertices={\n",
    "        \"person\": (Loader(\"/home/jovyan/datasets/modern_graph_2/person.csv\", delimiter=\"|\", header_row=True), [\"name\", (\"age\", \"int\")], \"id\"),\n",
    "        \"software\": (Loader(\"/home/jovyan/datasets/modern_graph_2/software.csv\", delimiter=\"|\", header_row=True), [\"name\", \"lang\"], \"id\"),\n",
    "    },\n",
    "    edges={\n",
    "        \"knows\": [Loader(\"/home/jovyan/datasets/modern_graph_2/knows.csv\", delimiter=\"|\"), [], (0, \"person\"), (1, \"person\")],\n",
    "        \"created\": [Loader(\"/home/jovyan/datasets/modern_graph_2/created.csv\", delimiter=\"|\"), [], (0, \"person\"), (1, \"software\")],\n",
    "    }, generate_eid=False)\n",
    "interactive = session.gremlin(modern_graph)"
   ]
  },
  {
   "cell_type": "markdown",
   "metadata": {},
   "source": [
    "## Between Vertices\n",
    "Traversals between two particular vertices is quite common situations in graph databases. For example, to figure out the relationships between v1 and v2/v3, a gremlin query can be written like this:"
   ]
  },
  {
   "cell_type": "code",
   "execution_count": 3,
   "metadata": {},
   "outputs": [
    {
     "name": "stdout",
     "output_type": "stream",
     "text": [
      "[{'u': 1, 'v': 3}, {'u': 1, 'v': 2}]\n"
     ]
    }
   ],
   "source": [
    "q1 = interactive.execute(\"g.V().has(\\\"id\\\", 1).as(\\\"u\\\").out().has(\\\"id\\\", eq(2).or(eq(3))).as(\\\"v\\\").select(\\\"u\\\", \\\"v\\\").by(\\\"id\\\")\")\n",
    "for p in q1:\n",
    "    print(p)"
   ]
  },
  {
   "cell_type": "markdown",
   "metadata": {},
   "source": [
    "Here is an example which is popular in social network scenarios, such as finding common features between two different people, one called \"marko\" while another called \"peter\"."
   ]
  },
  {
   "cell_type": "code",
   "execution_count": 4,
   "metadata": {},
   "outputs": [
    {
     "name": "stdout",
     "output_type": "stream",
     "text": [
      "[{'name': ['lop'], 'lang': ['java'], 'id': [3]}]\n"
     ]
    }
   ],
   "source": [
    "q2 = interactive.execute(\"g.V().has(\\\"name\\\", \\\"marko\\\").out().where(__.in().has(\\\"name\\\", \\\"peter\\\")).valueMap()\")\n",
    "for p in q2:\n",
    "    print(p)"
   ]
  },
  {
   "cell_type": "markdown",
   "metadata": {},
   "source": [
    "## Degree Centrality\n",
    "Degree centrality is a measure of the number of edges associated to each vertex, which is of statistical significance in large-scale data processing. Here are some examples:"
   ]
  },
  {
   "cell_type": "code",
   "execution_count": 5,
   "metadata": {},
   "outputs": [
    {
     "name": "stdout",
     "output_type": "stream",
     "text": [
      "{v[0.0]: 5, v[0.1]: 2, v[1.-4611686018427387904]: 3, v[0.2]: 1, v[1.-4611686018427387903]: 1, v[0.-9223372036854775808]: 4}\n",
      "{v[0.0]: 2, v[1.-4611686018427387904]: 3, v[0.1]: 1, v[0.2]: 0, v[0.-9223372036854775808]: 1, v[1.-4611686018427387903]: 1}\n"
     ]
    }
   ],
   "source": [
    "q3 = interactive.execute(\"g.V().group().by().by(bothE().count())\")\n",
    "for p in q3:\n",
    "    print(p[0])\n",
    "q4 = interactive.execute(\"g.V().group().by().by(inE().count())\")\n",
    "for p in q4:\n",
    "    print(p[0])"
   ]
  },
  {
   "cell_type": "markdown",
   "metadata": {},
   "source": [
    "## Cycle Detection\n",
    "Cycle detection is another important application of graph query in commerce area where cycles are usually considered as fraudulent patterns. Here is an example illustrating how gremlin helps detect cycles in a graph."
   ]
  },
  {
   "cell_type": "code",
   "execution_count": 6,
   "metadata": {},
   "outputs": [
    {
     "name": "stdout",
     "output_type": "stream",
     "text": [
      "[3]\n"
     ]
    }
   ],
   "source": [
    "q5 = interactive.execute(\"g.V().as(\\\"u\\\").repeat(out().simplePath()).times(2).where(out().where(eq(\\\"u\\\"))).count()\")\n",
    "print(q5.one())"
   ]
  }
 ],
 "metadata": {
  "kernelspec": {
   "display_name": "Python 3",
   "language": "python",
   "name": "python3"
  },
  "language_info": {
   "codemirror_mode": {
    "name": "ipython",
    "version": 3
   },
   "file_extension": ".py",
   "mimetype": "text/x-python",
   "name": "python",
   "nbconvert_exporter": "python",
   "pygments_lexer": "ipython3",
   "version": "3.8.6"
  }
 },
 "nbformat": 4,
 "nbformat_minor": 4
}
