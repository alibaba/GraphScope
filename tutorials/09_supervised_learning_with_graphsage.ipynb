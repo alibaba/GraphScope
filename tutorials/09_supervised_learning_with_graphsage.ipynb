{
 "cells": [
  {
   "cell_type": "markdown",
   "metadata": {},
   "source": [
    "# Supervised Learning with GraphSAGE\n",
    "\n",
    "Graph neural networks (GNNs) combines superiority of both graph analytics and machine learning. \n",
    "GraphScope provides the capability to process learning tasks. In this tutorial, we demonstrate \n",
    "how GraphScope trains a supervised GraphSAGE model.\n",
    "\n",
    "The learning task is node classification on a citation network. In this task, the algorithm has \n",
    "to determine the label of the nodes in [Cora](https://linqs.soe.ucsc.edu/data) dataset. \n",
    "The dataset consists of academic publications as the nodes and the citations between them as the links: if publication A cites publication B, then the graph has an edge from A to B. The nodes are classified into one of seven subjects, and our model will learn to predict this subject.\n",
    "\n",
    "This tutorial has the following steps:\n",
    "\n",
    "- Launching learning engine and attaching the loaded graph.\n",
    "- Defining train process with builtin GraphSAGE model and config hyperparameters\n",
    "- Training and evaluating\n"
   ]
  },
  {
   "cell_type": "code",
   "execution_count": null,
   "metadata": {},
   "outputs": [],
   "source": [
    "# Install graphscope package if you are NOT in the Playground\n",
    "\n",
    "!pip3 install graphscope"
   ]
  },
  {
   "cell_type": "code",
   "execution_count": null,
   "metadata": {},
   "outputs": [],
   "source": [
    "# Import the graphscope module.\n",
    "\n",
    "import graphscope\n",
    "\n",
    "graphscope.set_option(show_log=False)  # enable logging"
   ]
  },
  {
   "cell_type": "code",
   "execution_count": null,
   "metadata": {},
   "outputs": [],
   "source": [
    "# Load cora dataset\n",
    "\n",
    "from graphscope.dataset import load_cora\n",
    "\n",
    "graph = load_cora()"
   ]
  },
  {
   "cell_type": "markdown",
   "metadata": {},
   "source": [
    "\n",
    "Then, we need to define a feature list for training. The training feature list should be seleted from the vertex properties. In this case, we choose all the properties prefix with \"feat_\" as the training features.\n",
    "\n",
    "With the featrue list, next we launch a learning engine with the [graphlearn](https://graphscope.io/docs/reference/session.html#graphscope.Session.graphlearn) method of graphscope. \n",
    "\n",
    "In this case,  we specify the model training over \"paper\" nodes and \"cites\" edges.\n",
    "\n",
    "With \"gen_labels\", we split the \"paper\" nodes into three parts, 75% are used as training set, 10% are used for validation and 15% used for testing.\n"
   ]
  },
  {
   "cell_type": "code",
   "execution_count": null,
   "metadata": {},
   "outputs": [],
   "source": [
    "# define the features for learning\n",
    "paper_features = []\n",
    "for i in range(1433):\n",
    "    paper_features.append(\"feat_\" + str(i))\n",
    "\n",
    "# launch a learning engine.\n",
    "lg = graphscope.graphlearn(\n",
    "    graph,\n",
    "    nodes=[(\"paper\", paper_features)],\n",
    "    edges=[(\"paper\", \"cites\", \"paper\")],\n",
    "    gen_labels=[\n",
    "        (\"train\", \"paper\", 100, (0, 75)),\n",
    "        (\"val\", \"paper\", 100, (75, 85)),\n",
    "        (\"test\", \"paper\", 100, (85, 100)),\n",
    "    ],\n",
    ")"
   ]
  },
  {
   "cell_type": "markdown",
   "metadata": {},
   "source": [
    "We use the builtin GraphSAGE model to define the training process, and use tensorflow as \"NN\" backend trainer."
   ]
  },
  {
   "cell_type": "code",
   "execution_count": null,
   "metadata": {},
   "outputs": [],
   "source": [
    "try:\n",
    "  # https://www.tensorflow.org/guide/migrate\n",
    "  import tensorflow.compat.v1 as tf\n",
    "  tf.disable_v2_behavior()\n",
    "except ImportError:\n",
    "  import tensorflow as tf\n",
    "\n",
    "import argparse\n",
    "import graphscope.learning as gl\n",
    "import graphscope.learning.graphlearn.python.nn.tf as tfg\n",
    "from graphscope.learning.examples import EgoGraphSAGE\n",
    "from graphscope.learning.examples import EgoSAGESupervisedDataLoader\n",
    "from graphscope.learning.examples.tf.trainer import LocalTrainer\n",
    "\n",
    "def parse_args():\n",
    "  argparser = argparse.ArgumentParser(\"Train EgoSAGE Supervised.\")\n",
    "  argparser.add_argument('--class_num', type=int, default=7)\n",
    "  argparser.add_argument('--features_num', type=int, default=1433)\n",
    "  argparser.add_argument('--train_batch_size', type=int, default=140)\n",
    "  argparser.add_argument('--val_batch_size', type=int, default=300)\n",
    "  argparser.add_argument('--test_batch_size', type=int, default=1000)\n",
    "  argparser.add_argument('--hidden_dim', type=int, default=128)\n",
    "  argparser.add_argument('--in_drop_rate', type=float, default=0.5)\n",
    "  argparser.add_argument('--hops_num', type=int, default=2)\n",
    "  argparser.add_argument('--nbrs_num', type=list, default=[25, 10])\n",
    "  argparser.add_argument('--agg_type', type=str, default=\"gcn\")\n",
    "  argparser.add_argument('--learning_algo', type=str, default=\"adam\")\n",
    "  argparser.add_argument('--learning_rate', type=float, default=0.05)\n",
    "  argparser.add_argument('--weight_decay', type=float, default=0.0005)\n",
    "  argparser.add_argument('--epochs', type=int, default=40)\n",
    "  argparser.add_argument('--node_type', type=str, default='paper')\n",
    "  argparser.add_argument('--edge_type', type=str, default='cites')\n",
    "  return argparser.parse_args()\n",
    "args = parse_args()\n",
    "\n",
    "def supervised_loss(logits, labels):\n",
    "  loss = tf.nn.sparse_softmax_cross_entropy_with_logits(\n",
    "      labels=labels, logits=logits)\n",
    "  return tf.reduce_mean(loss)\n",
    "\n",
    "def accuracy(logits, labels):\n",
    "  indices = tf.math.argmax(logits, 1, output_type=tf.int32)\n",
    "  correct = tf.reduce_sum(tf.cast(tf.math.equal(indices, labels), tf.float32))\n",
    "  return correct / tf.cast(tf.shape(labels)[0], tf.float32)\n",
    "\n",
    "# Define Model\n",
    "dims = [args.features_num] + [args.hidden_dim] * (args.hops_num - 1) \\\n",
    "    + [args.class_num]\n",
    "model = EgoGraphSAGE(dims,\n",
    "                    agg_type=args.agg_type,\n",
    "                    act_func=tf.nn.relu,\n",
    "                    dropout=args.in_drop_rate)\n",
    "\n",
    "# prepare train dataset\n",
    "train_data = EgoSAGESupervisedDataLoader(lg, gl.Mask.TRAIN, 'random', args.train_batch_size,\n",
    "                                        node_type=args.node_type, edge_type=args.edge_type,\n",
    "                                        nbrs_num=args.nbrs_num, hops_num=args.hops_num)\n",
    "train_embedding = model.forward(train_data.src_ego)\n",
    "loss = supervised_loss(train_embedding, train_data.src_ego.src.labels)\n",
    "optimizer = tf.train.AdamOptimizer(learning_rate=args.learning_rate)\n",
    "\n",
    "# prepare test dataset\n",
    "test_data = EgoSAGESupervisedDataLoader(lg, gl.Mask.TEST, 'random', args.test_batch_size,\n",
    "                                        node_type=args.node_type, edge_type=args.edge_type,\n",
    "                                        nbrs_num=args.nbrs_num, hops_num=args.hops_num)\n",
    "test_embedding = model.forward(test_data.src_ego)\n",
    "test_acc = accuracy(test_embedding, test_data.src_ego.src.labels)"
   ]
  },
  {
   "cell_type": "markdown",
   "metadata": {},
   "source": [
    "Now we can start the training and testing process:"
   ]
  },
  {
   "cell_type": "code",
   "execution_count": null,
   "metadata": {},
   "outputs": [],
   "source": [
    "# train and test\n",
    "trainer = LocalTrainer()\n",
    "trainer.train(train_data.iterator, loss, optimizer, epochs=args.epochs)\n",
    "trainer.test(test_data.iterator, test_acc)"
   ]
  }
 ],
 "metadata": {
  "kernelspec": {
   "display_name": "Python 3",
   "language": "python",
   "name": "python3"
  },
  "language_info": {
   "codemirror_mode": {
    "name": "ipython",
    "version": 3
   },
   "file_extension": ".py",
   "mimetype": "text/x-python",
   "name": "python",
   "nbconvert_exporter": "python",
   "pygments_lexer": "ipython3",
   "version": "3.8.5"
  }
 },
 "nbformat": 4,
 "nbformat_minor": 4
}
