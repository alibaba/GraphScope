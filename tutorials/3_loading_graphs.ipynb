{
 "cells": [
  {
   "cell_type": "markdown",
   "metadata": {},
   "source": [
    "# Loading Graphs"
   ]
  },
  {
   "cell_type": "markdown",
   "metadata": {},
   "source": [
    "In addition to the NetworkX compatible APIs, GraphScope proposed a set of APIs in Python \n",
    "to meet the needs for loading/analysing/quering very large graphs.\n",
    "\n",
    "GraphScope models graph data as [property graphs](https://github.com/tinkerpop/blueprints/wiki/Property-Graph-Model), in which the edges/vertices are labeled and have many properties. In this tutorial, we show how GraphScope load graphs, including\n",
    "\n",
    "- How to load  a built-in dataset quickly;\n",
    "- How to define the schema of a property graph;\n",
    "- Loading graph from various locations;\n",
    "- Serializing/Deserializing a graph to/from disk.\n"
   ]
  },
  {
   "cell_type": "markdown",
   "metadata": {},
   "source": [
    "## Prerequisite\n",
    "\n",
    "First, we launch a session and import necessary packages."
   ]
  },
  {
   "cell_type": "code",
   "execution_count": null,
   "metadata": {},
   "outputs": [],
   "source": [
    "# Install graphscope package if you are NOT in the Playground\n",
    "!pip3 install graphscope"
   ]
  },
  {
   "cell_type": "code",
   "execution_count": null,
   "metadata": {},
   "outputs": [],
   "source": [
    "import graphscope\n",
    "graphscope.set_option(show_log=True)"
   ]
  },
  {
   "cell_type": "markdown",
   "metadata": {},
   "source": [
    "## Load Built-in Datasets\n",
    "\n",
    "GraphScope comes with a set of popular datasets, and utility functions to load them into memory,\n",
    "makes it easy for user to get started.\n",
    "Here's an example:"
   ]
  },
  {
   "cell_type": "code",
   "execution_count": null,
   "metadata": {},
   "outputs": [],
   "source": [
    "from graphscope.dataset import load_ldbc\n",
    "graph = load_ldbc()"
   ]
  },
  {
   "cell_type": "markdown",
   "metadata": {},
   "source": [
    "In standalone mode, it will automatically download the data to `~/.graphscope/dataset`, and it will remain in there for future usage."
   ]
  },
  {
   "cell_type": "markdown",
   "metadata": {},
   "source": [
    "## Building from scratch\n",
    "\n",
    "However, it's more common that user need to load there own data and do some analysis.\n",
    "To load a property graph to GraphScope, we provide a method ``g()`` defined in ``Session``.\n",
    "\n",
    "First, we create an empty graph.\n"
   ]
  },
  {
   "cell_type": "code",
   "execution_count": null,
   "metadata": {},
   "outputs": [],
   "source": [
    "import graphscope\n",
    "from graphscope.framework.loader import Loader\n",
    "\n",
    "graph = graphscope.g()"
   ]
  },
  {
   "cell_type": "markdown",
   "metadata": {},
   "source": [
    "The class ``Graph`` has several methods:\n",
    "\n",
    "```python\n",
    "    def add_vertices(self, vertices, label=\"_\", properties=None, vid_field=0):\n",
    "        pass\n",
    "\n",
    "    def add_edges(self, edges, label=\"_e\", properties=None, src_label=None, dst_label=None, src_field=0, dst_field=1):\n",
    "        pass\n",
    "```\n",
    "These methods helps users to construct the schema of the property graph iteratively.\n",
    "\n",
    "We will use files in `ldbc_sample` through this tutorial. You can get the files in [here](https://github.com/GraphScope/gstest/tree/master/ldbc_sample). Here in this tutorial, we have already download it to local in the previous step.\n",
    "\n",
    "And you can inspect the graph schema by using ``print(graph.schema)``.\n"
   ]
  },
  {
   "cell_type": "markdown",
   "metadata": {},
   "source": [
    "### Build Vertex\n",
    "\n",
    "We can add a kind of vertices to graph, it has the following parameters:"
   ]
  },
  {
   "cell_type": "markdown",
   "metadata": {},
   "source": [
    "#### vertices\n",
    "\n",
    "A loader for data source, which can be a file location, or a numpy, etc.\n",
    "\n",
    "A simple example:"
   ]
  },
  {
   "cell_type": "code",
   "execution_count": null,
   "metadata": {},
   "outputs": [],
   "source": [
    "graph = graphscope.g()\n",
    "graph = graph.add_vertices(Loader('~/.graphscope/datasets/ldbc_sample/person_0_0.csv', delimiter='|'))"
   ]
  },
  {
   "cell_type": "markdown",
   "metadata": {},
   "source": [
    "It will read data from the the location `~/.graphscope/datasets/ldbc_sample/person_0_0.csv`, and create a vertex label default to ``_``, use the first column as ID, and other columns are used as properties, both the names and data types of properties will be deduced.\n",
    "\n",
    "#### label\n",
    "\n",
    "The label name of the vertex, default to ``_``.\n",
    "\n",
    "There can't have two labels with the same name in a Graph, so user need to assign the name when there are two or more vertex labels. It would also have benefits if user could give every label a meaningful name. It could be any valid identifier.\n",
    "\n",
    "For example:"
   ]
  },
  {
   "cell_type": "code",
   "execution_count": null,
   "metadata": {},
   "outputs": [],
   "source": [
    "graph = graphscope.g()\n",
    "graph = graph.add_vertices(Loader('~/.graphscope/datasets/ldbc_sample/person_0_0.csv', delimiter='|'), label='person')\n"
   ]
  },
  {
   "cell_type": "markdown",
   "metadata": {},
   "source": [
    "#### properties\n",
    "\n",
    "A list of properties, Optional, default to ``None``.\n",
    "\n",
    "The names should be consistent to the header row of the source data file or column names of pandas DataFrame.  \n",
    "\n",
    "If equal to ``None`` all columns except the ``vid_field`` column will be treated as properties. If equal to empty list ``[]``, then no properties will be added. Otherwise, only mentioned columns will be loaded.\n",
    "\n",
    "For example:"
   ]
  },
  {
   "cell_type": "code",
   "execution_count": null,
   "metadata": {},
   "outputs": [],
   "source": [
    "# properties will be firstName,lastName,gender,birthday,creationDate,locationIP,browserUsed\n",
    "graph = graphscope.g()\n",
    "graph = graph.add_vertices(Loader('~/.graphscope/datasets/ldbc_sample/person_0_0.csv', delimiter='|'), label='person', properties=None)\n",
    "\n",
    "# properties will be firstName, lastName\n",
    "graph = graphscope.g()\n",
    "graph = graph.add_vertices(Loader('~/.graphscope/datasets/ldbc_sample/person_0_0.csv', delimiter='|'), label='person', properties=['firstName', 'lastName'])\n",
    "\n",
    "# no properties\n",
    "graph = graphscope.g()\n",
    "graph = graph.add_vertices(Loader('~/.graphscope/datasets/ldbc_sample/person_0_0.csv', delimiter='|'), label='person', properties=[])\n",
    "v"
   ]
  },
  {
   "cell_type": "markdown",
   "metadata": {},
   "source": [
    "#### vid_field\n",
    "\n",
    "The column used as vertex ID. The value in this column of the data source will be used for source ID or destination ID when loading edges. Default to 0.\n",
    "\n",
    "It can be a ``str``, the name of columns, or it can be a ``int``, representing the sequence in the columns.\n",
    "\n",
    "The default value will use the first column."
   ]
  },
  {
   "cell_type": "code",
   "execution_count": null,
   "metadata": {},
   "outputs": [],
   "source": [
    "graph = graphscope.g()\n",
    "graph = graph.add_vertices(Loader('~/.graphscope/datasets/ldbc_sample/person_0_0.csv', delimiter='|'), vid_field='firstName')\n",
    "\n",
    "graph = graphscope.g()\n",
    "graph = graph.add_vertices(Loader('~/.graphscope/datasets/ldbc_sample/person_0_0.csv', delimiter='|'), vid_field=0)"
   ]
  },
  {
   "cell_type": "markdown",
   "metadata": {},
   "source": [
    "### Build Edge\n",
    "\n",
    "Now we can add edges to the graph, which is a little complicate than vertices.\n",
    "\n",
    "#### edges\n",
    "\n",
    "Similar to the ``vertices`` in the ``Build Vertex`` section. It's a location indicating where to read the data.\n",
    "\n",
    "Let's see an example:\n"
   ]
  },
  {
   "cell_type": "code",
   "execution_count": null,
   "metadata": {},
   "outputs": [],
   "source": [
    "graph = graphscope.g()\n",
    "graph = graph.add_vertices(Loader('~/.graphscope/datasets/ldbc_sample/person_0_0.csv', delimiter='|'), label='person')\n",
    "# Note we already added a vertex label named 'person'.\n",
    "graph = graph.add_edges(Loader('~/.graphscope/datasets/ldbc_sample/person_knows_person_0_0.csv', delimiter='|'), src_label='person', dst_label='person')"
   ]
  },
  {
   "cell_type": "markdown",
   "metadata": {},
   "source": [
    "This will load an edge which label is ``_e`` (the default value), its source vertex and destination vertex will be ``person``, using the **first column** as the source vertex ID, the **second column** as the destination vertex ID, the others as properties.\n",
    "\n",
    "#### label\n",
    "\n",
    "The label name of the edge, default to ``_e``. It's recommended to use a meaningful label name.\n"
   ]
  },
  {
   "cell_type": "code",
   "execution_count": null,
   "metadata": {},
   "outputs": [],
   "source": [
    "graph = graphscope.g()\n",
    "graph = graph.add_vertices(Loader('~/.graphscope/datasets/ldbc_sample/person_0_0.csv', delimiter='|'), label='person')\n",
    "graph = graph.add_edges(Loader('~/.graphscope/datasets/ldbc_sample/person_knows_person_0_0.csv', delimiter='|'), label='knows', src_label='person', dst_label='person')"
   ]
  },
  {
   "cell_type": "markdown",
   "metadata": {},
   "source": [
    "#### properties\n",
    "\n",
    "A list of properties, default to None. The meaning and behavior are identical to the one of Vertex.\n",
    "\n",
    "#### src_label and dst_label\n",
    "\n",
    "The label name of the source vertex and the label name of the destination vertex. We have already seen these two in above example, where we assigned them both to 'person'. It could be different values, for example:\n"
   ]
  },
  {
   "cell_type": "code",
   "execution_count": null,
   "metadata": {},
   "outputs": [],
   "source": [
    "graph = graphscope.g()\n",
    "graph = graph.add_vertices(Loader('~/.graphscope/datasets/ldbc_sample/person_0_0.csv', delimiter='|'), label='person')\n",
    "graph = graph.add_vertices(Loader('~/.graphscope/datasets/ldbc_sample/comment_0_0.csv', delimiter='|'), label='comment')\n",
    "# Note we already added a vertex label named 'person'.\n",
    "graph = graph.add_edges(Loader('~/.graphscope/datasets/ldbc_sample/person_likes_comment_0_0.csv', delimiter='|'), label='likes', src_label='person', dst_label='comment')"
   ]
  },
  {
   "cell_type": "markdown",
   "metadata": {},
   "source": [
    "#### src_field and dst_field\n",
    "\n",
    "The columns used for source vertex id and for destination vertex id. Default to 0 and 1, respectively.\n",
    "\n",
    "The value and behavior is similar to ``vid_field`` in Vertex, except for it takes two columns as edges is constituted by source vertex id and destination vertex id. Here's an example:\n"
   ]
  },
  {
   "cell_type": "code",
   "execution_count": null,
   "metadata": {},
   "outputs": [],
   "source": [
    "graph = graphscope.g()\n",
    "graph = graph.add_vertices(Loader('~/.graphscope/datasets/ldbc_sample/person_0_0.csv', delimiter='|'), label='person')\n",
    "graph = graph.add_vertices(Loader('~/.graphscope/datasets/ldbc_sample/comment_0_0.csv', delimiter='|'), label='comment')\n",
    "graph = graph.add_edges(Loader('~/.graphscope/datasets/ldbc_sample/person_likes_comment_0_0.csv', delimiter='|'), label='likes', src_label='person', dst_label='comment', src_field='Person.id', dst_field='Comment.id')\n",
    "# Or use the index.\n",
    "# graph = graph.add_edges(Loader('~/.graphscope/datasets/ldbc_sample/person_likes_comment_0_0.csv', delimiter='|'), label='likes', src_label='person', dst_label='comment', src_field=0, dst_field=1)\n"
   ]
  },
  {
   "cell_type": "markdown",
   "metadata": {},
   "source": [
    "## Advanced techniques\n",
    "\n",
    "Here are some advanced techniques to deal with very simple graphs or very complex graphs.\n",
    "\n",
    "### Deduce vertex labels when not ambiguous\n",
    "\n",
    "If there is only one vertex label in the graph, the label of vertices can be omitted.\n",
    "GraphScope will infer the source and destination vertex label is that very label.\n"
   ]
  },
  {
   "cell_type": "code",
   "execution_count": null,
   "metadata": {},
   "outputs": [],
   "source": [
    "graph = graphscope.g()\n",
    "graph = graph.add_vertices(Loader('~/.graphscope/datasets/ldbc_sample/person_0_0.csv', delimiter='|'), label='person')\n",
    "# GraphScope will assign ``src_label`` and ``dst_label`` to ``person`` automatically.\n",
    "graph = graph.add_edges(Loader('~/.graphscope/datasets/ldbc_sample/person_knows_person_0_0.csv', delimiter='|'))\n"
   ]
  },
  {
   "cell_type": "markdown",
   "metadata": {},
   "source": [
    "### Deduce vertex from edges\n",
    "\n",
    "If user add_edges with unseen ``src_label`` or ``dst_label``, graphscope will extract an vertex table from endpoints of the edges."
   ]
  },
  {
   "cell_type": "code",
   "execution_count": null,
   "metadata": {},
   "outputs": [],
   "source": [
    "graph = graphscope.g()\n",
    "# Deduce vertex label `person` from the source and destination endpoints of edges.\n",
    "graph = graph.add_edges(Loader('~/.graphscope/datasets/ldbc_sample/person_knows_person_0_0.csv', delimiter='|'), src_label='person', dst_label='person')\n",
    "\n",
    "graph = graphscope.g()\n",
    "# Deduce the vertex label `person` from the source endpoint,\n",
    "# and vertex label `comment` from the destination endpoint of edges.\n",
    "graph = graph.add_edges(Loader('~/.graphscope/datasets/ldbc_sample/person_likes_comment_0_0.csv', delimiter='|'), label='likes', src_label='person', dst_label='comment')\n"
   ]
  },
  {
   "cell_type": "markdown",
   "metadata": {},
   "source": [
    "### Multiple relations\n",
    "\n",
    "In some cases, an edge label may connect two kinds of vertices. For example, in a\n",
    "graph, two kinds of edges are labeled with ``likes`` but represents two relations.\n",
    "i.e., ``person`` -> ``likes`` <- ``comment`` and ``person`` -> ``likes`` <- ``post``.\n",
    "\n",
    "In this case, we can simple add the relation again with the same edge label,\n",
    "but with different source and destination label.\n"
   ]
  },
  {
   "cell_type": "code",
   "execution_count": null,
   "metadata": {},
   "outputs": [],
   "source": [
    "graph = graphscope.g()\n",
    "graph = graph.add_vertices(Loader('~/.graphscope/datasets/ldbc_sample/person_0_0.csv', delimiter='|'), label='person')\n",
    "graph = graph.add_vertices(Loader('~/.graphscope/datasets/ldbc_sample/comment_0_0.csv', delimiter='|'), label='comment')\n",
    "graph = graph.add_vertices(Loader('~/.graphscope/datasets/ldbc_sample/post_0_0.csv', delimiter='|'), label='post')\n",
    "\n",
    "graph = graph.add_edges(Loader('~/.graphscope/datasets/ldbc_sample/person_likes_comment_0_0.csv', delimiter='|'),\n",
    "        label=\"likes\",\n",
    "        src_label=\"person\", dst_label=\"comment\",\n",
    "    )\n",
    "\n",
    "graph = graph.add_edges(Loader('~/.graphscope/datasets/ldbc_sample/person_likes_post_0_0.csv', delimiter='|'),\n",
    "        label=\"likes\",\n",
    "        src_label=\"person\", dst_label=\"post\",\n",
    "    )"
   ]
  },
  {
   "cell_type": "markdown",
   "metadata": {},
   "source": [
    "Note:\n",
    "\n",
    "   1. This feature(multiple relations using same edge label) is only avaiable in `lazy` mode yet.\n",
    "   2. It is worth noting that for several configurations in the side `Label`, \n",
    "      the attributes should be the same in number and type, and preferably \n",
    "      have the same name, because the data of the same `Label` will be put into one Table, \n",
    "      and the attribute names will uses the names specified by the first configuration.\n"
   ]
  },
  {
   "cell_type": "markdown",
   "metadata": {},
   "source": [
    "### Specify data types of properties manually\n",
    "\n",
    "GraphScope will deduce data types from input files, and most of the time it will work as expected.\n",
    "However, sometimes user may want more customization. To cater to the need, A additional type can follow the property name, like this:"
   ]
  },
  {
   "cell_type": "code",
   "execution_count": null,
   "metadata": {},
   "outputs": [],
   "source": [
    "graph = graphscope.g()\n",
    "graph = graph.add_vertices(Loader('~/.graphscope/datasets/ldbc_sample/post_0_0.csv', delimiter='|'), label='post', properties=['content', ('length', 'int')])"
   ]
  },
  {
   "cell_type": "markdown",
   "metadata": {},
   "source": [
    "It will force the property to cast to the type that specified, note it requires the name and the type in one tuple. in this case, the property ``length`` will have type ``int`` rather than the default ``int64_t``. The most common scenario is to use ``int``, ``int64``, ``float``, ``double``, or ``str``.\n",
    "\n",
    "\n",
    "### Other Parameters of Graph\n",
    "\n",
    "\n",
    "The class ``Graph`` has three meta options, which are:\n",
    "\n",
    "- ``oid_type``, can be ``int64_t`` or ``string``. Default to ``int64_t`` cause it's more faster and costs less memory. But if the ID column can't be represented by ``int64_t``, then we should use ``string``.\n",
    "- ``directed``, bool, default to ``True``. Controls load an directed or undirected Graph.\n",
    "- ``generate_eid``, bool, default to ``True``. Whether to automatically generate an unique id for all edges.\n",
    "\n",
    "\n",
    "## Put It Together\n",
    "\n",
    "Let make this example complete."
   ]
  },
  {
   "cell_type": "code",
   "execution_count": null,
   "metadata": {},
   "outputs": [],
   "source": [
    "graph = graphscope.g(oid_type='int64_t', directed=True, generate_eid=True)\n",
    "graph = graph.add_vertices(Loader('~/.graphscope/datasets/ldbc_sample/person_0_0.csv', delimiter='|'), label='person')\n",
    "graph = graph.add_vertices(Loader('~/.graphscope/datasets/ldbc_sample/comment_0_0.csv', delimiter='|'), label='comment')\n",
    "graph = graph.add_vertices(Loader('~/.graphscope/datasets/ldbc_sample/post_0_0.csv', delimiter='|'), label='post')\n",
    "\n",
    "graph = graph.add_edges(Loader('~/.graphscope/datasets/ldbc_sample/person_knows_person_0_0.csv', delimiter='|'), label='knows', src_label='person', dst_label='person')\n",
    "graph = graph.add_edges(Loader('~/.graphscope/datasets/ldbc_sample/person_likes_comment_0_0.csv', delimiter='|'), label='likes', src_label='person', dst_label='comment')\n",
    "graph = graph.add_edges(Loader('~/.graphscope/datasets/ldbc_sample/person_likes_post_0_0.csv', delimiter='|'), label='likes', src_label='person', dst_label='post')\n",
    "\n",
    "print(graph.schema)"
   ]
  },
  {
   "cell_type": "markdown",
   "metadata": {},
   "source": [
    "A more complex example to load LDBC snb graph can be find [here](https://github.com/alibaba/GraphScope/blob/main/python/graphscope/dataset/ldbc.py).\n",
    "\n",
    "### Load From Pandas or Numpy\n",
    "\n",
    "The datasource aforementioned is an object of :ref:`Loader`. A loader wraps\n",
    "a location or the data itself. ``graphscope`` supports load a graph\n",
    "from pandas dataframes or numpy ndarrays, makes it easy for construct a graph right in the python console.\n",
    "\n",
    "Apart from the loader, the other fields like properties, label, etc. is same as examples above.\n",
    "\n",
    "\n",
    "#### From Pandas"
   ]
  },
  {
   "cell_type": "code",
   "execution_count": null,
   "metadata": {},
   "outputs": [],
   "source": [
    "import numpy as np\n",
    "import pandas as pd\n",
    "\n",
    "leader_id = np.array([0, 0, 0, 1, 1, 3, 3, 6, 6, 6, 7, 7, 8])\n",
    "member_id = np.array([2, 3, 4, 5, 6, 6, 8, 0, 2, 8, 8, 9, 9])\n",
    "group_size = np.array([4, 4, 4, 3, 3, 3, 3, 3, 3, 3, 3, 3, 2])\n",
    "e_data = np.transpose(np.vstack([leader_id, member_id, group_size]))\n",
    "df_group = pd.DataFrame(e_data, columns=['leader_id', 'member_id', 'group_size'])"
   ]
  },
  {
   "cell_type": "code",
   "execution_count": null,
   "metadata": {},
   "outputs": [],
   "source": [
    "student_id = np.array([0, 1, 2, 3, 4, 5, 6, 7, 8, 9])\n",
    "avg_score = np.array([490.33, 164.5 , 190.25, 762. , 434.2, 513. , 569. ,  25. , 308. ,  87. ])\n",
    "v_data = np.transpose(np.vstack([student_id, avg_score]))\n",
    "df_student = pd.DataFrame(v_data, columns=['student_id', 'avg_score']).astype({'student_id': np.int64})"
   ]
  },
  {
   "cell_type": "code",
   "execution_count": null,
   "metadata": {},
   "outputs": [],
   "source": [
    "# use a dataframe as datasource, properties omitted, col_0/col_1 will be used as src/dst by default.\n",
    "# (for vertices, col_0 will be used as vertex_id by default)\n",
    "graph = graphscope.g().add_vertices(df_student).add_edges(df_group)"
   ]
  },
  {
   "cell_type": "markdown",
   "metadata": {},
   "source": [
    "#### From Numpy\n",
    "\n",
    "Note that each array is a column, we pass it like as COO matrix format to the loader.\n"
   ]
  },
  {
   "cell_type": "code",
   "execution_count": null,
   "metadata": {},
   "outputs": [],
   "source": [
    "array_group = [df_group[col].values for col in ['leader_id', 'member_id', 'group_size']]\n",
    "array_student = [df_student[col].values for col in ['student_id', 'avg_score']]\n",
    "\n",
    "graph = graphscope.g().add_vertices(array_student).add_edges(array_group)"
   ]
  },
  {
   "cell_type": "markdown",
   "metadata": {},
   "source": [
    "### Loader Variants\n",
    "\n",
    "\n",
    "When a loader wraps a location, it may only contains a str.\n",
    "The string follows the standard of URI. When receiving a request for loading graph\n",
    "from a location, ``graphscope`` will parse the URI and invoke corresponding loader\n",
    "according to the schema.\n",
    "\n",
    "Currently, ``graphscope`` supports loaders for ``local``, ``s3``, ``oss``, ``hdfs``:\n",
    "Data is loaded by [v6d](https://github.com/v6d-io/v6d) , ``v6d`` takes advantage\n",
    "of [fsspec](https://github.com/intake/filesystem_spec) to resolve specific scheme and formats.\n",
    "Any additional specific configurations can be passed in kwargs of ``Loader``, and these configurations will\n",
    "directly be passed to corresponding storage class. Like ``host`` and ``port`` to ``HDFS``, or ``access-id``, ``secret-access-key`` to ``oss`` or ``s3``.\n",
    "\n",
    "```\n",
    "\n",
    "    from graphscope.framework.loader import Loader\n",
    "\n",
    "    ds1 = Loader(\"file:///var/datafiles/group.e\")\n",
    "    ds2 = Loader(\"oss://graphscope_bucket/datafiles/group.e\", key='access-id', secret='secret-access-key', endpoint='oss-cn-hangzhou.aliyuncs.com')\n",
    "    ds3 = Loader(\"hdfs:///datafiles/group.e\", host='localhost', port='9000', extra_conf={'conf1': 'value1'})\n",
    "    d34 = Loader(\"s3://datafiles/group.e\", key='access-id', secret='secret-access-key', client_kwargs={'region_name': 'us-east-1'})\n",
    "```\n",
    "User can implement customized driver to support additional data sources. Take [ossfs](https://github.com/v6d-io/v6d/blob/main/modules/io/adaptors/ossfs.py) as an example, User need to subclass ``AbstractFileSystem``, which\n",
    "is used as resolve to specific protocol scheme, and ``AbstractBufferFile`` to do read and write.\n",
    "The only methods user need to override is ``_upload_chunk``,\n",
    "``_initiate_upload`` and ``_fetch_range``. In the end user need to use ``fsspec.register_implementation('protocol_name', 'protocol_file_system')`` to register corresponding resolver."
   ]
  },
  {
   "cell_type": "markdown",
   "metadata": {},
   "source": [
    "## Serialization and Deserialization\n",
    "When the graph is huge, it takes large amount of time(e.g., maybe hours) for the graph loadding.\n",
    "GraphScope provides serialization and deserialization for graph data, \n",
    "which dumps and load the constructed graphs in the form of binary data to(from) disk. This functions save much time, and make our lives easier. "
   ]
  },
  {
   "cell_type": "markdown",
   "metadata": {},
   "source": [
    "### Serialization\n",
    "\n",
    "`graph.save_to` takes a `path` argument, indicating the location to store the binary data. "
   ]
  },
  {
   "cell_type": "code",
   "execution_count": null,
   "metadata": {},
   "outputs": [],
   "source": [
    "graph.save_to('/tmp/seri')"
   ]
  },
  {
   "cell_type": "markdown",
   "metadata": {},
   "source": [
    "### Deserialization\n",
    "\n",
    "`graph.load_from` is a `classmethod`, its signature looks like `graph.save_to`. However, its `path` argument should be exactly the same to the `path` passed in `graph.save_to`, as it relys on naming to find the binary files. Please note that during serialization, the workers dump its own data to files with its index as suffix. Thus the number of workers for deserialization should be **exactly the same** to that for serialization.\n",
    "\n",
    "In addition, `graph.load_from` needs an extra `sess` parameter, specifying which session the graph would be deserialized in."
   ]
  },
  {
   "cell_type": "code",
   "execution_count": null,
   "metadata": {},
   "outputs": [],
   "source": [
    "from graphscope.framework.graph import Graph\n",
    "sess = graphscope.session(cluster_type='hosts')\n",
    "deserialized_graph = Graph.load_from('/tmp/seri', sess)"
   ]
  },
  {
   "cell_type": "code",
   "execution_count": null,
   "metadata": {},
   "outputs": [],
   "source": [
    "print(deserialized_graph.schema)"
   ]
  }
 ],
 "metadata": {
  "kernelspec": {
   "display_name": "Python 3",
   "language": "python",
   "name": "python3"
  },
  "language_info": {
   "codemirror_mode": {
    "name": "ipython",
    "version": 3
   },
   "file_extension": ".py",
   "mimetype": "text/x-python",
   "name": "python",
   "nbconvert_exporter": "python",
   "pygments_lexer": "ipython3",
   "version": "3.9.7"
  }
 },
 "nbformat": 4,
 "nbformat_minor": 4
}
