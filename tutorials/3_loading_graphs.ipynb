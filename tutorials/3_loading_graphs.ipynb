{
 "cells": [
  {
   "cell_type": "markdown",
   "metadata": {},
   "source": [
    "# Loading Graphs"
   ]
  },
  {
   "cell_type": "markdown",
   "metadata": {},
   "source": [
    "In addition to the NetworkX compatible APIs, GraphScope proposed a set of APIs in Python \n",
    "to meet the needs for loading/analysing/quering very large graphs.\n",
    "\n",
    "GraphScope models graph data as [property graphs](https://github.com/tinkerpop/blueprints/wiki/Property-Graph-Model), in which the edges/vertices are labeled and have many properties. In this tutorial, we show how GraphScope load graphs, including\n",
    "\n",
    "- How to define the schema of a property graph;\n",
    "- Simplified forms to load a graph;\n",
    "- Loading graph from various locations;\n",
    "- Serializing/Deserializing a graph to/from disk.\n"
   ]
  },
  {
   "cell_type": "markdown",
   "metadata": {},
   "source": [
    "## Defining the Schema\n",
    "\n",
    "First, we launch a session and import necessary packages."
   ]
  },
  {
   "cell_type": "code",
   "execution_count": null,
   "metadata": {},
   "outputs": [],
   "source": [
    "import os\n",
    "import graphscope\n",
    "from graphscope.framework.graph import Graph\n",
    "from graphscope.framework.loader import Loader\n",
    "import vineyard\n",
    "\n",
    "k8s_volumes = {\n",
    "    \"data\": {\n",
    "        \"type\": \"hostPath\",\n",
    "        \"field\": {\n",
    "          \"path\": \"/testingdata\",  # Path in host\n",
    "          \"type\": \"Directory\"\n",
    "        },\n",
    "        \"mounts\": {\n",
    "          \"mountPath\": \"/home/jovyan/datasets\",  # Path in pods\n",
    "          \"readOnly\": True\n",
    "        }\n",
    "    }\n",
    "}\n",
    "\n",
    "graphscope.set_option(show_log=True)  # enable logging\n",
    "graphscope.set_option(initializing_interactive_engine=False)\n",
    "sess = graphscope.session(k8s_volumes=k8s_volumes, k8s_etcd_mem='512Mi')  # create a session"
   ]
  },
  {
   "cell_type": "markdown",
   "metadata": {},
   "source": [
    "We use the class `Graph` to load a graph.\n",
    "In building process `Graph` will act like a builder, let user build graph iteratively, that is,\n",
    "user can add a couple of vertices, then add a couple of edges, and so on.\n",
    "\n",
    "These are the methods we will use to build a graph.\n",
    "```python\n",
    "    def add_vertices(self, vertices, label=\"_\", properties=None, vid_field=0):\n",
    "        pass\n",
    "\n",
    "    def add_edges(self, edges, label=\"_\", properties=None, src_label=None, dst_label=None, src_field=0, dst_field=1):\n",
    "        pass\n",
    "```\n",
    "\n",
    "Next, we will walk through those methods and demonstrate the usage."
   ]
  },
  {
   "cell_type": "markdown",
   "metadata": {},
   "source": [
    "### Create a graph instance\n",
    "\n",
    "We use an method `g()` defined in `Session` to create a graph."
   ]
  },
  {
   "cell_type": "code",
   "execution_count": null,
   "metadata": {},
   "outputs": [],
   "source": [
    "graph = sess.g()"
   ]
  },
  {
   "cell_type": "markdown",
   "metadata": {},
   "source": [
    "### Add vertices to the graph\n",
    "\n",
    "We first add a kind of vertices to graph.\n",
    "\n",
    "The parameters contain:\n",
    "\n",
    "- A `Loader` for data source, which can be a file location, or a numpy, etc. \n",
    "- The label name of the vertex.\n",
    "- A list of properties, the names should consistent to the header_row of the data source file or pandas. This list is optional. When use default value, all columns except the vertex_id column will be added as properties.\n",
    "- The column used as vertex_id. The value in this column of the data source will be used for src/dst when loading edges.\n",
    "\n",
    "Let's see an example."
   ]
  },
  {
   "cell_type": "code",
   "execution_count": null,
   "metadata": {},
   "outputs": [],
   "source": [
    "graph = sess.g()\n",
    "graph = graph.add_vertices(\n",
    "    # source file for vertices labeled as person;    \n",
    "    Loader(\"/home/jovyan/datasets/ldbc_sample/person_0_0.csv\", delimiter=\"|\"),\n",
    "    \"person\",\n",
    "    # columns loaded as property\n",
    "    [\"firstName\", \"lastName\"],\n",
    "    # The column used as vertex ID\n",
    "    \"id\"\n",
    ")"
   ]
  },
  {
   "cell_type": "markdown",
   "metadata": {},
   "source": [
    "\n",
    "Here the `Loader` is a object wraps how to load a data, including its location(e.g, HDFS, local fs, AmazonS3 or Aliyun OSS), column delimiter and some other metadata. In this case, the Loader assigned a file location in the mounted volume."
   ]
  },
  {
   "cell_type": "markdown",
   "metadata": {},
   "source": [
    "We can also omit certain configurations for vertices.\n",
    "\n",
    "- If the Loader contains only a url, we can omit the class, just put the url\n",
    "\n",
    "- properties can be empty list, which means that all columns are selected as properties, which is the default value;\n",
    "\n",
    "- vid_field can be represented by a number of index, which is the default value."
   ]
  },
  {
   "cell_type": "code",
   "execution_count": null,
   "metadata": {},
   "outputs": [],
   "source": [
    "graph = sess.g()\n",
    "graph = graph.add_vertices(Loader(\"/home/jovyan/datasets/ldbc_sample/person_0_0.csv\", delimiter=\"|\"), \"person\")"
   ]
  },
  {
   "cell_type": "markdown",
   "metadata": {},
   "source": [
    "- The label can be omitted if there will only be one vertex label.\n",
    "\n",
    "In the simplest case, the configuration can only contains a loader. In this case, the first column is used as vid, and the rest columns are used as properties, and the label name is '_'"
   ]
  },
  {
   "cell_type": "code",
   "execution_count": null,
   "metadata": {},
   "outputs": [],
   "source": [
    "graph = sess.g()\n",
    "graph = graph.add_vertices(Loader(\"/home/jovyan/datasets/ldbc_sample/person_0_0.csv\", delimiter=\"|\"))"
   ]
  },
  {
   "cell_type": "markdown",
   "metadata": {},
   "source": [
    "### Add edges to the graph\n",
    "\n",
    "Then we add a kind of edge to the graph.\n",
    "\n",
    "The parameter contains:\n",
    "\n",
    "- a `Loader` for data source, it tells `graphscope` where to find the data for this label, it can be a file location, or a numpy, etc.\n",
    "- The label name of the edge.\n",
    "- a list of properties, the names should consistent to the header_row of the data source file or pandas. This list is optional. When it omitted or empty, all columns except the src/dst columns will be added as properties.\n",
    "- The label name of the source vertex.\n",
    "- The label name of the destination vertex.\n",
    "- The column use for source vertex id.\n",
    "- The column used for destination vertex id."
   ]
  },
  {
   "cell_type": "code",
   "execution_count": null,
   "metadata": {},
   "outputs": [],
   "source": [
    "# a kind of edge with label \"knows\"\n",
    "graph = sess.g()\n",
    "graph = graph.add_vertices(Loader(\"/home/jovyan/datasets/ldbc_sample/person_0_0.csv\", delimiter=\"|\"), label=\"person\")\n",
    "graph = graph.add_edges(\n",
    "    # the data source, in this case, is a file location.\n",
    "    Loader(\"/home/jovyan/datasets/ldbc_sample/person_knows_person_0_0.csv\", delimiter=\"|\"),\n",
    "    # Label name\n",
    "    label=\"knows\",\n",
    "    # selected column names that would be load as properties\n",
    "    properties=[\"creationDate\"],\n",
    "    # Label name of the source vertex\n",
    "    src_label=\"person\",\n",
    "    # Label name of the destination vertex\n",
    "    dst_label=\"person\",\n",
    "    # Column name, which is the source vertex ID\n",
    "    src_field=\"Person.id\",\n",
    "    # Column name, which is the destination vertex ID\n",
    "    dst_field=\"Person.id.1\"    \n",
    ")"
   ]
  },
  {
   "cell_type": "markdown",
   "metadata": {},
   "source": [
    "Some fields can omit for edges.\n",
    "- If the `Loader` contains only a url, we can omit the class, just put the url. i.e. use default value for delimeter and header_row.\n",
    "- properties can be empty, which means to select all columns"
   ]
  },
  {
   "cell_type": "code",
   "execution_count": null,
   "metadata": {},
   "outputs": [],
   "source": [
    "graph = sess.g()\n",
    "graph = graph.add_vertices(Loader(\"/home/jovyan/datasets/ldbc_sample/person_0_0.csv\", delimiter=\"|\"), label=\"person\")\n",
    "graph = graph.add_edges(\n",
    "    Loader(\"/home/jovyan/datasets/ldbc_sample/person_knows_person_0_0.csv\", delimiter=\"|\"),\n",
    "    \"knows\",\n",
    "    src_label=\"person\",\n",
    "    dst_label=\"person\",\n",
    "    src_field=\"Person.id\",\n",
    "    dst_field=\"Person.id.1\"\n",
    ")"
   ]
  },
  {
   "cell_type": "markdown",
   "metadata": {},
   "source": [
    "Alternatively, all column names can be assigned with index. For example, the number in the src/dst assigned the first column is used as Person.id and the second column is used as Person.id.1. And the default value of src_field and dst_field is just 0 and 1, so we can just use the default value."
   ]
  },
  {
   "cell_type": "code",
   "execution_count": null,
   "metadata": {},
   "outputs": [],
   "source": [
    "graph = sess.g()\n",
    "graph = graph.add_vertices(Loader(\"/home/jovyan/datasets/ldbc_sample/person_0_0.csv\", delimiter=\"|\"), label=\"person\")\n",
    "graph = graph.add_edges(\n",
    "    Loader(\"/home/jovyan/datasets/ldbc_sample/person_knows_person_0_0.csv\", delimiter=\"|\"),\n",
    "    \"knows\",\n",
    "    src_label=\"person\",\n",
    "    dst_label=\"person\"\n",
    ")"
   ]
  },
  {
   "cell_type": "markdown",
   "metadata": {},
   "source": [
    "Also, edge source and edge destination can be omitted if the graph has only one vertex label, which means all edges relations will contain and only can contain this specific vertex label. Thus it's unambiougous to omit the source and destination specification."
   ]
  },
  {
   "cell_type": "code",
   "execution_count": null,
   "metadata": {},
   "outputs": [],
   "source": [
    "graph = sess.g()\n",
    "graph = graph.add_vertices(Loader(\"/home/jovyan/datasets/ldbc_sample/person_0_0.csv\", delimiter=\"|\"), label=\"person\")\n",
    "graph = graph.add_edges(\n",
    "    Loader(\"/home/jovyan/datasets/ldbc_sample/person_knows_person_0_0.csv\", delimiter=\"|\"),\n",
    "    \"knows\"\n",
    ")"
   ]
  },
  {
   "cell_type": "markdown",
   "metadata": {},
   "source": [
    "Moreover, the vertices can be totally omitted. GraphScope will extract vertices ids from edges, and a default label _ will assigned to all vertices in this case."
   ]
  },
  {
   "cell_type": "markdown",
   "metadata": {},
   "source": [
    "In the simplest case, the configuration can only assign a loader with path. By default, the first column will be used as Person.id, the second column will be used as Person.id.1. all the rest columns in the file are parsed as properties."
   ]
  },
  {
   "cell_type": "code",
   "execution_count": null,
   "metadata": {},
   "outputs": [],
   "source": [
    "graph = sess.g()\n",
    "graph = graph.add_edges(\n",
    "    Loader(\"/home/jovyan/datasets/ldbc_sample/person_knows_person_0_0.csv\", delimiter=\"|\"),\n",
    "    \"knows\"\n",
    ")"
   ]
  },
  {
   "cell_type": "markdown",
   "metadata": {},
   "source": [
    "In some cases, an edge label may connect several kinds of vertices. For example, in ldbc graph, two kinds of edges are labeled with **likes** but represents two relations. i.e., in a forum, people can give a **like** to both posts and comments. These relation can be abstracted as person **likes** post, and person **likes** comment. In this case, a **likes** key follows a list of configurations."
   ]
  },
  {
   "cell_type": "code",
   "execution_count": null,
   "metadata": {},
   "outputs": [],
   "source": [
    "graph = sess.g()\n",
    "graph = graph.add_vertices(Loader(\"/home/jovyan/datasets/ldbc_sample/person_0_0.csv\", delimiter=\"|\"), label=\"person\")\n",
    "graph = graph.add_vertices(Loader(\"/home/jovyan/datasets/ldbc_sample/post_0_0.csv\", delimiter=\"|\"), label=\"post\")\n",
    "graph = graph.add_vertices(Loader(\"/home/jovyan/datasets/ldbc_sample/comment_0_0.csv\", delimiter=\"|\"), label=\"comment\")\n",
    "graph = graph.add_edges(\n",
    "    Loader(\"/home/jovyan/datasets/ldbc_sample/person_likes_comment_0_0.csv\", delimiter=\"|\"),\n",
    "    \"comment\",\n",
    "    [\"creationDate\"],\n",
    "    src_label=\"person\",\n",
    "    dst_label=\"comment\"\n",
    ")\n",
    "graph = graph.add_edges(\n",
    "    Loader(\"/home/jovyan/datasets/ldbc_sample/person_likes_post_0_0.csv\", delimiter=\"|\"),\n",
    "    \"likes\",\n",
    "    [\"creationDate\"],\n",
    "    src_label=\"person\",\n",
    "    dst_label=\"post\"\n",
    ")"
   ]
  },
  {
   "cell_type": "markdown",
   "metadata": {},
   "source": [
    "Now we have a graph loaded in the graphscope, with two kind of vertice labeled with `person` and `post` and one kind of edges labeled with `knows`, with two relations. Let's check the graph schema."
   ]
  },
  {
   "cell_type": "code",
   "execution_count": null,
   "metadata": {},
   "outputs": [],
   "source": [
    "print(graph.schema)"
   ]
  },
  {
   "cell_type": "markdown",
   "metadata": {},
   "source": [
    "The graph also have some meta parameters, listed as follows:\n",
    "\n",
    "- `oid_type`, can be `int64_t` or `string`. Default to `int64_t` cause it's more faster and costs less memory.\n",
    "- `directed`, bool, default to `True`. Controls load an directed or undirected Graph.\n",
    "- `generate_eid`, bool, default to `True`. Whether to automatically generate an unique id for all edges.\n"
   ]
  },
  {
   "cell_type": "markdown",
   "metadata": {},
   "source": [
    "Let's try to use the skills to load a graph with more complexity."
   ]
  },
  {
   "cell_type": "code",
   "execution_count": null,
   "metadata": {},
   "outputs": [],
   "source": [
    "graph = (\n",
    "    sess.g()\n",
    "    .add_vertices(Loader(\"/home/jovyan/datasets/ldbc_sample/person_0_0.csv\", delimiter=\"|\"), \"person\")\n",
    "    .add_vertices(Loader(\"/home/jovyan/datasets/ldbc_sample/comment_0_0.csv\", delimiter=\"|\"), \"comment\")\n",
    "    .add_vertices(Loader(\"/home/jovyan/datasets/ldbc_sample/post_0_0.csv\", delimiter=\"|\"), \"post\")\n",
    "    .add_edges(Loader(\"/home/jovyan/datasets/ldbc_sample/person_knows_person_0_0.csv\", delimiter=\"|\"),\n",
    "              \"knows\", src_label=\"person\", dst_label=\"person\")\n",
    "    .add_edges(Loader(\"/home/jovyan/datasets/ldbc_sample/person_likes_comment_0_0.csv\", delimiter=\"|\"),\n",
    "              \"likes\", src_label=\"person\", dst_label=\"comment\")\n",
    "    .add_edges(Loader(\"/home/jovyan/datasets/ldbc_sample/person_likes_post_0_0.csv\", delimiter=\"|\"),\n",
    "              \"likes\", src_label=\"person\", dst_label=\"post\")\n",
    "\n",
    ")\n",
    "\n",
    "print(graph.schema)"
   ]
  },
  {
   "cell_type": "markdown",
   "metadata": {},
   "source": [
    "## Serialization and Deserialization"
   ]
  },
  {
   "cell_type": "markdown",
   "metadata": {},
   "source": [
    "When the graph is huge, it takes large amount of time(e.g., maybe hours) for the graph loadding.\n",
    "GraphScope provides serialization and deserialization for graph data, \n",
    "which dumps and load the constructed graphs in the form of binary data to(from) disk. This functions save much time, and make our lives easier. "
   ]
  },
  {
   "cell_type": "markdown",
   "metadata": {},
   "source": [
    "### Serialization\n",
    "\n",
    "`graph.save_to` takes a `path` argument, indicating the location to store the binary data. "
   ]
  },
  {
   "cell_type": "code",
   "execution_count": null,
   "metadata": {},
   "outputs": [],
   "source": [
    "graph.save_to('/tmp/seri')"
   ]
  },
  {
   "cell_type": "markdown",
   "metadata": {},
   "source": [
    "### Deserialization\n",
    "\n",
    "`graph.load_from` is a `classmethod`, its signature looks like `graph.save_to`. However, its `path` argument should be exactly the same to the `path` passed in `graph.save_to`, as it relys on naming to find the binary files. Please note that during serialization, the workers dump its own data to files with its index as suffix. Thus the number of workers for deserialization should be **exactly the same** to that for serialization.\n",
    "\n",
    "In addition, `graph.load_from` needs an extra `sess` parameter, specifying which session the graph would be deserialized in."
   ]
  },
  {
   "cell_type": "code",
   "execution_count": null,
   "metadata": {},
   "outputs": [],
   "source": [
    "deserialized_graph = Graph.load_from('/tmp/seri', sess)"
   ]
  },
  {
   "cell_type": "code",
   "execution_count": null,
   "metadata": {},
   "outputs": [],
   "source": [
    "print(deserialized_graph.schema)"
   ]
  },
  {
   "cell_type": "markdown",
   "metadata": {},
   "source": [
    "## Loading From Various Locations\n",
    "\n",
    "A `Loader` defines how to load data, including its location, metadata, and other configurations. Graphscope supports specifying the location in a `str`, which follows the standard of URI. Upon receiving a request from a Loader, GraphScope parse the URI string and invoke corresponding drivers in `vineyard` according to the parsed schema. Currently, the location supports local file system, Amazon S3, Aliyun OSS， HDFS and URL on the web.\n",
    "\n",
    "In addition, pandas dataframes or numpy ndarrays in specified format are also supported.\n",
    "\n",
    "The data loading is managed by `vineyard`. `vineyard` takes advantage of `fsspec` to resolve schemes and formats. Any additional configurations can be passed in kwargs to Loader, for example, the host and port to HDFS, or access-id, secret-access-key to AliyunOSS or Amazon S3."
   ]
  },
  {
   "cell_type": "markdown",
   "metadata": {},
   "source": [
    "### Graphs from Location\n",
    "\n",
    "When a loader wraps a location, it may only contains a str. The string follows the standard of URI. \n",
    "\n"
   ]
  },
  {
   "cell_type": "code",
   "execution_count": null,
   "metadata": {},
   "outputs": [],
   "source": [
    "ds1 = Loader(\"file:///var/datafiles/edgefile.e\")"
   ]
  },
  {
   "cell_type": "markdown",
   "metadata": {},
   "source": [
    "To load data from S3, users need to provide the `key` and the `secret`. Besides, additional arguments can be passed by `client_kwargs`, e.g., `region_name` of bucket."
   ]
  },
  {
   "cell_type": "code",
   "execution_count": null,
   "metadata": {},
   "outputs": [],
   "source": [
    "ds2 = Loader(\"s3://bucket/datafiles/edgefile.e\", key='access-id', secret='secret-access-key', client_kwargs={'region_name': 'us-east-1'})"
   ]
  },
  {
   "cell_type": "markdown",
   "metadata": {},
   "source": [
    "To load data from Aliyun OSS, users need to provide `key`, `secret`, and `endpoint` of the bucket."
   ]
  },
  {
   "cell_type": "code",
   "execution_count": null,
   "metadata": {},
   "outputs": [],
   "source": [
    "ds3 = Loader(\"oss://bucket/datafiles/edgefile.e\", key='access-id', secret='secret-access-key', endpoint='oss-cn-hangzhou.aliyuncs.com')"
   ]
  },
  {
   "cell_type": "markdown",
   "metadata": {},
   "source": [
    "To load data from HDFS, user need to provide `host` and `port`, extra configurations can be specified by `extra_conf`."
   ]
  },
  {
   "cell_type": "code",
   "execution_count": null,
   "metadata": {},
   "outputs": [],
   "source": [
    "ds4 = Loader(\"hdfs:///var/datafiles/edgefile.e\", host='localhost', port='9000', extra_conf={'conf1': 'value1'})"
   ]
  },
  {
   "cell_type": "markdown",
   "metadata": {},
   "source": [
    "Let's see how to load a graph from Amazon S3 as an real example."
   ]
  },
  {
   "cell_type": "code",
   "execution_count": null,
   "metadata": {},
   "outputs": [],
   "source": [
    "graph = sess.g()\n",
    "graph = graph.add_vertices(\n",
    "    Loader(\"s3://datasets/ldbc_sample/person_0_0.csv\", delimiter=\"|\", key='testing', secret='testing', client_kwargs={\n",
    "                    \"endpoint_url\": \"http://192.168.0.222:5000\"\n",
    "                }),\n",
    "    \"person\"\n",
    ")\n",
    "graph = graph.add_edges(\n",
    "    Loader(\"s3://datasets/ldbc_sample/person_knows_person_0_0.csv\", delimiter=\"|\", key='testing', secret='testing', client_kwargs={\n",
    "                    \"endpoint_url\": \"http://192.168.0.222:5000\"\n",
    "                }),\n",
    "    \"knows\"\n",
    ")\n",
    "\n",
    "print(graph)\n",
    "print(graph.schema)"
   ]
  },
  {
   "cell_type": "markdown",
   "metadata": {},
   "source": [
    "### Load Graphs from Numpy and Pandas\n",
    "\n",
    "For pandas, the dataframe's format is like in csv files.\n",
    "Note we currently only supports integer or double data types."
   ]
  },
  {
   "cell_type": "code",
   "execution_count": null,
   "metadata": {},
   "outputs": [],
   "source": [
    "import numpy as np\n",
    "import pandas as pd"
   ]
  },
  {
   "cell_type": "code",
   "execution_count": null,
   "metadata": {},
   "outputs": [],
   "source": [
    "leader_id = np.array([0, 0, 0, 1, 1, 3, 3, 6, 6, 6, 7, 7, 8])\n",
    "member_id = np.array([2, 3, 4, 5, 6, 6, 8, 0, 2, 8, 8, 9, 9])\n",
    "group_size = np.array([4, 4, 4, 3, 3, 3, 3, 3, 3, 3, 3, 3, 2])\n",
    "e_data = np.transpose(np.vstack([leader_id, member_id, group_size]))\n",
    "df_group = pd.DataFrame(e_data, columns=['leader_id', 'member_id', 'group_size'])"
   ]
  },
  {
   "cell_type": "code",
   "execution_count": null,
   "metadata": {},
   "outputs": [],
   "source": [
    "student_id = np.array([0, 1, 2, 3, 4, 5, 6, 7, 8, 9])\n",
    "avg_score = np.array([490.33, 164.5 , 190.25, 762. , 434.2, 513. , 569. ,  25. , 308. ,  87. ])\n",
    "v_data = np.transpose(np.vstack([student_id, avg_score]))\n",
    "df_student = pd.DataFrame(v_data, columns=['student_id', 'avg_score']).astype({'student_id': np.int64})"
   ]
  },
  {
   "cell_type": "code",
   "execution_count": null,
   "metadata": {},
   "outputs": [],
   "source": [
    "# use a dataframe as datasource, properties omitted, col_0/col_1 will be used as src/dst by default.\n",
    "# (for vertices, col_0 will be used as vertex_id by default)\n",
    "graph = sess.g().add_vertices(df_student).add_edges(df_group)"
   ]
  },
  {
   "cell_type": "markdown",
   "metadata": {},
   "source": [
    "For numpy, load from ndarrays require the data are organized in COO format."
   ]
  },
  {
   "cell_type": "code",
   "execution_count": null,
   "metadata": {},
   "outputs": [],
   "source": [
    "array_group = [df_group[col].values for col in ['leader_id', 'member_id', 'group_size']]\n",
    "array_student = [df_student[col].values for col in ['student_id', 'avg_score']]\n",
    "\n",
    "graph = sess.g().add_vertices(array_student).add_edges(array_group)"
   ]
  },
  {
   "cell_type": "markdown",
   "metadata": {},
   "source": [
    "Finally, close the session to release all resources."
   ]
  },
  {
   "cell_type": "code",
   "execution_count": null,
   "metadata": {},
   "outputs": [],
   "source": [
    "sess.close()"
   ]
  }
 ],
 "metadata": {
  "kernelspec": {
   "display_name": "Python 3",
   "language": "python",
   "name": "python3"
  },
  "language_info": {
   "codemirror_mode": {
    "name": "ipython",
    "version": 3
   },
   "file_extension": ".py",
   "mimetype": "text/x-python",
   "name": "python",
   "nbconvert_exporter": "python",
   "pygments_lexer": "ipython3",
   "version": "3.7.9"
  }
 },
 "nbformat": 4,
 "nbformat_minor": 4
}