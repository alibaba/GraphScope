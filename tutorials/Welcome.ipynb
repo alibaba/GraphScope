{
 "cells": [
  {
   "cell_type": "markdown",
   "metadata": {},
   "source": [
    "# Welcome to GraphScope Playground"
   ]
  },
  {
   "cell_type": "markdown",
   "metadata": {},
   "source": [
    "Try GraphScope directly in your browser! \n",
    "\n",
    "Let's get started with printing \"Hello World\" in Python, just hover the mouse over [ ] and press the play button to the upper left. Or press Shift-Enter to execute.\n"
   ]
  },
  {
   "cell_type": "code",
   "execution_count": null,
   "metadata": {},
   "outputs": [],
   "source": [
    "print(\"hello world\")"
   ]
  },
  {
   "cell_type": "markdown",
   "metadata": {},
   "source": [
    "Next, let's import *GraphScope* and have fun! Please note that if you are in the GraphScope Playground, the `graphscope` package is \n",
    "preinstalled. Otherwise, you may want to install the package first.\n",
    "\n",
    "During the tutorials, you may create new python files. Please note, **ONLY** the files in the `Workspace` folder will be preserved after session ends."
   ]
  },
  {
   "cell_type": "code",
   "execution_count": null,
   "metadata": {},
   "outputs": [],
   "source": [
    "# run this code, if you are NOT in the GraphScope Playground.\n",
    "!pip install graphscope"
   ]
  },
  {
   "cell_type": "code",
   "execution_count": null,
   "metadata": {},
   "outputs": [],
   "source": [
    "import graphscope\n",
    "\n",
    "graphscope.__version__"
   ]
  },
  {
   "cell_type": "markdown",
   "metadata": {},
   "source": [
    "We provides a set of tutorials you can go through the GraphScope."
   ]
  },
  {
   "cell_type": "markdown",
   "metadata": {},
   "source": [
    "## Tutorials\n",
    "\n",
    "* [01. Node Classification on citation network](./01_node_classification_on_citation_network.ipynb)\n",
    "* [02. Graph Manipulations with NetowrkX Compatible APIs](./02_graph_manipulations_with_networkx_compatible_apis.ipynb)\n",
    "* [03. Run GraphScope like NetworkX](./03_run_graphscope_like_networkx.ipynb)\n",
    "* [04. Loading Graphs](./04_loading_graphs.ipynb)\n",
    "* [05. Built-in Analytical Algorithms](./05_builtin_analytical_algorithms.ipynb)\n",
    "* [06. Writing Your Own Algorithms](./06_writing_your_own_algorithms.ipynb)\n",
    "* [07. Interactive Query with Gremlin](./07_interactive_query_with_gremlin.ipynb)\n",
    "* [08. Unsupervised Learning with GraphSAGE](./08_unsupervised_learning_with_graphsage.ipynb)\n",
    "* [09. Supervised Learning with GraphSAGE](./09_supervised_learning_with_graphsage.ipynb)\n",
    "* [10. Revisit Classification on Citation Network on K8s](./10_revisit_classification_on_citation_network_on_k8s.ipynb)"
   ]
  }
 ],
 "metadata": {
  "kernelspec": {
   "display_name": "Python 3",
   "language": "python",
   "name": "python3"
  },
  "language_info": {
   "codemirror_mode": {
    "name": "ipython",
    "version": 3
   },
   "file_extension": ".py",
   "mimetype": "text/x-python",
   "name": "python",
   "nbconvert_exporter": "python",
   "pygments_lexer": "ipython3",
   "version": "3.8.5"
  }
 },
 "nbformat": 4,
 "nbformat_minor": 4
}
