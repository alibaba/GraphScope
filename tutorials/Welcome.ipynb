{
 "cells": [
  {
   "cell_type": "markdown",
   "metadata": {},
   "source": [
    "# Welcome to GraphScope Playground"
   ]
  },
  {
   "cell_type": "markdown",
   "metadata": {},
   "source": [
    "Try GraphScope directly in your browser! \n",
    "\n",
    "Let's get started with printing \"Hello World\" in Python, just hover the mouse over [ ] and press the play button to the upper left. Or press Shift-Enter to execute.\n"
   ]
  },
  {
   "cell_type": "code",
   "execution_count": 1,
   "metadata": {},
   "outputs": [
    {
     "name": "stdout",
     "output_type": "stream",
     "text": [
      "hello world\n"
     ]
    }
   ],
   "source": [
    "print(\"hello world\")"
   ]
  },
  {
   "cell_type": "markdown",
   "metadata": {},
   "source": [
    "Next just import *GraphScope* and have fun! In addition, you can also create new python files. Please note, **ONLY** the files in the `Workspace` folder will be preserved after session ends."
   ]
  },
  {
   "cell_type": "code",
   "execution_count": 2,
   "metadata": {},
   "outputs": [
    {
     "data": {
      "text/plain": [
       "'0.1.3'"
      ]
     },
     "execution_count": 2,
     "metadata": {},
     "output_type": "execute_result"
    }
   ],
   "source": [
    "import graphscope\n",
    "graphscope.__version__"
   ]
  },
  {
   "cell_type": "markdown",
   "metadata": {},
   "source": [
    "In this playgound, we also provides a set of tutorials you can go through."
   ]
  },
  {
   "cell_type": "markdown",
   "metadata": {},
   "source": [
    "## Tutorials\n",
    "\n",
    "* [1. How to Launch a Session](./1_how_to_launch_a_session.ipynb)\n",
    "* [2. Loading Graphs](./2_loading_graphs.ipynb)\n",
    "* [3. Built-in Analytical Algorithms](./3_builtin_analytical_algorithms.ipynb)\n",
    "* [4. Writing Your Own Algorithms](./4_writing_your_own_algorithms.ipynb)\n",
    "* [5. Interactive Query with Gremlin](./5_interactive_query_with_gremlin.ipynb)\n",
    "* [6. Unsupervised Learning with GraphSage](./6_unsupervised_learning_with_graphsage.ipynb)\n",
    "* [7. Supervised Learning with GCN](./7_supervised_learning_with_gcn.ipynb)\n",
    "* [8. A Complex Workflow: Node Classification on Citation Network](./8_node_classification_on_citation_network.ipynb)"
   ]
  }
 ],
 "metadata": {
  "kernelspec": {
   "display_name": "Python 3",
   "language": "python",
   "name": "python3"
  },
  "language_info": {
   "codemirror_mode": {
    "name": "ipython",
    "version": 3
   },
   "file_extension": ".py",
   "mimetype": "text/x-python",
   "name": "python",
   "nbconvert_exporter": "python",
   "pygments_lexer": "ipython3",
   "version": "3.8.6"
  }
 },
 "nbformat": 4,
 "nbformat_minor": 4
}