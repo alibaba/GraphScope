{
 "cells": [
  {
   "cell_type": "markdown",
   "metadata": {},
   "source": [
    "# Welcome to GraphScope Playground"
   ]
  },
  {
   "cell_type": "markdown",
   "metadata": {},
   "source": [
    "Try GraphScope directly in your browser! \n",
    "\n",
    "Let's get started with printing \"Hello World\" in Python, just hover the mouse over [ ] and press the play button to the upper left. Or press Shift-Enter to execute.\n"
   ]
  },
  {
   "cell_type": "code",
   "execution_count": null,
   "metadata": {},
   "outputs": [],
   "source": [
    "print(\"hello world\")"
   ]
  },
  {
   "cell_type": "markdown",
   "metadata": {},
   "source": [
    "Next, let's import *GraphScope* and have fun! Please note that if you are in the GraphScope Playground, the `graphscope` package is \n",
    "preinstalled. Otherwise, you may want to install the package first.\n",
    "\n",
    "During the tutorials, you may create new python files. Please note, **ONLY** the files in the `Workspace` folder will be preserved after session ends."
   ]
  },
  {
   "cell_type": "code",
   "execution_count": null,
   "metadata": {},
   "outputs": [],
   "source": [
    "# run this code, if you are NOT in the GraphScope Playground.\n",
    "!pip install graphscope"
   ]
  },
  {
   "cell_type": "code",
   "execution_count": null,
   "metadata": {},
   "outputs": [],
   "source": [
    "import graphscope\n",
    "graphscope.__version__"
   ]
  },
  {
   "cell_type": "markdown",
   "metadata": {},
   "source": [
    "We provides a set of tutorials you can go through the GraphScope."
   ]
  },
  {
   "cell_type": "markdown",
   "metadata": {},
   "source": [
    "## Tutorials\n",
    "\n",
    "* [1. Node Classification on citation network](./1_node_classification_on_citation.ipynb)\n",
    "* [2. Graph Manipulations with NetowrkX Compatible APIs](./2_graph_manipulations_with_networkx_compatible_apis.ipynb)\n",
    "* [3. Loading Graphs](./3_loading_graphs.ipynb)\n",
    "* [4. Built-in Analytical Algorithms](./4_builtin_analytical_algorithms.ipynb)\n",
    "* [5. Writing Your Own Algorithms](./5_writing_your_own_algorithms.ipynb)\n",
    "* [6. Interactive Query with Gremlin](./6_interactive_query_with_gremlin.ipynb)\n",
    "* [7. Unsupervised Learning with GraphSage](./7_unsupervised_learning_with_graphsage.ipynb)\n",
    "* [8. Supervised Learning with GCN](./8_supervised_learning_with_gcn.ipynb)\n",
    "* [9. Unsupervised Learning with Bipartite GraphSage](./9_unsupervised_learning_with_bipartite_graphsage.ipynb)\n",
    "* [10. Revisit Classification on Citation Network on K8s](./10_revisit_classification_on_citation_network_on_k8s.ipynb)"
   ]
  },
  {
   "cell_type": "code",
   "execution_count": null,
   "metadata": {},
   "outputs": [],
   "source": []
  }
 ],
 "metadata": {
  "kernelspec": {
   "display_name": "Python 3",
   "language": "python",
   "name": "python3"
  },
  "language_info": {
   "codemirror_mode": {
    "name": "ipython",
    "version": 3
   },
   "file_extension": ".py",
   "mimetype": "text/x-python",
   "name": "python",
   "nbconvert_exporter": "python",
   "pygments_lexer": "ipython3",
   "version": "3.8.5"
  }
 },
 "nbformat": 4,
 "nbformat_minor": 4
}
