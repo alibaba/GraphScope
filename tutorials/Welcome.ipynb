{
 "cells": [
  {
   "cell_type": "markdown",
   "metadata": {},
   "source": [
    "# Welcome to GraphScope Playground"
   ]
  },
  {
   "cell_type": "markdown",
   "metadata": {},
   "source": [
    "Welcome to this Playground where you will get a quick introduction to the GraphScope. This playground is powered by JupyterHub, which provides a Python development environment that runs in the browser using our computation resource as backend.\n",
    "\n",
    "For example, to print \"Hello World\", just hover the mouse over [ ] and press the play button to the upper left. Or press shift-enter to execute."
   ]
  },
  {
   "cell_type": "code",
   "execution_count": null,
   "metadata": {},
   "outputs": [],
   "source": [
    "print(\"hello world\")"
   ]
  },
  {
   "cell_type": "markdown",
   "metadata": {},
   "source": [
    "In this playgound, we provides a set of scripts to demostrate how GraphScope process graph computation tasks. You may find them in the left sidebar. The environment is well-prepared to run GraphScope with all dependences install. Just import *GraphScope* and enjoy fun!"
   ]
  },
  {
   "cell_type": "code",
   "execution_count": null,
   "metadata": {},
   "outputs": [],
   "source": [
    "import graphscope"
   ]
  },
  {
   "source": [
    "In addition, you can also create new python files. Please note, **ONLY** the files in the `Workspace` folder will be persist and be avaiable in your next login."
   ],
   "cell_type": "markdown",
   "metadata": {}
  },
  {
   "cell_type": "markdown",
   "metadata": {},
   "source": []
  },
  {
   "cell_type": "markdown",
   "metadata": {},
   "source": [
    "## Content Table\n",
    "\n",
    "* [1. How to Launch a Session](#)\n",
    "* [2. Loading Graphs](#)\n",
    "* [3. Built-in Analytical Algorithms](#)\n",
    "* [4. Writing Your Own Algorithms](#)\n",
    "* [5. Interactive Query with Gremlin](#)\n",
    "* [6. Unsupervised Learning with GraphSage](#)\n",
    "* [7. Supervised Learning with GCN](*)\n",
    "* [8. A Complex Workflow: Node Classification on Citation Network](*)"
   ]
  }
 ],
 "metadata": {
  "kernelspec": {
   "display_name": "Python 3",
   "language": "python",
   "name": "python3"
  },
  "language_info": {
   "codemirror_mode": {
    "name": "ipython",
    "version": 3
   },
   "file_extension": ".py",
   "mimetype": "text/x-python",
   "name": "python",
   "nbconvert_exporter": "python",
   "pygments_lexer": "ipython3",
   "version": "3.7.9"
  }
 },
 "nbformat": 4,
 "nbformat_minor": 4
}