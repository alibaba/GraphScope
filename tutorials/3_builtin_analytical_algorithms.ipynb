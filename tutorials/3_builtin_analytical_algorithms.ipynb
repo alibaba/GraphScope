{
 "cells": [
  {
   "cell_type": "markdown",
   "metadata": {},
   "source": [
    "# Graph Analytical Algorithms\n",
    "\n",
    "Graph analytics is widely used in real world. Many algorithms, like community detection, paths and connectivity, centrality are proven to be very useful in various businesses. \n",
    "GraphScope ships with a set of built-in algorithms, enables users easily analysis their graph data.\n",
    "\n",
    "This tutorials demostrate how to use built-in algorithms to process analytics tasks.\n"
   ]
  },
  {
   "cell_type": "markdown",
   "metadata": {},
   "source": [
    "## Preparation\n",
    "\n",
    "We start by creating a session and loading a property graph into GraphScope.\n",
    "\n",
    "Here we take a peer-to-peer dataset derived from [Gnutella peer-to-peer network, August 31 2002](http://snap.stanford.edu/data/p2p-Gnutella31.html), with generated data on vertices and edges.\n",
    "The graph data files are located in `/home/jovyan/datasets/property`."
   ]
  },
  {
   "cell_type": "code",
   "execution_count": null,
   "metadata": {},
   "outputs": [],
   "source": [
    "import graphscope\n",
    "from graphscope.framework.loader import Loader\n",
    "\n",
    "k8s_volumes = {\n",
    "    \"data\": {\n",
    "        \"type\": \"hostPath\",\n",
    "        \"field\": {\n",
    "          \"path\": \"/testingdata\",  # Path in host\n",
    "          \"type\": \"Directory\"\n",
    "        },\n",
    "        \"mounts\": {\n",
    "          \"mountPath\": \"/home/jovyan/datasets\",\n",
    "            \"readOnly\": True\n",
    "        }\n",
    "    }\n",
    "}\n",
    "\n",
    "graphscope.set_option(show_log=True)  # enable logging\n",
    "sess = graphscope.session(k8s_volumes=k8s_volumes)\n",
    "\n",
    "graph = sess.load_from(\n",
    "    edges={\n",
    "      \"knows\": Loader(\"/home/jovyan/datasets/property/p2p-31_property_e_0\", header_row=True)\n",
    "    },\n",
    "    vertices={\n",
    "      \"person\": Loader(\"/home/jovyan/datasets/property/p2p-31_property_v_0\", header_row=True)\n",
    "    },\n",
    "    directed=False,\n",
    "    generate_eid=False,\n",
    "  )"
   ]
  },
  {
   "cell_type": "markdown",
   "metadata": {},
   "source": [
    "Let's take a look at the schema of the graph."
   ]
  },
  {
   "cell_type": "code",
   "execution_count": null,
   "metadata": {},
   "outputs": [],
   "source": [
    "print(graph.schema)"
   ]
  },
  {
   "cell_type": "markdown",
   "metadata": {},
   "source": [
    "As shown above, we loaded a property graph has vertices labeled \"person\", with 2 properties ( namely \"weight\" and \"id\"), and edges labeled \"knows\" with 3 properties ( namely, \"src_label_id\", \"dst_label_id\" and \"dist\")."
   ]
  },
  {
   "cell_type": "markdown",
   "metadata": {},
   "source": [
    "## Project to Simple Graph\n",
    "\n",
    "Most graph analytical algorithms are defined on **simple graph**, which has only \n",
    "one kind of vertices and edges, edges and vertices have at most one property as its attribute.\n",
    "\n",
    "GraphScope provides a function `project_to_simple` to convert a property graph to a simple, by selecting\n",
    " one kind of label for vertices/edges, and each with one of their properties."
   ]
  },
  {
   "cell_type": "code",
   "execution_count": null,
   "metadata": {},
   "outputs": [],
   "source": [
    "simple_graph = graph.project_to_simple(v_label=\"person\", e_label=\"knows\", v_prop=None, e_prop=\"dist\")"
   ]
  },
  {
   "cell_type": "markdown",
   "metadata": {},
   "source": [
    "## Run Algorithms\n",
    "\n",
    "In the following sections, we will run several algorithms over the graph and inspect the result.\n"
   ]
  },
  {
   "cell_type": "markdown",
   "metadata": {},
   "source": [
    "### Single Source Shortest Path\n",
    "\n",
    "Algorithm `sssp` takes two arguments, a `graph`, and the `src` for query as source.\n",
    "\n",
    "In the example, we are quering the shortest path from source node id=6, over the projected subgraph in the previous step.\n",
    "\n",
    "Behind the scenes, the algorithm will codegen a compatible version for the loaded graph, and compile to a executable binary. During the process, some validation will be conduct. e.g., in this case, the sssp algorithm requires the graph has a int or double value on edges. It may take a bit longer to building the library. However, this step only take once for the same algorithm on a typed graph. "
   ]
  },
  {
   "cell_type": "code",
   "execution_count": null,
   "metadata": {},
   "outputs": [],
   "source": [
    "from graphscope import sssp\n",
    "sssp_context = sssp(simple_graph, src=6)"
   ]
  },
  {
   "cell_type": "markdown",
   "metadata": {},
   "source": [
    "After the computation, the results are distributed on the vineyard instances on the cluster.\n",
    "The returned object is a `Context`, which has several methods to retrieve or persist the results.\n",
    "\n",
    "Please refer to [Context](https://graphscope.io/docs/reference/context.html) to get more details.\n",
    "\n",
    "In this case, the results represent the shortest distance from the source node. \n",
    "We use this to fetch the results and display with its vertex id."
   ]
  },
  {
   "cell_type": "code",
   "execution_count": null,
   "metadata": {},
   "outputs": [],
   "source": [
    "sssp_context.to_dataframe(selector={'id': 'v.id', 'dist': 'r'}, vertex_range={'begin': 1, 'end': 10}).sort_values(by='id')"
   ]
  },
  {
   "cell_type": "markdown",
   "metadata": {},
   "source": [
    "Alternatively, we can save the results to local file system."
   ]
  },
  {
   "cell_type": "code",
   "execution_count": null,
   "metadata": {},
   "outputs": [],
   "source": [
    "sssp_context.output_to_client('./sssp_result.csv', selector={'id': 'v.id', 'dist': 'r'})"
   ]
  },
  {
   "cell_type": "markdown",
   "metadata": {},
   "source": [
    "You may want to take a look at the file."
   ]
  },
  {
   "cell_type": "code",
   "execution_count": null,
   "metadata": {},
   "outputs": [],
   "source": [
    "!head ./sssp_result.csv"
   ]
  },
  {
   "cell_type": "markdown",
   "metadata": {},
   "source": [
    "### PageRank\n",
    "\n",
    "PageRank may be the most famous and commonly used graph algorithm. \n",
    "Let's see how to run PageRank in GraphScope just in 2 lines."
   ]
  },
  {
   "cell_type": "code",
   "execution_count": null,
   "metadata": {},
   "outputs": [],
   "source": [
    "from graphscope import pagerank\n",
    "pr_context = pagerank(simple_graph, delta=0.85, max_round=10)"
   ]
  },
  {
   "cell_type": "code",
   "execution_count": null,
   "metadata": {},
   "outputs": [],
   "source": [
    "pr_context.to_dataframe(selector={'id': 'v.id', 'rank': 'r'}, vertex_range={'begin': 1, 'end': 10}).sort_values(by='id')"
   ]
  },
  {
   "cell_type": "markdown",
   "metadata": {
    "jupyter": {
     "outputs_hidden": true
    }
   },
   "source": [
    "Save the results to local."
   ]
  },
  {
   "cell_type": "code",
   "execution_count": null,
   "metadata": {},
   "outputs": [],
   "source": [
    "pr_context.output_to_client('./pagerank_result.csv', selector={'id': 'v.id', 'rank': 'r'})"
   ]
  },
  {
   "cell_type": "markdown",
   "metadata": {},
   "source": [
    "### Weakly Connected Components\n",
    "\n",
    "In graph theory, a component, sometimes called a connected component, of an undirected graph is a subgraph in which any two vertices are connected to each other by paths, and which is connected to no additional vertices in the supergraph.\n",
    "\n",
    "Algorithm weakly connected components (WCC) determines the weakly connected component each vertex belongs to.\n"
   ]
  },
  {
   "cell_type": "code",
   "execution_count": null,
   "metadata": {},
   "outputs": [],
   "source": [
    "from graphscope import wcc\n",
    "wcc_context = wcc(simple_graph)\n",
    "wcc_context.to_dataframe(selector={'id': 'v.id', 'cc': 'r'}, vertex_range={'begin': 1, 'end': 10}).sort_values(by='id')"
   ]
  },
  {
   "cell_type": "markdown",
   "metadata": {},
   "source": [
    "For more analytical algorithms, please check [Builtin algorithms](https://graphscope.io/docs/analytics_engine.html#built-in-algorithms) and try something new.\n",
    "\n",
    "Finally, close session to release resources."
   ]
  },
  {
   "cell_type": "code",
   "execution_count": null,
   "metadata": {},
   "outputs": [],
   "source": [
    "sess.close()"
   ]
  }
 ],
 "metadata": {
  "kernelspec": {
   "display_name": "Python 3",
   "language": "python",
   "name": "python3"
  },
  "language_info": {
   "codemirror_mode": {
    "name": "ipython",
    "version": 3
   },
   "file_extension": ".py",
   "mimetype": "text/x-python",
   "name": "python",
   "nbconvert_exporter": "python",
   "pygments_lexer": "ipython3",
   "version": "3.7.9"
  }
 },
 "nbformat": 4,
 "nbformat_minor": 4
}
